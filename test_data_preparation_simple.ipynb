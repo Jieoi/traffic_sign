{
  "nbformat": 4,
  "nbformat_minor": 0,
  "metadata": {
    "colab": {
      "provenance": [],
      "authorship_tag": "ABX9TyNAVgGpJH8fdaxttF2XgtRG",
      "include_colab_link": true
    },
    "kernelspec": {
      "name": "python3",
      "display_name": "Python 3"
    },
    "language_info": {
      "name": "python"
    }
  },
  "cells": [
    {
      "cell_type": "markdown",
      "metadata": {
        "id": "view-in-github",
        "colab_type": "text"
      },
      "source": [
        "<a href=\"https://colab.research.google.com/github/Jieoi/traffic_sign_recognition/blob/main/test_data_preparation_simple.ipynb\" target=\"_parent\"><img src=\"https://colab.research.google.com/assets/colab-badge.svg\" alt=\"Open In Colab\"/></a>"
      ]
    },
    {
      "cell_type": "markdown",
      "source": [
        "Note: This instance of Google Colab has been configured to use the standard CPU."
      ],
      "metadata": {
        "id": "BL_8FhkW9TD4"
      }
    },
    {
      "cell_type": "markdown",
      "source": [
        "Note: The code below has been configured to run on Google colab with python scripts imported from google drive. Please download the scripts from [here](https://drive.google.com/drive/folders/1nViTcpc952b0ftRGqkDBFqbSEC01t0a8). Files required including all scripts and helper files under data_preparation folder and data_augmentation folder. Alternatively, vist my github repository to [download](https://github.com/Jieoi/traffic_sign_recognition/tree/main) the scripts and helper files."
      ],
      "metadata": {
        "id": "w920nKGH9QHw"
      }
    },
    {
      "cell_type": "markdown",
      "source": [
        "<h2>3. Preparation of testing data using simple filters</h2>"
      ],
      "metadata": {
        "id": "soK9Te4VKvz_"
      }
    },
    {
      "cell_type": "markdown",
      "source": [
        "Some libraries are used in this notebook"
      ],
      "metadata": {
        "id": "hvGK6CSO98sN"
      }
    },
    {
      "cell_type": "code",
      "source": [
        "# Sytem handling\n",
        "import os\n",
        "import shutil\n",
        "import sys\n",
        "\n",
        "# Data handling\n",
        "import pandas as pd\n",
        "import numpy as np\n",
        "\n",
        "# Data visualization\n",
        "import matplotlib.pyplot as plt\n",
        "\n",
        "# Image handling\n",
        "import cv2\n",
        "\n",
        "# Zip files handling\n",
        "import zipfile"
      ],
      "metadata": {
        "id": "kJ55aX3cKLaJ"
      },
      "execution_count": 3,
      "outputs": []
    },
    {
      "cell_type": "markdown",
      "source": [
        "Similar to there colab instances, mount Google Drive to access the data stored in Google Drive."
      ],
      "metadata": {
        "id": "qTmxcSIS-Bx5"
      }
    },
    {
      "cell_type": "code",
      "source": [
        "from google.colab import drive\n",
        "\n",
        "# Mount Google Drive\n",
        "drive.mount('drive', force_remount=True)"
      ],
      "metadata": {
        "colab": {
          "base_uri": "https://localhost:8080/"
        },
        "id": "J1f-iAHGKQJP",
        "outputId": "8fa7b038-e518-4abd-c1e7-071becee867e"
      },
      "execution_count": 1,
      "outputs": [
        {
          "output_type": "stream",
          "name": "stdout",
          "text": [
            "Mounted at drive\n"
          ]
        }
      ]
    },
    {
      "cell_type": "markdown",
      "source": [
        "<h2>3.1 Data extraction</h2>"
      ],
      "metadata": {
        "id": "LNM3Hgz6OlVL"
      }
    },
    {
      "cell_type": "markdown",
      "source": [
        "As the getFile.py and getData.py were already tested in section 1 when extracting training data, they will be directly imported here."
      ],
      "metadata": {
        "id": "aMYexhn1-kOk"
      }
    },
    {
      "cell_type": "code",
      "source": [
        "# Define the path to the getFile.py script\n",
        "script_path = 'drive/MyDrive/final/data_preparation/getFile.py'\n",
        "\n",
        "# Add the script directory to sys.path to import the module\n",
        "script_dir = os.path.dirname(script_path)\n",
        "sys.path.append(script_dir)"
      ],
      "metadata": {
        "id": "YpC7GKgYK8-2"
      },
      "execution_count": 4,
      "outputs": []
    },
    {
      "cell_type": "markdown",
      "source": [
        "Extract the data from the zip file using getFile.py"
      ],
      "metadata": {
        "id": "HxiHRGKp-80t"
      }
    },
    {
      "cell_type": "code",
      "source": [
        "# Import the extract_zip_to_directory function from getFile.py\n",
        "from getFile import extract_zip_to_directory\n",
        "\n",
        "# Define file paths\n",
        "root_path = 'drive/MyDrive'\n",
        "zip_filename = os.path.join(root_path, 'GTSRB/GTSRB.zip')\n",
        "extract_dir = \"GTSRB\"\n",
        "\n",
        "# Call the function\n",
        "extract_zip_to_directory(zip_filename, extract_dir)"
      ],
      "metadata": {
        "colab": {
          "base_uri": "https://localhost:8080/"
        },
        "id": "pReT99E7MqA4",
        "outputId": "0c5fcf11-f93f-4250-ef23-4ab14897e52e"
      },
      "execution_count": 5,
      "outputs": [
        {
          "output_type": "stream",
          "name": "stdout",
          "text": [
            "Extraction complete.\n"
          ]
        }
      ]
    },
    {
      "cell_type": "markdown",
      "source": [
        "\n",
        "Test data and their corresponding labels (ground truth) where obtained from the folders using the getData.py\n"
      ],
      "metadata": {
        "id": "obCyLliLOslV"
      }
    },
    {
      "cell_type": "code",
      "source": [
        "# Assign the paths\n",
        "ground_truth = os.path.join(extract_dir, 'GTSRB', 'GTSRB_Final_Test_GT', 'GT-final_test.csv')\n",
        "test_directory = os.path.join(extract_dir, 'GTSRB', 'GTSRB_Final_Test_Images', 'GTSRB', 'Final_Test', 'Images')\n",
        "\n",
        "print(\"ground_truth:\", ground_truth)\n",
        "print(\"test_directory:\", test_directory)"
      ],
      "metadata": {
        "colab": {
          "base_uri": "https://localhost:8080/"
        },
        "id": "pTbDs91BMsNi",
        "outputId": "4cdc86ef-d643-4d64-cb4a-663668e0d7b0"
      },
      "execution_count": 6,
      "outputs": [
        {
          "output_type": "stream",
          "name": "stdout",
          "text": [
            "ground_truth: GTSRB/GTSRB/GTSRB_Final_Test_GT/GT-final_test.csv\n",
            "test_directory: GTSRB/GTSRB/GTSRB_Final_Test_Images/GTSRB/Final_Test/Images\n"
          ]
        }
      ]
    },
    {
      "cell_type": "code",
      "source": [
        "# Define the path to the getFile.py script\n",
        "script_path = 'drive/MyDrive/final/data_preparation/getData.py'\n",
        "\n",
        "# Add the script directory to sys.path to import the module\n",
        "script_dir = os.path.dirname(script_path)\n",
        "sys.path.append(script_dir)\n",
        "\n",
        "import getData"
      ],
      "metadata": {
        "id": "YvEk50IYNaGj"
      },
      "execution_count": 7,
      "outputs": []
    },
    {
      "cell_type": "code",
      "source": [
        "images = getData.load_testing_images(test_directory)\n",
        "labels = getData.load_ground_truth(ground_truth)"
      ],
      "metadata": {
        "colab": {
          "base_uri": "https://localhost:8080/"
        },
        "id": "nlyciVvFQdhH",
        "outputId": "3953ca66-6d93-4d49-957e-4fe6eccdb8d4"
      },
      "execution_count": 8,
      "outputs": [
        {
          "output_type": "stream",
          "name": "stdout",
          "text": [
            "Skipping file: GTSRB/GTSRB/GTSRB_Final_Test_Images/GTSRB/Final_Test/Images/GT-final_test.test.csv\n",
            "Loaded 12630 test images in 0.8461687564849854 seconds.\n"
          ]
        }
      ]
    },
    {
      "cell_type": "markdown",
      "source": [
        "<h2> 3.2 Simple statictics</h2>"
      ],
      "metadata": {
        "id": "Q2nIRVRj_6Vr"
      }
    },
    {
      "cell_type": "markdown",
      "source": [
        "The shape of images are checked and the labels(class ID) are displayed"
      ],
      "metadata": {
        "id": "zkKc15Vo_cTi"
      }
    },
    {
      "cell_type": "code",
      "source": [
        "images.shape"
      ],
      "metadata": {
        "colab": {
          "base_uri": "https://localhost:8080/"
        },
        "id": "5Ar0b9WVTG8O",
        "outputId": "eb5127c1-9f72-4777-cb13-54b9af97eda1"
      },
      "execution_count": 17,
      "outputs": [
        {
          "output_type": "execute_result",
          "data": {
            "text/plain": [
              "(12630, 32, 32, 3)"
            ]
          },
          "metadata": {},
          "execution_count": 17
        }
      ]
    },
    {
      "cell_type": "code",
      "source": [
        "labels[\"ClassId\"]"
      ],
      "metadata": {
        "colab": {
          "base_uri": "https://localhost:8080/"
        },
        "id": "kCLncYNgT59y",
        "outputId": "ffcf5777-ead8-4eb2-9be3-3304a540b729"
      },
      "execution_count": 18,
      "outputs": [
        {
          "output_type": "execute_result",
          "data": {
            "text/plain": [
              "0        16\n",
              "1         1\n",
              "2        38\n",
              "3        33\n",
              "4        11\n",
              "         ..\n",
              "12625    12\n",
              "12626    33\n",
              "12627     6\n",
              "12628     7\n",
              "12629    10\n",
              "Name: ClassId, Length: 12630, dtype: int64"
            ]
          },
          "metadata": {},
          "execution_count": 18
        }
      ]
    },
    {
      "cell_type": "code",
      "source": [
        "class_counts = labels[\"ClassId\"].value_counts().sort_index()\n",
        "\n",
        "# Create a bar graph\n",
        "plt.figure(figsize=(12, 6))\n",
        "class_counts.plot(kind='bar')\n",
        "plt.title(\"Test data class ID entries\")\n",
        "plt.xlabel(\"ClassId\")\n",
        "plt.ylabel(\"Count\")\n",
        "plt.show()"
      ],
      "metadata": {
        "colab": {
          "base_uri": "https://localhost:8080/",
          "height": 568
        },
        "id": "kqSuwb2wAkX8",
        "outputId": "9b162546-0b3d-4577-ba53-9659f271ae20"
      },
      "execution_count": 19,
      "outputs": [
        {
          "output_type": "display_data",
          "data": {
            "text/plain": [
              "<Figure size 1200x600 with 1 Axes>"
            ],
            "image/png": "[encoded data removed]"
          },
          "metadata": {}
        }
      ]
    },
    {
      "cell_type": "markdown",
      "source": [
        "From the graph above, it was noted that the distribution of the test data is imbalanced. However, the data distribution (shape) is **similar to the original training data.**\n",
        "\n",
        "Thus, the decision is to use this data for the testing **without any data augmentation**. However, **data enhancement technices will still be used**."
      ],
      "metadata": {
        "id": "M9DE8gsRBHi5"
      }
    },
    {
      "cell_type": "markdown",
      "source": [
        "<h2> 3.3 Data Processing </h2>"
      ],
      "metadata": {
        "id": "pUAT5guJUfLF"
      }
    },
    {
      "cell_type": "markdown",
      "source": [
        "Similar to that of the training data, the data processing is done using the processing_image.py. Bicubic interpolation upscaling, histogram equalization and denoising will be used."
      ],
      "metadata": {
        "id": "3xm7W6QJB-Tf"
      }
    },
    {
      "cell_type": "code",
      "source": [
        "# Define the path to the processing_image.py script\n",
        "script_path = 'drive/MyDrive/final/data_augmentation/processing_image.py'\n",
        "\n",
        "# Add the script directory to sys.path to import the module\n",
        "script_dir = os.path.dirname(script_path)\n",
        "sys.path.append(script_dir)\n",
        "\n",
        "import processing_image"
      ],
      "metadata": {
        "id": "z0C4L2weVbFc"
      },
      "execution_count": 9,
      "outputs": []
    },
    {
      "cell_type": "code",
      "source": [
        "# surpress heartbeat stdout by the denoising function\n",
        "%%capture\n",
        "# Import the upscale_images function\n",
        "# Call the upscale_images function\n",
        "upscale_factor = 3\n",
        "upscaled_images = processing_image.upscale_images(images, upscale_factor)\n",
        "\n",
        "# Call the equalize_images function\n",
        "equalized_images = processing_image.equalize_images(upscaled_images)\n",
        "\n",
        "# Call the laplacian_smoothing function with the converted images\n",
        "denoised_images = processing_image.denoise_images_parallel(equalized_images)"
      ],
      "metadata": {
        "id": "5RvAyKWtCQjb"
      },
      "execution_count": null,
      "outputs": []
    },
    {
      "cell_type": "code",
      "source": [
        "denoised_images.shape"
      ],
      "metadata": {
        "colab": {
          "base_uri": "https://localhost:8080/"
        },
        "id": "s8AAe2-rDSX3",
        "outputId": "d27cf209-2e60-45c1-b6e1-af7019144c9a"
      },
      "execution_count": null,
      "outputs": [
        {
          "output_type": "execute_result",
          "data": {
            "text/plain": [
              "(12630, 96, 96, 3)"
            ]
          },
          "metadata": {},
          "execution_count": 13
        }
      ]
    },
    {
      "cell_type": "code",
      "source": [
        "# Display the original image, upscaled image, equalized image, denoised image, and smoothed image\n",
        "plt.figure(figsize=(16, 8))\n",
        "\n",
        "# Original Image\n",
        "plt.subplot(2, 2, 1)\n",
        "plt.imshow(images[1])\n",
        "plt.title(\"Original Image\")\n",
        "plt.axis(\"off\")\n",
        "\n",
        "# Upscaled Image\n",
        "plt.subplot(2, 2, 2)\n",
        "plt.imshow(upscaled_images[1])\n",
        "plt.title(\"Step 1: Upscaled Image\")\n",
        "plt.axis(\"off\")\n",
        "\n",
        "# Equalized Image\n",
        "plt.subplot(2, 2, 3)\n",
        "plt.imshow(equalized_images[1])\n",
        "plt.title(\"Step 2: Equalized Image\")\n",
        "plt.axis(\"off\")\n",
        "\n",
        "# Denoised Image\n",
        "plt.subplot(2, 2, 4)\n",
        "plt.imshow(denoised_images[1])\n",
        "plt.title(\"Step 3: Denoised Image\")\n",
        "plt.axis(\"off\")\n",
        "\n",
        "plt.tight_layout()\n",
        "plt.show()\n"
      ],
      "metadata": {
        "colab": {
          "base_uri": "https://localhost:8080/",
          "height": 515
        },
        "id": "mPZW9nTEIJHx",
        "outputId": "6d24b229-24b8-4fd0-b208-3e1aafd64044"
      },
      "execution_count": null,
      "outputs": [
        {
          "output_type": "display_data",
          "data": {
            "text/plain": [
              "<Figure size 1600x800 with 4 Axes>"
            ],
            "image/png": "[encoded data removed]"
          },
          "metadata": {}
        }
      ]
    },
    {
      "cell_type": "code",
      "source": [
        "# Calculate the standard deviation of pixel values\n",
        "std_dev_old = np.std(images[0])\n",
        "std_dev_processed = np.std(denoised_images[0])\n",
        "\n",
        "# Calculate the median absolute deviation (MAD) of pixel values\n",
        "median_abs_dev_old = np.median(np.abs(images[0] - np.median(images[0])))\n",
        "median_abs_dev_processed = np.median(np.abs(denoised_images[0] - np.median(denoised_images[0])))\n",
        "\n",
        "print(f\"Standard Deviation (Noise Level before processing): {std_dev_old}\")\n",
        "print(f\"Median Absolute Deviation (Noise Level before processing): {median_abs_dev_old}\")\n",
        "print(f\"Standard Deviation (Noise Level after processing): {std_dev_processed}\")\n",
        "print(f\"Median Absolute Deviation (Noise Level after processing): {median_abs_dev_processed}\")"
      ],
      "metadata": {
        "id": "G84oF-kGi_AX",
        "outputId": "f0e6e4fe-8699-4138-e924-4ec462093be8",
        "colab": {
          "base_uri": "https://localhost:8080/"
        }
      },
      "execution_count": null,
      "outputs": [
        {
          "output_type": "stream",
          "name": "stdout",
          "text": [
            "Standard Deviation (Noise Level before processing): 0.18486033380031586\n",
            "Median Absolute Deviation (Noise Level before processing): 0.11372551321983337\n",
            "Standard Deviation (Noise Level after processing): 73.33396935919428\n",
            "Median Absolute Deviation (Noise Level after processing): 64.0\n"
          ]
        }
      ]
    },
    {
      "cell_type": "markdown",
      "source": [
        "<h2>3.4 Data saving</h2>"
      ],
      "metadata": {
        "id": "t3JBjGuxI9cX"
      }
    },
    {
      "cell_type": "code",
      "source": [
        "# Define the folder path to save the images\n",
        "save_folder = \"enhanced_images\"\n",
        "os.makedirs(save_folder, exist_ok=True)\n",
        "\n",
        "# Initialize lists to store filenames and class labels\n",
        "filenames = []\n",
        "classes = []\n",
        "\n",
        "# Save augmented images to the folder\n",
        "for i, image in enumerate(denoised_images):\n",
        "    class_label = labels[\"ClassId\"].iloc[i]\n",
        "    filename = f\"{class_label}_{i}.png\"\n",
        "    file_path = os.path.join(save_folder, filename)\n",
        "    cv2.imwrite(file_path, image)\n",
        "\n",
        "    # Append filename and class to the lists\n",
        "    filenames.append(filename)\n",
        "    classes.append(class_label)"
      ],
      "metadata": {
        "id": "Y21qCgjOnedn"
      },
      "execution_count": 24,
      "outputs": []
    },
    {
      "cell_type": "code",
      "source": [
        "# Create a DataFrame to store the data\n",
        "data = {\"filename\": filenames, \"class\": classes}\n",
        "df = pd.DataFrame(data)\n",
        "\n",
        "# Save the DataFrame as a CSV file\n",
        "csv_file_path = \"labels.csv\"\n",
        "df.to_csv(csv_file_path, index=False)\n",
        "\n",
        "print(\"CSV file 'labels.csv' has been saved at:\", csv_file_path)"
      ],
      "metadata": {
        "id": "xsrTJY0JniTq",
        "colab": {
          "base_uri": "https://localhost:8080/"
        },
        "outputId": "fcf39f6e-f445-4048-d7e2-75f05799dfdc"
      },
      "execution_count": null,
      "outputs": [
        {
          "output_type": "stream",
          "name": "stdout",
          "text": [
            "CSV file 'labels.csv' has been saved at: /content/labels.csv\n"
          ]
        }
      ]
    },
    {
      "cell_type": "code",
      "source": [
        "df.head()"
      ],
      "metadata": {
        "colab": {
          "base_uri": "https://localhost:8080/",
          "height": 206
        },
        "id": "sxnfeh1h7Vmb",
        "outputId": "f1813f64-b8c1-45f2-fd14-b46cf29b9468"
      },
      "execution_count": null,
      "outputs": [
        {
          "output_type": "execute_result",
          "data": {
            "text/plain": [
              "   filename  class\n",
              "0  16_0.png     16\n",
              "1   1_1.png      1\n",
              "2  38_2.png     38\n",
              "3  33_3.png     33\n",
              "4  11_4.png     11"
            ],
            "text/html": [
              "\n",
              "  <div id=\"df-53d5e2a8-41ce-4f66-8b4d-add5504cdc76\" class=\"colab-df-container\">\n",
              "    <div>\n",
              "<style scoped>\n",
              "    .dataframe tbody tr th:only-of-type {\n",
              "        vertical-align: middle;\n",
              "    }\n",
              "\n",
              "    .dataframe tbody tr th {\n",
              "        vertical-align: top;\n",
              "    }\n",
              "\n",
              "    .dataframe thead th {\n",
              "        text-align: right;\n",
              "    }\n",
              "</style>\n",
              "<table border=\"1\" class=\"dataframe\">\n",
              "  <thead>\n",
              "    <tr style=\"text-align: right;\">\n",
              "      <th></th>\n",
              "      <th>filename</th>\n",
              "      <th>class</th>\n",
              "    </tr>\n",
              "  </thead>\n",
              "  <tbody>\n",
              "    <tr>\n",
              "      <th>0</th>\n",
              "      <td>16_0.png</td>\n",
              "      <td>16</td>\n",
              "    </tr>\n",
              "    <tr>\n",
              "      <th>1</th>\n",
              "      <td>1_1.png</td>\n",
              "      <td>1</td>\n",
              "    </tr>\n",
              "    <tr>\n",
              "      <th>2</th>\n",
              "      <td>38_2.png</td>\n",
              "      <td>38</td>\n",
              "    </tr>\n",
              "    <tr>\n",
              "      <th>3</th>\n",
              "      <td>33_3.png</td>\n",
              "      <td>33</td>\n",
              "    </tr>\n",
              "    <tr>\n",
              "      <th>4</th>\n",
              "      <td>11_4.png</td>\n",
              "      <td>11</td>\n",
              "    </tr>\n",
              "  </tbody>\n",
              "</table>\n",
              "</div>\n",
              "    <div class=\"colab-df-buttons\">\n",
              "\n",
              "  <div class=\"colab-df-container\">\n",
              "    <button class=\"colab-df-convert\" onclick=\"convertToInteractive('df-53d5e2a8-41ce-4f66-8b4d-add5504cdc76')\"\n",
              "            title=\"Convert this dataframe to an interactive table.\"\n",
              "            style=\"display:none;\">\n",
              "\n",
              "  <svg xmlns=\"http://www.w3.org/2000/svg\" height=\"24px\" viewBox=\"0 -960 960 960\">\n",
              "    <path d=\"M120-120v-720h720v720H120Zm60-500h600v-160H180v160Zm220 220h160v-160H400v160Zm0 220h160v-160H400v160ZM180-400h160v-160H180v160Zm440 0h160v-160H620v160ZM180-180h160v-160H180v160Zm440 0h160v-160H620v160Z\"/>\n",
              "  </svg>\n",
              "    </button>\n",
              "\n",
              "  <style>\n",
              "    .colab-df-container {\n",
              "      display:flex;\n",
              "      gap: 12px;\n",
              "    }\n",
              "\n",
              "    .colab-df-convert {\n",
              "      background-color: #E8F0FE;\n",
              "      border: none;\n",
              "      border-radius: 50%;\n",
              "      cursor: pointer;\n",
              "      display: none;\n",
              "      fill: #1967D2;\n",
              "      height: 32px;\n",
              "      padding: 0 0 0 0;\n",
              "      width: 32px;\n",
              "    }\n",
              "\n",
              "    .colab-df-convert:hover {\n",
              "      background-color: #E2EBFA;\n",
              "      box-shadow: 0px 1px 2px rgba(60, 64, 67, 0.3), 0px 1px 3px 1px rgba(60, 64, 67, 0.15);\n",
              "      fill: #174EA6;\n",
              "    }\n",
              "\n",
              "    .colab-df-buttons div {\n",
              "      margin-bottom: 4px;\n",
              "    }\n",
              "\n",
              "    [theme=dark] .colab-df-convert {\n",
              "      background-color: #3B4455;\n",
              "      fill: #D2E3FC;\n",
              "    }\n",
              "\n",
              "    [theme=dark] .colab-df-convert:hover {\n",
              "      background-color: #434B5C;\n",
              "      box-shadow: 0px 1px 3px 1px rgba(0, 0, 0, 0.15);\n",
              "      filter: drop-shadow(0px 1px 2px rgba(0, 0, 0, 0.3));\n",
              "      fill: #FFFFFF;\n",
              "    }\n",
              "  </style>\n",
              "\n",
              "    <script>\n",
              "      const buttonEl =\n",
              "        document.querySelector('#df-53d5e2a8-41ce-4f66-8b4d-add5504cdc76 button.colab-df-convert');\n",
              "      buttonEl.style.display =\n",
              "        google.colab.kernel.accessAllowed ? 'block' : 'none';\n",
              "\n",
              "      async function convertToInteractive(key) {\n",
              "        const element = document.querySelector('#df-53d5e2a8-41ce-4f66-8b4d-add5504cdc76');\n",
              "        const dataTable =\n",
              "          await google.colab.kernel.invokeFunction('convertToInteractive',\n",
              "                                                    [key], {});\n",
              "        if (!dataTable) return;\n",
              "\n",
              "        const docLinkHtml = 'Like what you see? Visit the ' +\n",
              "          '<a target=\"_blank\" href=https://colab.research.google.com/notebooks/data_table.ipynb>data table notebook</a>'\n",
              "          + ' to learn more about interactive tables.';\n",
              "        element.innerHTML = '';\n",
              "        dataTable['output_type'] = 'display_data';\n",
              "        await google.colab.output.renderOutput(dataTable, element);\n",
              "        const docLink = document.createElement('div');\n",
              "        docLink.innerHTML = docLinkHtml;\n",
              "        element.appendChild(docLink);\n",
              "      }\n",
              "    </script>\n",
              "  </div>\n",
              "\n",
              "\n",
              "<div id=\"df-c25df383-3e2d-46d4-a294-c3f734bf9d00\">\n",
              "  <button class=\"colab-df-quickchart\" onclick=\"quickchart('df-c25df383-3e2d-46d4-a294-c3f734bf9d00')\"\n",
              "            title=\"Suggest charts.\"\n",
              "            style=\"display:none;\">\n",
              "\n",
              "<svg xmlns=\"http://www.w3.org/2000/svg\" height=\"24px\"viewBox=\"0 0 24 24\"\n",
              "     width=\"24px\">\n",
              "    <g>\n",
              "        <path d=\"M19 3H5c-1.1 0-2 .9-2 2v14c0 1.1.9 2 2 2h14c1.1 0 2-.9 2-2V5c0-1.1-.9-2-2-2zM9 17H7v-7h2v7zm4 0h-2V7h2v10zm4 0h-2v-4h2v4z\"/>\n",
              "    </g>\n",
              "</svg>\n",
              "  </button>\n",
              "\n",
              "<style>\n",
              "  .colab-df-quickchart {\n",
              "      --bg-color: #E8F0FE;\n",
              "      --fill-color: #1967D2;\n",
              "      --hover-bg-color: #E2EBFA;\n",
              "      --hover-fill-color: #174EA6;\n",
              "      --disabled-fill-color: #AAA;\n",
              "      --disabled-bg-color: #DDD;\n",
              "  }\n",
              "\n",
              "  [theme=dark] .colab-df-quickchart {\n",
              "      --bg-color: #3B4455;\n",
              "      --fill-color: #D2E3FC;\n",
              "      --hover-bg-color: #434B5C;\n",
              "      --hover-fill-color: #FFFFFF;\n",
              "      --disabled-bg-color: #3B4455;\n",
              "      --disabled-fill-color: #666;\n",
              "  }\n",
              "\n",
              "  .colab-df-quickchart {\n",
              "    background-color: var(--bg-color);\n",
              "    border: none;\n",
              "    border-radius: 50%;\n",
              "    cursor: pointer;\n",
              "    display: none;\n",
              "    fill: var(--fill-color);\n",
              "    height: 32px;\n",
              "    padding: 0;\n",
              "    width: 32px;\n",
              "  }\n",
              "\n",
              "  .colab-df-quickchart:hover {\n",
              "    background-color: var(--hover-bg-color);\n",
              "    box-shadow: 0 1px 2px rgba(60, 64, 67, 0.3), 0 1px 3px 1px rgba(60, 64, 67, 0.15);\n",
              "    fill: var(--button-hover-fill-color);\n",
              "  }\n",
              "\n",
              "  .colab-df-quickchart-complete:disabled,\n",
              "  .colab-df-quickchart-complete:disabled:hover {\n",
              "    background-color: var(--disabled-bg-color);\n",
              "    fill: var(--disabled-fill-color);\n",
              "    box-shadow: none;\n",
              "  }\n",
              "\n",
              "  .colab-df-spinner {\n",
              "    border: 2px solid var(--fill-color);\n",
              "    border-color: transparent;\n",
              "    border-bottom-color: var(--fill-color);\n",
              "    animation:\n",
              "      spin 1s steps(1) infinite;\n",
              "  }\n",
              "\n",
              "  @keyframes spin {\n",
              "    0% {\n",
              "      border-color: transparent;\n",
              "      border-bottom-color: var(--fill-color);\n",
              "      border-left-color: var(--fill-color);\n",
              "    }\n",
              "    20% {\n",
              "      border-color: transparent;\n",
              "      border-left-color: var(--fill-color);\n",
              "      border-top-color: var(--fill-color);\n",
              "    }\n",
              "    30% {\n",
              "      border-color: transparent;\n",
              "      border-left-color: var(--fill-color);\n",
              "      border-top-color: var(--fill-color);\n",
              "      border-right-color: var(--fill-color);\n",
              "    }\n",
              "    40% {\n",
              "      border-color: transparent;\n",
              "      border-right-color: var(--fill-color);\n",
              "      border-top-color: var(--fill-color);\n",
              "    }\n",
              "    60% {\n",
              "      border-color: transparent;\n",
              "      border-right-color: var(--fill-color);\n",
              "    }\n",
              "    80% {\n",
              "      border-color: transparent;\n",
              "      border-right-color: var(--fill-color);\n",
              "      border-bottom-color: var(--fill-color);\n",
              "    }\n",
              "    90% {\n",
              "      border-color: transparent;\n",
              "      border-bottom-color: var(--fill-color);\n",
              "    }\n",
              "  }\n",
              "</style>\n",
              "\n",
              "  <script>\n",
              "    async function quickchart(key) {\n",
              "      const quickchartButtonEl =\n",
              "        document.querySelector('#' + key + ' button');\n",
              "      quickchartButtonEl.disabled = true;  // To prevent multiple clicks.\n",
              "      quickchartButtonEl.classList.add('colab-df-spinner');\n",
              "      try {\n",
              "        const charts = await google.colab.kernel.invokeFunction(\n",
              "            'suggestCharts', [key], {});\n",
              "      } catch (error) {\n",
              "        console.error('Error during call to suggestCharts:', error);\n",
              "      }\n",
              "      quickchartButtonEl.classList.remove('colab-df-spinner');\n",
              "      quickchartButtonEl.classList.add('colab-df-quickchart-complete');\n",
              "    }\n",
              "    (() => {\n",
              "      let quickchartButtonEl =\n",
              "        document.querySelector('#df-c25df383-3e2d-46d4-a294-c3f734bf9d00 button');\n",
              "      quickchartButtonEl.style.display =\n",
              "        google.colab.kernel.accessAllowed ? 'block' : 'none';\n",
              "    })();\n",
              "  </script>\n",
              "</div>\n",
              "    </div>\n",
              "  </div>\n"
            ]
          },
          "metadata": {},
          "execution_count": 21
        }
      ]
    },
    {
      "cell_type": "code",
      "source": [
        "# Specify the directory path\n",
        "folder_path = 'enhanced_images'\n",
        "\n",
        "# List all files in the directory\n",
        "file_list = os.listdir(folder_path)\n",
        "\n",
        "# Count the number of files\n",
        "num_files = len(file_list)\n",
        "\n",
        "print(f\"Number of files in the folder: {num_files}\")"
      ],
      "metadata": {
        "colab": {
          "base_uri": "https://localhost:8080/"
        },
        "id": "fdU5GeJ5KHLI",
        "outputId": "3aa714ee-c728-4b4f-e2aa-41e34907196f"
      },
      "execution_count": null,
      "outputs": [
        {
          "output_type": "stream",
          "name": "stdout",
          "text": [
            "Number of files in the folder: 12630\n"
          ]
        }
      ]
    },
    {
      "cell_type": "code",
      "source": [
        "shutil.make_archive('enhanced_images', 'zip', save_folder)\n",
        "\n",
        "# Move the zip file to Google Drive\n",
        "zip_path = 'enhanced_images.zip'\n",
        "drive_save_path = '/content/drive/MyDrive/final/test_data/test_image_simple.zip'\n",
        "shutil.move(zip_path, drive_save_path)"
      ],
      "metadata": {
        "colab": {
          "base_uri": "https://localhost:8080/",
          "height": 36
        },
        "id": "StENiVvlLYI4",
        "outputId": "06a4cc58-fb3b-4731-e4a7-4fdb5a49773d"
      },
      "execution_count": null,
      "outputs": [
        {
          "output_type": "execute_result",
          "data": {
            "text/plain": [
              "'/content/drive/MyDrive/final/test_data/test_image_simple.zip'"
            ],
            "application/vnd.google.colaboratory.intrinsic+json": {
              "type": "string"
            }
          },
          "metadata": {},
          "execution_count": 19
        }
      ]
    },
    {
      "cell_type": "code",
      "source": [
        "# Define the source CSV file path\n",
        "source_csv_path = csv_file_path\n",
        "\n",
        "# Define the destination folder in your Google Drive\n",
        "destination_folder = \"/content/drive/MyDrive/final/test_data\"\n",
        "\n",
        "# Define the new filename for the CSV file\n",
        "new_csv_filename = \"test_image_simple.csv\"\n",
        "\n",
        "# Move the CSV file to your Google Drive and rename it\n",
        "shutil.move(source_csv_path, os.path.join(destination_folder, new_csv_filename))"
      ],
      "metadata": {
        "colab": {
          "base_uri": "https://localhost:8080/",
          "height": 36
        },
        "id": "4IspMbHTMEm4",
        "outputId": "280d9afb-5959-43a1-eea7-76e178efd9a4"
      },
      "execution_count": null,
      "outputs": [
        {
          "output_type": "execute_result",
          "data": {
            "text/plain": [
              "'/content/drive/MyDrive/final/test_data/test_image_simple.csv'"
            ],
            "application/vnd.google.colaboratory.intrinsic+json": {
              "type": "string"
            }
          },
          "metadata": {},
          "execution_count": 20
        }
      ]
    }
  ]
}