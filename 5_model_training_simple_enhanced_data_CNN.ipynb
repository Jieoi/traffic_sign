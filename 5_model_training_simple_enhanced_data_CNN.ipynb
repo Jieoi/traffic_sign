{
  "nbformat": 4,
  "nbformat_minor": 0,
  "metadata": {
    "colab": {
      "provenance": [],
      "gpuType": "T4",

      "authorship_tag": "ABX9TyOJ/POElA0pRJMkWYG1FCgt",

      "include_colab_link": true
    },
    "kernelspec": {
      "name": "python3",
      "display_name": "Python 3"
    },
    "language_info": {
      "name": "python"
    },
    "accelerator": "GPU"
  },
  "cells": [
    {
      "cell_type": "markdown",
      "metadata": {
        "id": "view-in-github",
        "colab_type": "text"
      },
      "source": [
        "<a href=\"https://colab.research.google.com/github/Jieoi/traffic_sign_recognition/blob/main/5_model_training_simple_enhanced_data_CNN.ipynb\" target=\"_parent\"><img src=\"https://colab.research.google.com/assets/colab-badge.svg\" alt=\"Open In Colab\"/></a>"
      ]
    },
    {
      "cell_type": "markdown",
      "source": [
        "Note: This instance of Google Colab has been configured to use T4 GPU. It is possible to run all other sections at a slower rate on CPU."
      ],
      "metadata": {
        "id": "n4bbpXqXE-ys"
      }
    },
    {
      "cell_type": "markdown",
      "source": [
        "Note: The code below has been configured to run on Google colab with python scripts and data imported from google drive. Please download the scripts and data from [here](https://drive.google.com/drive/folders/1nViTcpc952b0ftRGqkDBFqbSEC01t0a8). Files required including all scripts and helper files under data_preparation folder and data_augmentation folder. Alternatively, vist my github repository to [download](https://github.com/Jieoi/traffic_sign_recognition/tree/main) the scripts and helper files."
      ],
      "metadata": {
        "id": "dGeJSyPpFI_t"
      }
    },
    {
      "cell_type": "markdown",
      "source": [
        "<h2> 5. Machine Learning on Simple Enhanced Images using CNN</h2>"
      ],
      "metadata": {
        "id": "a3_ZxXPtZ1zU"
      }
    },
    {
      "cell_type": "markdown",
      "source": [
        "Based on Notebook 1 [Training data preparation using simple technic](https://github.com/Jieoi/traffic_sign_recognition/blob/main/1_train_data_preparation_simple.ipynb), this notebook is used to train a CNN model on the enhanced training data.\n",
        "\n",
        "The testing data is also loaded to evaluate the models as they are being developed.\n",
        "\n",
        "The testing data is from Notebook 3 [Testing data preparation using simple technic](https://github.com/Jieoi/traffic_sign_recognition/blob/main/3_test_data_preparation_simple.ipynb).\n",
        "\n",
        "There is **no need to run the notebooks named above**, a copy of the prepared data is saved in the Google drive which will be loaded in 5.1.1."
      ],
      "metadata": {
        "id": "Jwn3ToOZZ-so"
      }
    },
    {
      "cell_type": "markdown",
      "source": [
        "<h2> 5.1 Data Preparation for Machine Learning</h2>"
      ],
      "metadata": {
        "id": "cX68P2z6KqgN"
      }
    },
    {
      "cell_type": "markdown",
      "source": [
        "Firstly, the data that were enhanced and augmented were loaded from the Google drive. As this colab instance is configured to use T4 GPU, some configuration checks are conducted to ensure the GPU is available. Libraries that are needed for machine learning were also imported."
      ],
      "metadata": {
        "id": "nqaFF_bla7G4"
      }
    },
    {
      "cell_type": "markdown",
      "source": [
        "<h2>5.1.1 Preparing the notebook</h2>"
      ],
      "metadata": {
        "id": "M5uxRK7kKx_U"
      }
    },
    {
      "cell_type": "markdown",
      "source": [
        "The first step is to connect to Google Drive so that the data enhanced in the previouse notebook can be used.\n",
        "\n",
        "The exact files that the notebook needs to  access are <code>image_enhanced_PIL_simple.zip</code> and <code>image_enhanced_simple_data.csv</code>. They can be found in the train_data and test_data folders <a href=\"https://drive.google.com/drive/folders/1nViTcpc952b0ftRGqkDBFqbSEC01t0a8\">here</a>.\n",
        "\n",
        "Ideally, the notebook should be run in Google Colab with high RAM and GPU support. However, the code can be excuted on CPU only mode with a longer training time."
      ],
      "metadata": {
        "id": "COiJJylxK30z"
      }
    },
    {
      "cell_type": "code",
      "source": [
        "# Checking GPU availability\n",
        "!nvidia-smi"
      ],
      "metadata": {
        "colab": {
          "base_uri": "https://localhost:8080/"
        },
        "id": "NKBTqdfmQUr1",
        "outputId": "ffc9cc60-1404-4090-a2b9-5e6278b73e02"
      },
      "execution_count": null,
      "outputs": [
        {
          "output_type": "stream",
          "name": "stdout",
          "text": [
            "Sat Sep  9 08:43:53 2023       \n",
            "+-----------------------------------------------------------------------------+\n",
            "| NVIDIA-SMI 525.105.17   Driver Version: 525.105.17   CUDA Version: 12.0     |\n",
            "|-------------------------------+----------------------+----------------------+\n",
            "| GPU  Name        Persistence-M| Bus-Id        Disp.A | Volatile Uncorr. ECC |\n",
            "| Fan  Temp  Perf  Pwr:Usage/Cap|         Memory-Usage | GPU-Util  Compute M. |\n",
            "|                               |                      |               MIG M. |\n",
            "|===============================+======================+======================|\n",
            "|   0  Tesla T4            Off  | 00000000:00:04.0 Off |                    0 |\n",
            "| N/A   43C    P8    10W /  70W |      0MiB / 15360MiB |      0%      Default |\n",
            "|                               |                      |                  N/A |\n",
            "+-------------------------------+----------------------+----------------------+\n",
            "                                                                               \n",
            "+-----------------------------------------------------------------------------+\n",
            "| Processes:                                                                  |\n",
            "|  GPU   GI   CI        PID   Type   Process name                  GPU Memory |\n",
            "|        ID   ID                                                   Usage      |\n",
            "|=============================================================================|\n",
            "|  No running processes found                                                 |\n",
            "+-----------------------------------------------------------------------------+\n"
          ]
        }
      ]
    },
    {
      "cell_type": "markdown",
      "source": [
        "The output above shows that the GPU is available."
      ],
      "metadata": {
        "id": "zzaa4jeubswL"
      }
    },
    {
      "cell_type": "markdown",
      "source": [
        "Google drive is also mounted to the colab instance, allowing access to the data. Relative path is used unless specified."
      ],
      "metadata": {
        "id": "BX7X2ePebv_z"
      }
    },
    {
      "cell_type": "code",
      "execution_count": null,
      "metadata": {
        "colab": {
          "base_uri": "https://localhost:8080/"
        },
        "id": "_hnGCcs_4sNy",
        "outputId": "88dae316-b9fd-4b49-f58b-664b8ebccb8b"
      },
      "outputs": [
        {
          "output_type": "stream",
          "name": "stdout",
          "text": [
            "Mounted at drive\n"
          ]
        }
      ],
      "source": [
        "from google.colab import drive\n",
        "\n",
        "# Mount Google Drive\n",
        "drive.mount('drive', force_remount=True)"
      ]
    },
    {
      "cell_type": "markdown",
      "source": [
        "The libraries used in this notebook are listed below."
      ],
      "metadata": {
        "id": "DYBNIWx1Km-Q"
      }
    },
    {
      "cell_type": "code",
      "source": [
        "# Zip file handling\n",
        "import zipfile\n",
        "import os\n",
        "\n",
        "# Data handling and visualization\n",
        "import os\n",
        "import cv2\n",
        "import numpy as np\n",
        "import pandas as pd\n",
        "import matplotlib.pyplot as plt\n",
        "\n",
        "# Image data handling\n",
        "from PIL import Image\n",
        "\n",
        "# File handling and management for training and validation data\n",
        "from shutil import copyfile\n",
        "from sklearn.model_selection import train_test_split\n",
        "\n",
        "# importing library for ML processing\n",
        "import tensorflow as tf\n",
        "from tensorflow.keras.preprocessing.image import ImageDataGenerator\n",
        "\n",
        "# CNN layers\n",
        "from tensorflow.keras.layers import Input, Conv2D, MaxPooling2D, Flatten, Dense, Dropout, BatchNormalization\n",
        "from tensorflow.keras.models import Model\n",
        "from tensorflow.keras.optimizers import Adam,RMSprop\n",
        "from tensorflow.keras.callbacks import EarlyStopping\n",
        "\n",
        "# Regularization\n",
        "from tensorflow.keras import regularizers\n",
        "\n",
        "# Saving the model\n",
        "from tensorflow.keras.models import save_model\n",
        "\n",
        "# Metrics for evaluation\n",
        "from sklearn.metrics import classification_report\n",
        "from sklearn.metrics import precision_score"
      ],
      "metadata": {
        "id": "VEemnXizTEw4"
      },
      "execution_count": null,
      "outputs": []
    },
    {
      "cell_type": "markdown",
      "source": [
        "<h2>5.1.2 Data preparation for Machine Learning</h2>"
      ],
      "metadata": {
        "id": "d_ycXAdhSGV7"
      }
    },
    {
      "cell_type": "markdown",
      "source": [
        "Firstly, pre-porcessed training data is obtained and prepared for machine learning:\n"
      ],
      "metadata": {
        "id": "znQglMe3mU_p"
      }
    },
    {
      "cell_type": "markdown",
      "source": [
        "The labels for all the images is in the <code>image_enhanced_simple_data.csv</code> file. It is first extracted in the code below."
      ],
      "metadata": {
        "id": "_RWYzZpNM_LA"
      }
    },
    {
      "cell_type": "code",
      "source": [
        "csv_file = '/content/drive/MyDrive/final/train_data/image_enhanced_simple_data.csv'\n",
        "\n",
        "# Read the CSV file into a pandas DataFrame\n",
        "df_classes = pd.read_csv(csv_file)\n",
        "df_classes.info"
      ],
      "metadata": {
        "colab": {
          "base_uri": "https://localhost:8080/"
        },
        "id": "i94oSVmWCYpC",
        "outputId": "fd0dbc8c-66f0-4d5c-adc5-9ca8e74e14e2"
      },
      "execution_count": null,
      "outputs": [
        {
          "output_type": "execute_result",
          "data": {
            "text/plain": [
              "<bound method DataFrame.info of        class      filename\n",
              "0          0       0_0.png\n",
              "1          0       0_1.png\n",
              "2          0       0_2.png\n",
              "3          0       0_3.png\n",
              "4          0       0_4.png\n",
              "...      ...           ...\n",
              "26655     42  42_26655.png\n",
              "26656     42  42_26656.png\n",
              "26657     42  42_26657.png\n",
              "26658     42  42_26658.png\n",
              "26659     42  42_26659.png\n",
              "\n",
              "[26660 rows x 2 columns]>"
            ]
          },
          "metadata": {},
          "execution_count": 4
        }
      ]
    },
    {
      "cell_type": "markdown",
      "source": [
        "Then the images are extracted from the <code>image_enhanced_PIL_simple.zip</code> file."
      ],
      "metadata": {
        "id": "tKBDwP7kNu-L"
      }
    },
    {
      "cell_type": "code",
      "source": [
        "# Paths\n",
        "zip_file_path = '/content/drive/MyDrive/final/train_data/image_enhanced_PIL_simple.zip'\n",
        "extracted_dir = '/content/extracted_images'\n",
        "\n",
        "# Create the directory for extracted images if it doesn't exist\n",
        "os.makedirs(extracted_dir, exist_ok=True)\n",
        "\n",
        "\n",
        "# Open the ZIP file and extract its contents\n",
        "with zipfile.ZipFile(zip_file_path, 'r') as zip_ref:\n",
        "    zip_ref.extractall(extracted_dir)\n",
        "\n",
        "# Check the length of the extracted images\n",
        "num_extracted_images = len(os.listdir(extracted_dir))\n",
        "print(f\"Number of extracted images: {num_extracted_images}\")\n",
        "print(\"Extraction completed.\")"
      ],
      "metadata": {
        "colab": {
          "base_uri": "https://localhost:8080/"
        },
        "id": "aegfPAhacJRR",
        "outputId": "ff67f26b-1381-4c2a-d1e3-f10ad1c25842"
      },
      "execution_count": null,
      "outputs": [
        {
          "output_type": "stream",
          "name": "stdout",
          "text": [
            "Number of extracted images: 26660\n",
            "Extraction completed.\n"
          ]
        }
      ]
    },
    {
      "cell_type": "markdown",
      "source": [
        "Both images and there labels extracted contains the same number of entries."
      ],
      "metadata": {
        "id": "UgAfoUUON3vh"
      }
    },
    {
      "cell_type": "markdown",
      "source": [
        "The distribution of the final classes is shown below."
      ],
      "metadata": {
        "id": "ZrskEW6ON0Zc"
      }
    },
    {
      "cell_type": "code",
      "source": [
        "# Count the occurrences of each class in the DataFrame\n",
        "class_counts = df_classes['class'].value_counts()\n",
        "\n",
        "# Sort the unique class IDs\n",
        "unique_classes = np.sort(df_classes['class'].unique())\n",
        "\n",
        "# Create a bar chart\n",
        "plt.figure(figsize=(10, 6))\n",
        "plt.bar(unique_classes, class_counts[unique_classes])\n",
        "plt.xlabel('Class')\n",
        "plt.ylabel('Count')\n",
        "plt.title('Class Distribution')\n",
        "plt.xticks(unique_classes)\n",
        "plt.show()"
      ],
      "metadata": {
        "colab": {
          "base_uri": "https://localhost:8080/",
          "height": 516
        },
        "id": "s28B6914YyMd",
        "outputId": "b4fad0da-f634-4213-bc8b-db6654ebe2c9"
      },
      "execution_count": null,
      "outputs": [
        {
          "output_type": "display_data",
          "data": {
            "text/plain": [
              "<Figure size 1000x600 with 1 Axes>"
            ],
            "image/png": "[encoded data removed]"
          },
          "metadata": {}
        }
      ]
    },
    {
      "cell_type": "markdown",
      "source": [
        "This shows that the images were equally distributed among the classes as what has being prepared in the previous notebook."
      ],
      "metadata": {
        "id": "cYvqdy-USoeN"
      }
    },
    {
      "cell_type": "markdown",
      "source": [
        "Both images are first split into training and validation sets. They are grouped by their classes and stored in individual directories for every classes."
      ],
      "metadata": {
        "id": "obTCtr8vORqc"
      }
    },
    {
      "cell_type": "code",
      "source": [
        "train_dir = '/content/train_images'\n",
        "valid_dir = '/content/valid_images'\n",
        "\n",
        "# Create directories for training and validation images\n",
        "os.makedirs(train_dir, exist_ok=True)\n",
        "os.makedirs(valid_dir, exist_ok=True)\n",
        "\n",
        "# Split the data into training and validation sets\n",
        "train_df, valid_df = train_test_split(df_classes, test_size=0.2, random_state=42, stratify=df_classes['class'])\n",
        "\n",
        "# Copy images to directories based on classes for training set\n",
        "for index, row in train_df.iterrows():\n",
        "    src_path = os.path.join(extracted_dir, row['filename'])\n",
        "    dst_path = os.path.join(train_dir, str(row['class']), row['filename'])\n",
        "    os.makedirs(os.path.dirname(dst_path), exist_ok=True)\n",
        "    copyfile(src_path, dst_path)\n",
        "\n",
        "# Copy images to directories based on classes for validation set\n",
        "for index, row in valid_df.iterrows():\n",
        "    src_path = os.path.join(extracted_dir, row['filename'])\n",
        "    dst_path = os.path.join(valid_dir, str(row['class']), row['filename'])\n",
        "    os.makedirs(os.path.dirname(dst_path), exist_ok=True)\n",
        "    copyfile(src_path, dst_path)\n",
        "\n",
        "print(\"Data preparation for ML completed.\")"
      ],
      "metadata": {
        "colab": {
          "base_uri": "https://localhost:8080/"
        },
        "id": "husZ2lw6dYyC",
        "outputId": "23416fee-c7b7-403d-a73c-469132d2abf4"
      },
      "execution_count": null,
      "outputs": [
        {
          "output_type": "stream",
          "name": "stdout",
          "text": [
            "Data preparation for ML completed.\n"
          ]
        }
      ]
    },
    {
      "cell_type": "markdown",
      "source": [
        "<h1> 5.2 Machine Learning</h1>"
      ],
      "metadata": {
        "id": "-F61JPGGOoN2"
      }
    },
    {
      "cell_type": "markdown",
      "source": [
        "<h2>5.2.1 Data pipeline</h2>"
      ],
      "metadata": {
        "id": "kumuDOWeSTrX"
      }
    },
    {
      "cell_type": "markdown",
      "source": [
        "<code>flow_from_directory()</code> from Keras ImageDataGenerator is used to load the images with rescaling to 1/255. batch size and image size are pre-set to 32 and (160, 160), respectively. These number were based on the upscaling of images in image enhancement."
      ],
      "metadata": {
        "id": "XEkNgAgcRWjj"
      }
    },
    {
      "cell_type": "code",
      "source": [
        "# Define paths\n",
        "train_dir = '/content/train_images'\n",
        "valid_dir = '/content/valid_images'\n",
        "\n",
        "# Define image dimensions and batch size\n",
        "image_size = (160,160)\n",
        "batch_size = 32\n",
        "\n",
        "# Create data generators and rescale image for ML on training and validation\n",
        "train_datagen = ImageDataGenerator(rescale=1.0/255)\n",
        "valid_datagen = ImageDataGenerator(rescale=1.0/255)\n",
        "\n",
        "train_generator = train_datagen.flow_from_directory(\n",
        "    train_dir,\n",
        "    target_size=image_size,\n",
        "    batch_size=batch_size,\n",
        "    class_mode='categorical',\n",
        "    color_mode='grayscale',  # Load images as grayscale\n",
        "    shuffle=True  # Set shuffle to True for training data\n",
        ")\n",
        "\n",
        "valid_generator = valid_datagen.flow_from_directory(\n",
        "    valid_dir,\n",
        "    target_size=image_size,\n",
        "    batch_size=batch_size,\n",
        "    class_mode='categorical',\n",
        "    color_mode='grayscale',  # Load images as grayscale\n",
        "    shuffle=False  # Set shuffle to False for validation data\n",
        ")\n",
        "\n",
        "# Get the number of classes from the training generator\n",
        "num_classes = len(train_generator.class_indices)"
      ],
      "metadata": {
        "colab": {
          "base_uri": "https://localhost:8080/"
        },
        "id": "ICEfnqPEeJBl",
        "outputId": "d46b0d9a-4364-4554-d907-76c1b7456ae2"
      },
      "execution_count": null,
      "outputs": [
        {
          "output_type": "stream",
          "name": "stdout",
          "text": [
            "Found 21328 images belonging to 43 classes.\n",
            "Found 5332 images belonging to 43 classes.\n"
          ]
        }
      ]
    },
    {
      "cell_type": "markdown",
      "source": [
        "Total <b>21328</b> images are loaded into the training data and <b>5332</b> images are loaded into the validation data."
      ],
      "metadata": {
        "id": "BGdLiXc9TI2J"
      }
    },
    {
      "cell_type": "markdown",
      "source": [
        "Next, the test data is also obtained and prepared for machine learning."
      ],
      "metadata": {
        "id": "AFiJylAImhVR"
      }
    },
    {
      "cell_type": "code",
      "source": [
        "# Define the paths\n",
        "test_zip_path = '/content/drive/MyDrive/final/test_data/test_image_enhanced_PIL_simple.zip'\n",
        "test_extracted_dir = '/content/extracted_test_images'\n",
        "test_dir = '/content/test_images'\n",
        "\n",
        "# Create the directory for extracted test images if it doesn't exist\n",
        "os.makedirs(test_extracted_dir, exist_ok=True)\n",
        "\n",
        "# Open the ZIP file and extract its contents\n",
        "with zipfile.ZipFile(test_zip_path, 'r') as zip_ref:\n",
        "    zip_ref.extractall(test_extracted_dir)"
      ],
      "metadata": {
        "id": "wjQBx8gQmnaV"
      },
      "execution_count": null,
      "outputs": []
    },
    {
      "cell_type": "code",
      "source": [
        "# Move the test images to the test directory while renaming them with their true labels\n",
        "for filename in os.listdir(test_extracted_dir):\n",
        "    src_path = os.path.join(test_extracted_dir, filename)\n",
        "    # Extract the true label from the filename (before the underscore)\n",
        "    true_label = filename.split('_')[0]\n",
        "    dst_path = os.path.join(test_dir, true_label, filename)\n",
        "    os.makedirs(os.path.dirname(dst_path), exist_ok=True)\n",
        "    copyfile(src_path, dst_path)"
      ],
      "metadata": {
        "id": "V7txY676psmN"
      },
      "execution_count": null,
      "outputs": []
    },
    {
      "cell_type": "markdown",
      "source": [
        "Data generator is used for loading images into the model."
      ],
      "metadata": {
        "id": "wON1wKvsK6Xn"
      }
    },
    {
      "cell_type": "code",
      "source": [
        "# Create a data generator for the test data\n",
        "test_datagen = ImageDataGenerator(rescale=1.0/255)\n",
        "\n",
        "test_generator = test_datagen.flow_from_directory(\n",
        "    test_dir,\n",
        "    target_size=image_size,\n",
        "    batch_size=batch_size,\n",
        "    class_mode='categorical',\n",
        "    color_mode='grayscale',  # Load images as grayscale\n",
        "    shuffle=False  # Set shuffle to False for testing data\n",
        ")"
      ],
      "metadata": {
        "colab": {
          "base_uri": "https://localhost:8080/"
        },
        "id": "oelcW3EtnlSz",
        "outputId": "a4a9bc0c-ec2d-49d0-84ad-5a36c51e678c"
      },
      "execution_count": null,
      "outputs": [
        {
          "output_type": "stream",
          "name": "stdout",
          "text": [
            "Found 12599 images belonging to 43 classes.\n"
          ]
        }
      ]
    },
    {
      "cell_type": "markdown",
      "source": [
        "<h2>5.2.2 Training the CNN model</h2>"
      ],
      "metadata": {
        "id": "EJUQK66CaB8W"
      }
    },
    {
      "cell_type": "markdown",
      "source": [
        "As there are many models training at the same time, the first image in the training data is inspected on size to confirm the shape of the nerual network."
      ],
      "metadata": {
        "id": "xsMRTT06SepR"
      }
    },
    {
      "cell_type": "code",
      "source": [
        "# Define the path to the image file\n",
        "image_path = os.path.join('train_images', '0', '0_0.png')\n",
        "\n",
        "# Open the image using PIL\n",
        "image = Image.open(image_path)\n",
        "\n",
        "# Get the size (dimensions) of the image\n",
        "image_size = image.size\n",
        "\n",
        "# Close the image file\n",
        "image.close()\n",
        "\n",
        "# Print the size of the image\n",
        "print(\"Size of '0_0.png' in folder '0':\", image_size)\n"
      ],
      "metadata": {
        "colab": {
          "base_uri": "https://localhost:8080/"
        },
        "id": "rOC7HwpRYjjM",
        "outputId": "ea679aa5-68b5-494a-e589-f21afc8070ff"
      },
      "execution_count": null,
      "outputs": [
        {
          "output_type": "stream",
          "name": "stdout",
          "text": [
            "Size of '0_0.png' in folder '0': (160, 160)\n"
          ]
        }
      ]
    },
    {
      "cell_type": "code",
      "source": [
        "# Retrieve the first batch from the training generator\n",
        "images, labels = next(train_generator)\n",
        "\n",
        "# Get the first image from the batch\n",
        "first_image = images[0]\n",
        "\n",
        "# Check the shape of the first image\n",
        "print(\"Shape of the first image:\", first_image.shape)\n"
      ],
      "metadata": {
        "colab": {
          "base_uri": "https://localhost:8080/"
        },
        "id": "H-3iuxp0YNem",
        "outputId": "e6390c4b-860d-4ab1-cd82-0f2a75538b2f"
      },
      "execution_count": null,
      "outputs": [
        {
          "output_type": "stream",
          "name": "stdout",
          "text": [
            "Shape of the first image: (160, 160, 1)\n"
          ]
        }
      ]
    },
    {
      "cell_type": "markdown",
      "source": [
        "The size of image accurate reflects the simple enhanced data with all three channels."
      ],
      "metadata": {
        "id": "gDns-klNe0fJ"
      }
    },
    {
      "cell_type": "markdown",
      "source": [
        "The GPU avaliability is also double checked."
      ],
      "metadata": {
        "id": "8EtGb5aNe2az"
      }
    },
    {
      "cell_type": "code",
      "source": [
        "# Check GPU availability\n",
        "print(\"Num GPUs Available: \", len(tf.config.list_physical_devices('GPU')))\n",
        "\n",
        "# Specify GPU device\n",
        "physical_devices = tf.config.list_physical_devices('GPU')\n",
        "if len(physical_devices) > 0:\n",
        "    tf.config.experimental.set_memory_growth(physical_devices[0], True)"
      ],
      "metadata": {
        "colab": {
          "base_uri": "https://localhost:8080/"
        },
        "id": "42FI4zL2feiP",
        "outputId": "3bb8ec26-72cb-44b4-9975-94478c047477"
      },
      "execution_count": null,
      "outputs": [
        {
          "output_type": "stream",
          "name": "stdout",
          "text": [
            "Num GPUs Available:  1\n"
          ]
        }
      ]
    },
    {
      "cell_type": "markdown",
      "source": [
        "A function is defined to plot the training history and calculate the changes in accuracy and loss."
      ],
      "metadata": {
        "id": "VSCR24GDSyqc"
      }
    },
    {
      "cell_type": "code",
      "source": [
        "def calculate_accuracy_increase_rate(history):\n",
        "    train_accuracy = history.history['accuracy']\n",
        "    val_accuracy = history.history['val_accuracy']\n",
        "\n",
        "    train_rate = np.mean(np.diff(train_accuracy))\n",
        "    val_rate = np.mean(np.diff(val_accuracy))\n",
        "\n",
        "    return train_rate, val_rate"
      ],
      "metadata": {
        "id": "U_5cFB1DjMZ4"
      },
      "execution_count": null,
      "outputs": []
    },
    {
      "cell_type": "code",
      "source": [
        "def plot_training_history(history):\n",
        "    # Access the training history\n",
        "    training_loss = history.history['loss']\n",
        "    training_accuracy = history.history['accuracy']\n",
        "    validation_loss = history.history['val_loss']\n",
        "    validation_accuracy = history.history['val_accuracy']\n",
        "\n",
        "    # Create a figure with two subplots\n",
        "    fig, (ax1, ax2) = plt.subplots(1, 2, figsize=(12, 6))\n",
        "\n",
        "    # Plotting the training and validation accuracy\n",
        "    ax1.plot(training_accuracy)\n",
        "    ax1.plot(validation_accuracy)\n",
        "    ax1.set_title('Model Accuracy')\n",
        "    ax1.set_xlabel('Epoch')\n",
        "    ax1.set_ylabel('Accuracy')\n",
        "    ax1.legend(['Train', 'Validation'], loc='upper left')\n",
        "\n",
        "    # Plotting the training and validation loss\n",
        "    ax2.plot(training_loss)\n",
        "    ax2.plot(validation_loss)\n",
        "    ax2.set_title('Model Loss')\n",
        "    ax2.set_xlabel('Epoch')\n",
        "    ax2.set_ylabel('Loss')\n",
        "    ax2.legend(['Train', 'Validation'], loc='upper right')\n",
        "\n",
        "    # Adjust the spacing between subplots\n",
        "    plt.tight_layout()\n",
        "\n",
        "    # Show the figure\n",
        "    plt.show()"
      ],
      "metadata": {
        "id": "0ZcwYOoBef3J"
      },
      "execution_count": null,
      "outputs": []
    },
    {
      "cell_type": "markdown",
      "source": [
        "Then, true labels are extracted from the test generator for testing later."
      ],
      "metadata": {
        "id": "dqnT4TtvKs30"
      }
    },
    {
      "cell_type": "code",
      "source": [
        "# Get true labels from the test generator\n",
        "true_labels = test_generator.classes\n",
        "\n",
        "# Get unique true labels\n",
        "class_names = [str(label) for label in range(43)]"
      ],
      "metadata": {
        "id": "Ra0sBmAbv8QP"
      },
      "execution_count": null,
      "outputs": []
    },
    {
      "cell_type": "markdown",
      "source": [
        "The model development will start from developing a simple model that serves as a baseline in this development cycle. It is different from the basline of the whole project as this is trained on enhanced and augmented data."
      ],
      "metadata": {
        "id": "R3jYMPdgg1Ri"
      }
    },
    {
      "cell_type": "markdown",
      "source": [
        "<h2> Model 1: Simple CNN baseline</h2>\n"
      ],
      "metadata": {
        "id": "OgUFRqk4uAFq"
      }
    },
    {
      "cell_type": "markdown",
      "source": [
        "Training the CNN model to upto 30 epochs, early stopping is used to prevent overfitting. However, no regularization is applied."
      ],
      "metadata": {
        "id": "eXwyIjLpS3Em"
      }
    },
    {
      "cell_type": "code",
      "source": [
        "# Define the CNN layers\n",
        "input_layer = Input(shape=(160, 160, 1))\n",
        "x = Conv2D(32, (3, 3), activation='relu')(input_layer)\n",
        "x = MaxPooling2D(2, 2)(x)\n",
        "\n",
        "x = Conv2D(64, (3, 3), activation='relu')(x)\n",
        "x = MaxPooling2D(2, 2)(x)\n",
        "\n",
        "x = Conv2D(128, (3, 3), activation='relu')(x)\n",
        "x = MaxPooling2D(2, 2)(x)\n",
        "\n",
        "x = Flatten()(x)\n",
        "x = Dense(256, activation='relu')(x)\n",
        "x = Dropout(0.5)(x)\n",
        "output_layer = Dense(num_classes, activation='softmax')(x)\n",
        "\n",
        "# Create the model\n",
        "model_CNN = Model(inputs=input_layer, outputs=output_layer)\n",
        "\n",
        "# Compile the model\n",
        "model_CNN.compile(optimizer=Adam(learning_rate=0.001), loss='categorical_crossentropy', metrics=['accuracy'])"
      ],
      "metadata": {
        "id": "S2FXPHyGS1vm"
      },
      "execution_count": null,
      "outputs": []
    },
    {
      "cell_type": "markdown",
      "source": [
        "A simple summary of the model is displayed:"
      ],
      "metadata": {
        "id": "5LPsOt5BLdAt"
      }
    },
    {
      "cell_type": "code",
      "source": [
        "model_CNN.summary()"
      ],
      "metadata": {
        "colab": {
          "base_uri": "https://localhost:8080/"
        },
        "id": "J1A1_tc-UtXG",
        "outputId": "8a0e41fe-104c-44d5-fefd-068232c85705"
      },
      "execution_count": null,
      "outputs": [
        {
          "output_type": "stream",
          "name": "stdout",
          "text": [
            "Model: \"model_1\"\n",
            "_________________________________________________________________\n",
            " Layer (type)                Output Shape              Param #   \n",
            "=================================================================\n",
            " input_2 (InputLayer)        [(None, 160, 160, 1)]     0         \n",
            "                                                                 \n",
            " conv2d_3 (Conv2D)           (None, 158, 158, 32)      320       \n",
            "                                                                 \n",
            " max_pooling2d_3 (MaxPoolin  (None, 79, 79, 32)        0         \n",
            " g2D)                                                            \n",
            "                                                                 \n",
            " conv2d_4 (Conv2D)           (None, 77, 77, 64)        18496     \n",
            "                                                                 \n",
            " max_pooling2d_4 (MaxPoolin  (None, 38, 38, 64)        0         \n",
            " g2D)                                                            \n",
            "                                                                 \n",
            " conv2d_5 (Conv2D)           (None, 36, 36, 128)       73856     \n",
            "                                                                 \n",
            " max_pooling2d_5 (MaxPoolin  (None, 18, 18, 128)       0         \n",
            " g2D)                                                            \n",
            "                                                                 \n",
            " flatten_1 (Flatten)         (None, 41472)             0         \n",
            "                                                                 \n",
            " dense_2 (Dense)             (None, 256)               10617088  \n",
            "                                                                 \n",
            " dropout_1 (Dropout)         (None, 256)               0         \n",
            "                                                                 \n",
            " dense_3 (Dense)             (None, 43)                11051     \n",
            "                                                                 \n",
            "=================================================================\n",
            "Total params: 10720811 (40.90 MB)\n",
            "Trainable params: 10720811 (40.90 MB)\n",
            "Non-trainable params: 0 (0.00 Byte)\n",
            "_________________________________________________________________\n"
          ]
        }
      ]
    },
    {
      "cell_type": "code",
      "source": [
        "# Early stopping callback\n",
        "early_stopping = EarlyStopping(monitor='val_loss', patience=3, restore_best_weights=True)\n",
        "\n",
        "# Train the model\n",
        "num_epochs = 30\n",
        "history_simpleCNN = model_CNN.fit(train_generator,\n",
        "                                  epochs=num_epochs,\n",
        "                                  validation_data=valid_generator,\n",
        "                                  callbacks=[early_stopping])\n",
        "\n",
        "print(\"Model training completed.\")"
      ],
      "metadata": {
        "colab": {
          "base_uri": "https://localhost:8080/"
        },
        "id": "m0sYx0qRTFsH",
        "outputId": "ba117d9c-bcf3-4040-a09e-ebf2f97a3e35"
      },
      "execution_count": null,
      "outputs": [
        {
          "output_type": "stream",
          "name": "stdout",
          "text": [
            "Epoch 1/30\n",
            "667/667 [==============================] - 68s 78ms/step - loss: 1.7935 - accuracy: 0.4992 - val_loss: 0.5905 - val_accuracy: 0.8323\n",
            "Epoch 2/30\n",
            "667/667 [==============================] - 49s 73ms/step - loss: 0.6986 - accuracy: 0.7846 - val_loss: 0.3282 - val_accuracy: 0.9079\n",
            "Epoch 3/30\n",
            "667/667 [==============================] - 56s 85ms/step - loss: 0.4682 - accuracy: 0.8516 - val_loss: 0.2973 - val_accuracy: 0.9160\n",
            "Epoch 4/30\n",
            "667/667 [==============================] - 72s 108ms/step - loss: 0.3451 - accuracy: 0.8889 - val_loss: 0.2266 - val_accuracy: 0.9319\n",
            "Epoch 5/30\n",
            "667/667 [==============================] - 58s 86ms/step - loss: 0.2754 - accuracy: 0.9116 - val_loss: 0.2321 - val_accuracy: 0.9278\n",
            "Epoch 6/30\n",
            "667/667 [==============================] - 44s 65ms/step - loss: 0.2370 - accuracy: 0.9232 - val_loss: 0.1742 - val_accuracy: 0.9479\n",
            "Epoch 7/30\n",
            "667/667 [==============================] - 43s 65ms/step - loss: 0.1916 - accuracy: 0.9373 - val_loss: 0.1591 - val_accuracy: 0.9511\n",
            "Epoch 8/30\n",
            "667/667 [==============================] - 45s 68ms/step - loss: 0.1716 - accuracy: 0.9432 - val_loss: 0.1515 - val_accuracy: 0.9567\n",
            "Epoch 9/30\n",
            "667/667 [==============================] - 42s 63ms/step - loss: 0.1532 - accuracy: 0.9511 - val_loss: 0.1497 - val_accuracy: 0.9569\n",
            "Epoch 10/30\n",
            "667/667 [==============================] - 44s 66ms/step - loss: 0.1372 - accuracy: 0.9540 - val_loss: 0.1533 - val_accuracy: 0.9582\n",
            "Epoch 11/30\n",
            "667/667 [==============================] - 44s 67ms/step - loss: 0.1218 - accuracy: 0.9598 - val_loss: 0.1484 - val_accuracy: 0.9591\n",
            "Epoch 12/30\n",
            "667/667 [==============================] - 42s 63ms/step - loss: 0.1163 - accuracy: 0.9613 - val_loss: 0.1490 - val_accuracy: 0.9580\n",
            "Epoch 13/30\n",
            "667/667 [==============================] - 44s 65ms/step - loss: 0.1044 - accuracy: 0.9658 - val_loss: 0.1531 - val_accuracy: 0.9599\n",
            "Epoch 14/30\n",
            "667/667 [==============================] - 43s 64ms/step - loss: 0.0968 - accuracy: 0.9691 - val_loss: 0.1445 - val_accuracy: 0.9595\n",
            "Epoch 15/30\n",
            "667/667 [==============================] - 44s 66ms/step - loss: 0.0837 - accuracy: 0.9729 - val_loss: 0.1495 - val_accuracy: 0.9621\n",
            "Epoch 16/30\n",
            "667/667 [==============================] - 41s 61ms/step - loss: 0.0859 - accuracy: 0.9722 - val_loss: 0.1490 - val_accuracy: 0.9619\n",
            "Epoch 17/30\n",
            "667/667 [==============================] - 45s 68ms/step - loss: 0.0806 - accuracy: 0.9718 - val_loss: 0.1626 - val_accuracy: 0.9616\n",
            "Model training completed.\n"
          ]
        }
      ]
    },
    {
      "cell_type": "markdown",
      "source": [
        "The training stopped at <b>epoch 17</b> as the model started overfitting (shown by the validation loss). The training accuracy and validation accuracy graph are shown below."
      ],
      "metadata": {
        "id": "miuRuOHVL4Hy"
      }
    },
    {
      "cell_type": "code",
      "source": [
        "plot_training_history(history_simpleCNN)"
      ],
      "metadata": {
        "id": "Zn9XUczieoVY",
        "colab": {
          "base_uri": "https://localhost:8080/",
          "height": 402
        },
        "outputId": "807ed093-d676-4aed-b6e1-a86f66c6a91f"
      },
      "execution_count": null,
      "outputs": [
        {
          "output_type": "display_data",
          "data": {
            "text/plain": [
              "<Figure size 1200x600 with 2 Axes>"
            ],
            "image/png": "[encoded data removed]"
          },
          "metadata": {}
        }
      ]
    },
    {
      "cell_type": "markdown",
      "source": [
        "This model has a higher training accuracy than validation accuracy. And the validaton accuracy is continuesly increasing, indicating no signs of overfitting."
      ],
      "metadata": {
        "id": "_XYQ3gNOMUUY"
      }
    },
    {
      "cell_type": "code",
      "source": [
        "# Increasing rate\n",
        "train_rate_SCNN, val_rate_SCNN = calculate_accuracy_increase_rate(history_simpleCNN)\n",
        "print(\"Training Accuracy Increase Rate:\", train_rate_SCNN)\n",
        "print(\"Validation Accuracy Increase Rate:\", val_rate_SCNN)"
      ],
      "metadata": {
        "colab": {
          "base_uri": "https://localhost:8080/"
        },
        "id": "ubZZ4EK_jRRD",
        "outputId": "4996efa6-1408-4b9b-dd8f-12f0e0176dc9"
      },
      "execution_count": null,
      "outputs": [
        {
          "output_type": "stream",
          "name": "stdout",
          "text": [
            "Training Accuracy Increase Rate: 0.029538637027144432\n",
            "Validation Accuracy Increase Rate: 0.008076239377260208\n"
          ]
        }
      ]
    },
    {
      "cell_type": "markdown",
      "source": [
        "The rate of increase for accuracy is calculated above"
      ],
      "metadata": {
        "id": "1pRwme57MjcN"
      }
    },
    {
      "cell_type": "markdown",
      "source": [
        "Then, the model is evaluated on the test data"
      ],
      "metadata": {
        "id": "6K4Bno8cMkCM"
      }
    },
    {
      "cell_type": "code",
      "source": [
        "# Test the model with the test data\n",
        "test_loss_SCNN, test_accuracy_SCNN = model_CNN.evaluate(test_generator)\n",
        "\n",
        "print(f\"Test Loss: {test_loss_SCNN:.4f}\")\n",
        "print(f\"Test Accuracy: {test_accuracy_SCNN:.4f}\")"
      ],
      "metadata": {
        "colab": {
          "base_uri": "https://localhost:8080/"
        },
        "id": "nU0BSx5cqIvH",
        "outputId": "6d28f8ce-12e6-4a85-8b48-ac2228fe44d4"
      },
      "execution_count": null,
      "outputs": [
        {
          "output_type": "stream",
          "name": "stdout",
          "text": [
            "394/394 [==============================] - 24s 60ms/step - loss: 0.6013 - accuracy: 0.8718\n",
            "Test Loss: 0.6013\n",
            "Test Accuracy: 0.8718\n"
          ]
        }
      ]
    },
    {
      "cell_type": "code",
      "source": [
        "# Make predictions on the test data\n",
        "test_pred_SCNN = model_CNN.predict(test_generator)\n",
        "\n",
        "# Convert one-hot encoded predictions back to class labels\n",
        "pred_labels_SCNN = np.argmax(test_pred_SCNN, axis=1)\n",
        "\n",
        "# Calculate the precision score\n",
        "precision_SCNN = precision_score(true_labels, pred_labels_SCNN, average='weighted')\n",
        "\n",
        "print(f\"Precision Score: {precision_SCNN:.4f}\")"
      ],
      "metadata": {
        "colab": {
          "base_uri": "https://localhost:8080/"
        },
        "id": "pRYMAq09qSus",
        "outputId": "01c4518f-a586-4073-d3d7-3db7a7e15b14"
      },
      "execution_count": null,
      "outputs": [
        {
          "output_type": "stream",
          "name": "stdout",
          "text": [
            "394/394 [==============================] - 24s 60ms/step\n",
            "Precision Score: 0.8766\n"
          ]
        }
      ]
    },
    {
      "cell_type": "code",
      "source": [
        "# Generate a classification report\n",
        "class_rep_SCNN = classification_report(true_labels, pred_labels_SCNN, target_names=class_names)\n",
        "\n",
        "print(\"Classification Report:\\n\", class_rep_SCNN)"
      ],
      "metadata": {
        "id": "2DxGUG22tefV",
        "colab": {
          "base_uri": "https://localhost:8080/"
        },
        "outputId": "0a1abe06-b282-4239-9e2e-a2b703026cb1"
      },
      "execution_count": null,
      "outputs": [
        {
          "output_type": "stream",
          "name": "stdout",
          "text": [
            "Classification Report:\n",
            "               precision    recall  f1-score   support\n",
            "\n",
            "           0       0.92      0.96      0.94       293\n",
            "           1       0.96      0.94      0.95       293\n",
            "           2       0.93      0.98      0.95       293\n",
            "           3       0.83      0.95      0.88       293\n",
            "           4       0.98      0.98      0.98       293\n",
            "           5       0.99      1.00      0.99       293\n",
            "           6       0.98      0.96      0.97       293\n",
            "           7       0.96      0.98      0.97       293\n",
            "           8       0.89      0.98      0.93       293\n",
            "           9       0.98      0.93      0.96       293\n",
            "          10       0.96      0.86      0.91       293\n",
            "          11       0.62      0.83      0.71       293\n",
            "          12       0.95      0.96      0.95       293\n",
            "          13       0.64      0.76      0.70       293\n",
            "          14       0.78      0.86      0.82       293\n",
            "          15       0.90      0.92      0.91       293\n",
            "          16       0.71      0.71      0.71       293\n",
            "          17       0.92      0.63      0.75       293\n",
            "          18       0.93      0.97      0.95       293\n",
            "          19       0.64      0.73      0.68       293\n",
            "          20       0.87      0.72      0.79       293\n",
            "          21       0.78      0.74      0.76       293\n",
            "          22       0.80      0.87      0.83       293\n",
            "          23       0.95      0.95      0.95       293\n",
            "          24       0.72      0.40      0.52       293\n",
            "          25       0.87      0.90      0.89       293\n",
            "          26       0.93      0.82      0.87       293\n",
            "          27       0.89      0.94      0.91       293\n",
            "          28       0.84      0.96      0.89       293\n",
            "          29       1.00      0.98      0.99       293\n",
            "          30       0.84      0.88      0.86       293\n",
            "          31       0.83      0.89      0.86       293\n",
            "          32       0.96      0.95      0.96       293\n",
            "          33       0.90      0.79      0.84       293\n",
            "          34       0.99      0.96      0.97       293\n",
            "          35       0.94      0.76      0.84       293\n",
            "          36       0.75      0.70      0.73       293\n",
            "          37       0.92      0.80      0.85       293\n",
            "          38       0.77      0.95      0.85       293\n",
            "          39       0.89      0.87      0.88       293\n",
            "          40       0.95      0.94      0.95       293\n",
            "          41       0.97      0.86      0.91       293\n",
            "          42       0.87      1.00      0.93       293\n",
            "\n",
            "    accuracy                           0.87     12599\n",
            "   macro avg       0.88      0.87      0.87     12599\n",
            "weighted avg       0.88      0.87      0.87     12599\n",
            "\n"
          ]
        }
      ]
    },
    {
      "cell_type": "markdown",
      "source": [
        "Generally, the model is performing well with a test precision of 87.66% and test accuracy of 87.18%. For acciracy across all classes, the worst performing one is class 13 with 64% precision and 70% F1 score. It is also noticed that some classes have perfect scores on precision."
      ],
      "metadata": {
        "id": "7DY7C8JANRts"
      }
    },
    {
      "cell_type": "markdown",
      "source": [
        "<h2> Model 2: More complex CNN with regularization</h2>\n",
        "\n"
      ],
      "metadata": {
        "id": "me2jCS4-t0Vj"
      }
    },
    {
      "cell_type": "markdown",
      "source": [
        "More complexity is added to the CNN model with regularization added:\n",
        "\n",
        "*   Added more convolutional layers with increasing filters to capture more complex features\n",
        "\n",
        "*   Added batch normalization layers after each convolutional and dense layer to help stabilize training. (Recommended in chapter 7.3.1 Advanced architechtures in Deep Learning with Python, Francois Chollet)\n",
        "\n",
        "*   Added an additional dense layer with dropout and batch normalization."
      ],
      "metadata": {
        "id": "jjUFO2mmT4RJ"
      }
    },
    {
      "cell_type": "code",
      "source": [
        "# Define the CNN layers\n",
        "input_layer = Input(shape=(160, 160, 1))\n",
        "x = Conv2D(64, (3, 3), activation='relu', kernel_regularizer=regularizers.l2(0.01))(input_layer)\n",
        "x = BatchNormalization()(x)\n",
        "x = MaxPooling2D(2, 2)(x)\n",
        "\n",
        "x = Conv2D(128, (3, 3), activation='relu', kernel_regularizer=regularizers.l2(0.01))(x)\n",
        "x = BatchNormalization()(x)\n",
        "x = MaxPooling2D(2, 2)(x)\n",
        "\n",
        "x = Conv2D(256, (3, 3), activation='relu', kernel_regularizer=regularizers.l2(0.01))(x)\n",
        "x = BatchNormalization()(x)\n",
        "x = MaxPooling2D(2, 2)(x)\n",
        "\n",
        "x = Flatten()(x)\n",
        "x = Dense(512, activation='relu', kernel_regularizer=regularizers.l2(0.01))(x)\n",
        "x = Dropout(0.5)(x)\n",
        "output_layer = Dense(num_classes, activation='softmax')(x)\n",
        "\n",
        "# Create the model\n",
        "model_complex = Model(inputs=input_layer, outputs=output_layer)\n",
        "\n",
        "# Compile the model with a lower learning rate\n",
        "model_complex.compile(optimizer=Adam(learning_rate=0.0001), loss='categorical_crossentropy', metrics=['accuracy'])\n"
      ],
      "metadata": {
        "id": "B57Siq1yYQZL"
      },
      "execution_count": null,
      "outputs": []
    },
    {
      "cell_type": "markdown",
      "source": [
        "A simple summary of the model is displayed:"
      ],
      "metadata": {
        "id": "vRI8_TaqN8QE"
      }
    },
    {
      "cell_type": "code",
      "source": [
        "model_complex.summary()"
      ],
      "metadata": {
        "colab": {
          "base_uri": "https://localhost:8080/"
        },
        "id": "BXOBt8CkYt9-",
        "outputId": "93560c87-bd94-4a9a-a515-236f64819e84"
      },
      "execution_count": null,
      "outputs": [
        {
          "output_type": "stream",
          "name": "stdout",
          "text": [
            "Model: \"model_1\"\n",
            "_________________________________________________________________\n",
            " Layer (type)                Output Shape              Param #   \n",
            "=================================================================\n",
            " input_2 (InputLayer)        [(None, 160, 160, 1)]     0         \n",
            "                                                                 \n",
            " conv2d_3 (Conv2D)           (None, 158, 158, 64)      640       \n",
            "                                                                 \n",
            " batch_normalization (Batch  (None, 158, 158, 64)      256       \n",
            " Normalization)                                                  \n",
            "                                                                 \n",
            " max_pooling2d_3 (MaxPoolin  (None, 79, 79, 64)        0         \n",
            " g2D)                                                            \n",
            "                                                                 \n",
            " conv2d_4 (Conv2D)           (None, 77, 77, 128)       73856     \n",
            "                                                                 \n",
            " batch_normalization_1 (Bat  (None, 77, 77, 128)       512       \n",
            " chNormalization)                                                \n",
            "                                                                 \n",
            " max_pooling2d_4 (MaxPoolin  (None, 38, 38, 128)       0         \n",
            " g2D)                                                            \n",
            "                                                                 \n",
            " conv2d_5 (Conv2D)           (None, 36, 36, 256)       295168    \n",
            "                                                                 \n",
            " batch_normalization_2 (Bat  (None, 36, 36, 256)       1024      \n",
            " chNormalization)                                                \n",
            "                                                                 \n",
            " max_pooling2d_5 (MaxPoolin  (None, 18, 18, 256)       0         \n",
            " g2D)                                                            \n",
            "                                                                 \n",
            " flatten_1 (Flatten)         (None, 82944)             0         \n",
            "                                                                 \n",
            " dense_2 (Dense)             (None, 512)               42467840  \n",
            "                                                                 \n",
            " dropout_1 (Dropout)         (None, 512)               0         \n",
            "                                                                 \n",
            " dense_3 (Dense)             (None, 43)                22059     \n",
            "                                                                 \n",
            "=================================================================\n",
            "Total params: 42861355 (163.50 MB)\n",
            "Trainable params: 42860459 (163.50 MB)\n",
            "Non-trainable params: 896 (3.50 KB)\n",
            "_________________________________________________________________\n"
          ]
        }
      ]
    },
    {
      "cell_type": "markdown",
      "source": [
        "The model is trained with the early stopping callback monitering the validation loss:"
      ],
      "metadata": {
        "id": "_dZBYIjcOGux"
      }
    },
    {
      "cell_type": "code",
      "source": [
        "# Early stopping callback\n",
        "early_stopping = EarlyStopping(monitor='val_loss', patience=3, restore_best_weights=True)\n",
        "\n",
        "# Train the model with data augmentation and early stopping\n",
        "num_epochs = 50\n",
        "history_complex_model = model_complex.fit(train_generator,\n",
        "                                          epochs=num_epochs,\n",
        "                                          validation_data=valid_generator,\n",
        "                                          callbacks=[early_stopping])\n",
        "\n",
        "print(\"Model training completed.\")"
      ],
      "metadata": {
        "colab": {
          "base_uri": "https://localhost:8080/"
        },
        "id": "2YiIxl2kYbXX",
        "outputId": "cfacd124-2a97-4041-ede5-2b48af053830"
      },
      "execution_count": null,
      "outputs": [
        {
          "output_type": "stream",
          "name": "stdout",
          "text": [
            "Epoch 1/50\n",
            "667/667 [==============================] - 70s 98ms/step - loss: 12.5522 - accuracy: 0.5224 - val_loss: 8.9028 - val_accuracy: 0.7689\n",
            "Epoch 2/50\n",
            "667/667 [==============================] - 61s 92ms/step - loss: 7.2677 - accuracy: 0.7427 - val_loss: 5.4524 - val_accuracy: 0.8547\n",
            "Epoch 3/50\n",
            "667/667 [==============================] - 61s 91ms/step - loss: 4.8748 - accuracy: 0.7909 - val_loss: 3.9272 - val_accuracy: 0.8796\n",
            "Epoch 4/50\n",
            "667/667 [==============================] - 60s 90ms/step - loss: 3.6706 - accuracy: 0.8328 - val_loss: 3.0446 - val_accuracy: 0.8978\n",
            "Epoch 5/50\n",
            "667/667 [==============================] - 60s 90ms/step - loss: 3.0420 - accuracy: 0.8492 - val_loss: 2.7376 - val_accuracy: 0.9130\n",
            "Epoch 6/50\n",
            "667/667 [==============================] - 60s 90ms/step - loss: 2.6816 - accuracy: 0.8718 - val_loss: 2.3554 - val_accuracy: 0.9387\n",
            "Epoch 7/50\n",
            "667/667 [==============================] - 61s 91ms/step - loss: 2.3699 - accuracy: 0.9033 - val_loss: 2.3144 - val_accuracy: 0.9261\n",
            "Epoch 8/50\n",
            "667/667 [==============================] - 61s 91ms/step - loss: 2.2263 - accuracy: 0.9292 - val_loss: 2.1022 - val_accuracy: 0.9563\n",
            "Epoch 9/50\n",
            "667/667 [==============================] - 61s 92ms/step - loss: 1.8792 - accuracy: 0.9549 - val_loss: 1.8024 - val_accuracy: 0.9642\n",
            "Epoch 10/50\n",
            "667/667 [==============================] - 60s 90ms/step - loss: 1.7467 - accuracy: 0.9649 - val_loss: 1.7175 - val_accuracy: 0.9692\n",
            "Epoch 11/50\n",
            "667/667 [==============================] - 62s 92ms/step - loss: 1.5326 - accuracy: 0.9730 - val_loss: 1.5408 - val_accuracy: 0.9696\n",
            "Epoch 12/50\n",
            "667/667 [==============================] - 61s 91ms/step - loss: 1.4197 - accuracy: 0.9772 - val_loss: 1.3574 - val_accuracy: 0.9799\n",
            "Epoch 13/50\n",
            "667/667 [==============================] - 62s 94ms/step - loss: 1.2251 - accuracy: 0.9819 - val_loss: 1.3358 - val_accuracy: 0.9668\n",
            "Epoch 14/50\n",
            "667/667 [==============================] - 61s 92ms/step - loss: 1.2181 - accuracy: 0.9812 - val_loss: 1.3348 - val_accuracy: 0.9698\n",
            "Epoch 15/50\n",
            "667/667 [==============================] - 61s 91ms/step - loss: 1.1406 - accuracy: 0.9817 - val_loss: 1.3738 - val_accuracy: 0.9557\n",
            "Epoch 16/50\n",
            "667/667 [==============================] - 61s 91ms/step - loss: 1.0956 - accuracy: 0.9849 - val_loss: 1.0125 - val_accuracy: 0.9775\n",
            "Epoch 17/50\n",
            "667/667 [==============================] - 60s 89ms/step - loss: 0.9775 - accuracy: 0.9849 - val_loss: 1.1202 - val_accuracy: 0.9636\n",
            "Epoch 18/50\n",
            "667/667 [==============================] - 64s 96ms/step - loss: 1.0343 - accuracy: 0.9826 - val_loss: 1.2787 - val_accuracy: 0.9567\n",
            "Epoch 19/50\n",
            "667/667 [==============================] - 61s 91ms/step - loss: 0.9803 - accuracy: 0.9880 - val_loss: 0.9553 - val_accuracy: 0.9788\n",
            "Epoch 20/50\n",
            "667/667 [==============================] - 62s 93ms/step - loss: 0.8759 - accuracy: 0.9867 - val_loss: 0.9267 - val_accuracy: 0.9754\n",
            "Epoch 21/50\n",
            "667/667 [==============================] - 61s 91ms/step - loss: 0.8436 - accuracy: 0.9861 - val_loss: 1.0809 - val_accuracy: 0.9672\n",
            "Epoch 22/50\n",
            "667/667 [==============================] - 61s 92ms/step - loss: 0.8999 - accuracy: 0.9870 - val_loss: 1.0587 - val_accuracy: 0.9375\n",
            "Epoch 23/50\n",
            "667/667 [==============================] - 60s 90ms/step - loss: 0.8266 - accuracy: 0.9871 - val_loss: 0.8743 - val_accuracy: 0.9782\n",
            "Epoch 24/50\n",
            "667/667 [==============================] - 64s 95ms/step - loss: 0.7572 - accuracy: 0.9896 - val_loss: 0.8605 - val_accuracy: 0.9760\n",
            "Epoch 25/50\n",
            "667/667 [==============================] - 64s 96ms/step - loss: 0.7264 - accuracy: 0.9899 - val_loss: 0.8208 - val_accuracy: 0.9692\n",
            "Epoch 26/50\n",
            "667/667 [==============================] - 61s 91ms/step - loss: 0.7235 - accuracy: 0.9884 - val_loss: 0.9230 - val_accuracy: 0.9642\n",
            "Epoch 27/50\n",
            "667/667 [==============================] - 60s 91ms/step - loss: 0.8030 - accuracy: 0.9873 - val_loss: 0.9452 - val_accuracy: 0.9597\n",
            "Epoch 28/50\n",
            "667/667 [==============================] - 59s 89ms/step - loss: 0.7312 - accuracy: 0.9894 - val_loss: 0.8025 - val_accuracy: 0.9741\n",
            "Epoch 29/50\n",
            "667/667 [==============================] - 59s 89ms/step - loss: 0.7375 - accuracy: 0.9871 - val_loss: 0.9769 - val_accuracy: 0.9631\n",
            "Epoch 30/50\n",
            "667/667 [==============================] - 61s 91ms/step - loss: 0.7343 - accuracy: 0.9911 - val_loss: 0.7450 - val_accuracy: 0.9788\n",
            "Epoch 31/50\n",
            "667/667 [==============================] - 60s 90ms/step - loss: 0.6271 - accuracy: 0.9911 - val_loss: 0.8068 - val_accuracy: 0.9548\n",
            "Epoch 32/50\n",
            "667/667 [==============================] - 62s 93ms/step - loss: 0.6715 - accuracy: 0.9892 - val_loss: 0.7674 - val_accuracy: 0.9741\n",
            "Epoch 33/50\n",
            "667/667 [==============================] - 61s 91ms/step - loss: 0.6794 - accuracy: 0.9888 - val_loss: 0.8741 - val_accuracy: 0.9758\n",
            "Model training completed.\n"
          ]
        }
      ]
    },
    {
      "cell_type": "markdown",
      "source": [
        "The training stopped at <b>epoch 29</b> as the model started overfitting (shown by the validation loss). This happend <b> 12 epoch</b> after the previous model. Potentially, the model uncovered more hidden features. The training accuracy and validation accuracy graph are shown below."
      ],
      "metadata": {
        "id": "saPdR69JQxaY"
      }
    },
    {
      "cell_type": "code",
      "source": [
        "plot_training_history(history_complex_model)"
      ],
      "metadata": {
        "colab": {
          "base_uri": "https://localhost:8080/",
          "height": 402
        },
        "id": "7LMYWjxCv3Ga",
        "outputId": "fc8574b9-a543-4d9e-f905-a162f4cb01c7"
      },
      "execution_count": null,
      "outputs": [
        {
          "output_type": "display_data",
          "data": {
            "text/plain": [
              "<Figure size 1200x600 with 2 Axes>"
            ],
            "image/png": "[encoded data removed]"
          },
          "metadata": {}
        }
      ]
    },
    {
      "cell_type": "markdown",
      "source": [
        "This model has a higher training accuracy than validation accuracy from about **epoch 10**. And the validaton accuracy is **continuesly increasing**, with some fluctations. However, it is still** no indication of overfitting**."
      ],
      "metadata": {
        "id": "JUwueB-3RD12"
      }
    },
    {
      "cell_type": "code",
      "source": [
        "# Increasing rate\n",
        "train_rate_complex, val_rate_complex = calculate_accuracy_increase_rate(history_complex_model)\n",
        "print(\"Training Accuracy Increase Rate:\", train_rate_complex)\n",
        "print(\"Validation Accuracy Increase Rate:\", val_rate_complex)"
      ],
      "metadata": {
        "colab": {
          "base_uri": "https://localhost:8080/"
        },
        "id": "MHVWoQyrwTk6",
        "outputId": "82c0f288-4bfc-4cab-da4e-28324dbfa492"
      },
      "execution_count": null,
      "outputs": [
        {
          "output_type": "stream",
          "name": "stdout",
          "text": [
            "Training Accuracy Increase Rate: 0.01457444578409195\n",
            "Validation Accuracy Increase Rate: 0.006464507430791855\n"
          ]
        }
      ]
    },
    {
      "cell_type": "markdown",
      "source": [
        "The rate of increase for accuracy is calculated above. It is increasing at a slower rate than the simple CNN model."
      ],
      "metadata": {
        "id": "-shikkgvRb_S"
      }
    },
    {
      "cell_type": "markdown",
      "source": [
        "Then, the model is evaluated on the test data"
      ],
      "metadata": {
        "id": "nzkRwk-eRgfy"
      }
    },
    {
      "cell_type": "code",
      "source": [
        "# Test the model with the test data\n",
        "test_loss_complex, test_accuracy_complex = model_complex.evaluate(test_generator)\n",
        "\n",
        "print(f\"Test Loss: {test_loss_complex:.4f}\")\n",
        "print(f\"Test Accuracy: {test_accuracy_complex:.4f}\") # 89"
      ],
      "metadata": {
        "colab": {
          "base_uri": "https://localhost:8080/"
        },
        "id": "u2UhqO-Wv3r4",
        "outputId": "6e382de2-7b2c-44bb-88b9-8f5a97fee16e"
      },
      "execution_count": null,
      "outputs": [
        {
          "output_type": "stream",
          "name": "stdout",
          "text": [
            "394/394 [==============================] - 27s 69ms/step - loss: 0.9575 - accuracy: 0.9236\n",
            "Test Loss: 0.9575\n",
            "Test Accuracy: 0.9236\n"
          ]
        }
      ]
    },
    {
      "cell_type": "code",
      "source": [
        "# Make predictions on the test data\n",
        "test_pred_complex = model_complex.predict(test_generator)\n",
        "\n",
        "# Convert one-hot encoded predictions back to class labels\n",
        "predicted_labels_complex = np.argmax(test_pred_complex, axis=1)\n",
        "\n",
        "# Calculate the precision score\n",
        "precision_complex = precision_score(true_labels, predicted_labels_complex, average='weighted')\n",
        "\n",
        "print(f\"Precision Score: {precision_complex:.4f}\")"
      ],
      "metadata": {
        "colab": {
          "base_uri": "https://localhost:8080/"
        },
        "id": "NGjoJfhUv31a",
        "outputId": "bd28e730-8ce9-4aad-dc43-0f5ce0825f37"
      },
      "execution_count": null,
      "outputs": [
        {
          "output_type": "stream",
          "name": "stdout",
          "text": [
            "394/394 [==============================] - 27s 69ms/step\n",
            "Precision Score: 0.9270\n"
          ]
        }
      ]
    },
    {
      "cell_type": "code",
      "source": [
        "# Generate a classification report\n",
        "class_rep_complex = classification_report(true_labels, predicted_labels_complex, target_names=class_names)\n",
        "\n",
        "print(\"Classification Report:\\n\", class_rep_complex)"
      ],
      "metadata": {
        "colab": {
          "base_uri": "https://localhost:8080/"
        },
        "id": "YtZr-SxJwJEQ",
        "outputId": "49de2271-9dcf-4fec-8c2f-3312ff0728e1"
      },
      "execution_count": null,
      "outputs": [
        {
          "output_type": "stream",
          "name": "stdout",
          "text": [
            "Classification Report:\n",
            "               precision    recall  f1-score   support\n",
            "\n",
            "           0       0.98      0.96      0.97       293\n",
            "           1       0.92      0.98      0.95       293\n",
            "           2       0.96      0.98      0.97       293\n",
            "           3       0.91      0.97      0.94       293\n",
            "           4       1.00      0.93      0.96       293\n",
            "           5       0.99      1.00      0.99       293\n",
            "           6       0.95      0.97      0.96       293\n",
            "           7       0.94      0.98      0.96       293\n",
            "           8       0.87      0.97      0.92       293\n",
            "           9       1.00      0.98      0.99       293\n",
            "          10       0.93      0.95      0.94       293\n",
            "          11       0.94      0.96      0.95       293\n",
            "          12       0.93      0.97      0.95       293\n",
            "          13       0.82      0.96      0.89       293\n",
            "          14       0.92      0.92      0.92       293\n",
            "          15       0.85      0.90      0.87       293\n",
            "          16       0.85      0.92      0.89       293\n",
            "          17       0.99      0.88      0.93       293\n",
            "          18       0.97      0.95      0.96       293\n",
            "          19       0.88      0.73      0.80       293\n",
            "          20       0.81      0.94      0.87       293\n",
            "          21       0.98      0.89      0.93       293\n",
            "          22       0.94      0.93      0.93       293\n",
            "          23       0.99      0.91      0.94       293\n",
            "          24       0.91      0.80      0.85       293\n",
            "          25       0.90      0.96      0.93       293\n",
            "          26       0.89      1.00      0.94       293\n",
            "          27       0.96      0.96      0.96       293\n",
            "          28       0.96      0.97      0.96       293\n",
            "          29       1.00      0.95      0.97       293\n",
            "          30       0.86      0.93      0.89       293\n",
            "          31       0.79      0.93      0.85       293\n",
            "          32       1.00      0.95      0.97       293\n",
            "          33       1.00      0.88      0.94       293\n",
            "          34       0.97      0.95      0.96       293\n",
            "          35       0.99      0.69      0.81       293\n",
            "          36       0.80      0.76      0.78       293\n",
            "          37       0.91      0.78      0.84       293\n",
            "          38       0.86      0.96      0.90       293\n",
            "          39       0.98      0.87      0.92       293\n",
            "          40       0.89      0.97      0.93       293\n",
            "          41       0.95      0.90      0.92       293\n",
            "          42       0.92      1.00      0.96       293\n",
            "\n",
            "    accuracy                           0.92     12599\n",
            "   macro avg       0.93      0.92      0.92     12599\n",
            "weighted avg       0.93      0.92      0.92     12599\n",
            "\n"
          ]
        }
      ]
    },
    {
      "cell_type": "markdown",
      "source": [
        "Generally, the model is performing well with a test precision of 92.7% and test accuracy of 92.3%. For accuracy across all classes, the worst performing one is class 31 with 79% precision and 93% F1 score. It is also noticed that a few classes have perfect scores on precision.\n",
        "\n",
        "This model improved the performance of the simple CNN model especially on the accuracy across all classes on test data."
      ],
      "metadata": {
        "id": "Ypxi6RlARkDX"
      }
    },
    {
      "cell_type": "markdown",
      "source": [
        "<h2> Model 3: Even more complex CNN with Learning rate adjustment</h2>"
      ],
      "metadata": {
        "id": "NxP02q59wPQ2"
      }
    },
    {
      "cell_type": "markdown",
      "source": [
        "An attempt has been made to add more layers to the model with a **lower learning rate**. It could potentially allow a **more complexed model** with less likelihood of overfitting, at a cost of **increased training time**."
      ],
      "metadata": {
        "id": "b3rNSHfmSO8H"
      }
    },
    {
      "cell_type": "code",
      "source": [
        "# Define the CNN layers\n",
        "input_layer = Input(shape=(160, 160, 1))\n",
        "x = Conv2D(64, (3, 3), activation='relu', kernel_regularizer=regularizers.l2(0.01))(input_layer)\n",
        "x = BatchNormalization()(x)\n",
        "x = MaxPooling2D(2, 2)(x)\n",
        "\n",
        "x = Conv2D(128, (3, 3), activation='relu', kernel_regularizer=regularizers.l2(0.01))(x)\n",
        "x = BatchNormalization()(x)\n",
        "x = MaxPooling2D(2, 2)(x)\n",
        "\n",
        "x = Conv2D(256, (3, 3), activation='relu', kernel_regularizer=regularizers.l2(0.01))(x)\n",
        "x = BatchNormalization()(x)\n",
        "x = MaxPooling2D(2, 2)(x)\n",
        "\n",
        "x = Flatten()(x)\n",
        "x = Dense(512, activation='relu', kernel_regularizer=regularizers.l2(0.01))(x)\n",
        "x = Dropout(0.5)(x)\n",
        "output_layer = Dense(num_classes, activation='softmax')(x)\n",
        "# Create the model\n",
        "model_more_complex = Model(inputs=input_layer, outputs=output_layer)\n",
        "\n",
        "# Compile the model with a lower learning rate\n",
        "model_more_complex.compile(optimizer=RMSprop(learning_rate=0.0001), loss='categorical_crossentropy', metrics=['accuracy'])\n"
      ],
      "metadata": {
        "id": "v7yCUqraioFY"
      },
      "execution_count": null,
      "outputs": []
    },
    {
      "cell_type": "code",
      "source": [
        "model_more_complex.summary()"
      ],
      "metadata": {
        "colab": {
          "base_uri": "https://localhost:8080/"
        },
        "id": "RtwjmB0vkwK6",
        "outputId": "3b37efdd-73fc-4beb-b429-73b6cce5453a"
      },
      "execution_count": null,
      "outputs": [
        {
          "output_type": "stream",
          "name": "stdout",
          "text": [
            "Model: \"model_3\"\n",
            "_________________________________________________________________\n",
            " Layer (type)                Output Shape              Param #   \n",
            "=================================================================\n",
            " input_4 (InputLayer)        [(None, 160, 160, 1)]     0         \n",
            "                                                                 \n",
            " conv2d_9 (Conv2D)           (None, 158, 158, 64)      640       \n",
            "                                                                 \n",
            " batch_normalization_6 (Bat  (None, 158, 158, 64)      256       \n",
            " chNormalization)                                                \n",
            "                                                                 \n",
            " max_pooling2d_9 (MaxPoolin  (None, 79, 79, 64)        0         \n",
            " g2D)                                                            \n",
            "                                                                 \n",
            " conv2d_10 (Conv2D)          (None, 77, 77, 128)       73856     \n",
            "                                                                 \n",
            " batch_normalization_7 (Bat  (None, 77, 77, 128)       512       \n",
            " chNormalization)                                                \n",
            "                                                                 \n",
            " max_pooling2d_10 (MaxPooli  (None, 38, 38, 128)       0         \n",
            " ng2D)                                                           \n",
            "                                                                 \n",
            " conv2d_11 (Conv2D)          (None, 36, 36, 256)       295168    \n",
            "                                                                 \n",
            " batch_normalization_8 (Bat  (None, 36, 36, 256)       1024      \n",
            " chNormalization)                                                \n",
            "                                                                 \n",
            " max_pooling2d_11 (MaxPooli  (None, 18, 18, 256)       0         \n",
            " ng2D)                                                           \n",
            "                                                                 \n",
            " flatten_3 (Flatten)         (None, 82944)             0         \n",
            "                                                                 \n",
            " dense_6 (Dense)             (None, 512)               42467840  \n",
            "                                                                 \n",
            " dropout_3 (Dropout)         (None, 512)               0         \n",
            "                                                                 \n",
            " dense_7 (Dense)             (None, 43)                22059     \n",
            "                                                                 \n",
            "=================================================================\n",
            "Total params: 42861355 (163.50 MB)\n",
            "Trainable params: 42860459 (163.50 MB)\n",
            "Non-trainable params: 896 (3.50 KB)\n",
            "_________________________________________________________________\n"
          ]
        }
      ]
    },
    {
      "cell_type": "code",
      "source": [
        "# Compile the model with a lower learning rate\n",
        "model_more_complex.compile(optimizer=RMSprop(learning_rate=0.0001), loss='categorical_crossentropy', metrics=['accuracy'])\n",
        "\n",
        "# Early stopping callback\n",
        "early_stopping = EarlyStopping(monitor='val_loss', patience=3, restore_best_weights=True)\n",
        "\n",
        "# Train the model\n",
        "num_epochs = 50\n",
        "history_more_complex_model = model_more_complex.fit(train_generator,\n",
        "                                                    epochs=num_epochs,\n",
        "                                                    validation_data=valid_generator,\n",
        "                                                    callbacks=[early_stopping])\n",
        "\n",
        "print(\"Model training completed.\")"
      ],
      "metadata": {
        "colab": {
          "base_uri": "https://localhost:8080/"
        },
        "id": "vjvOOI-fjmqk",
        "outputId": "902fae33-f9fb-4692-8f04-a62086a37fea"
      },
      "execution_count": null,
      "outputs": [
        {
          "output_type": "stream",
          "name": "stdout",
          "text": [
            "Epoch 1/50\n",
            "667/667 [==============================] - 67s 91ms/step - loss: 11.3119 - accuracy: 0.5483 - val_loss: 7.0044 - val_accuracy: 0.7832\n",
            "Epoch 2/50\n",
            "667/667 [==============================] - 61s 92ms/step - loss: 6.0178 - accuracy: 0.7627 - val_loss: 4.5130 - val_accuracy: 0.8760\n",
            "Epoch 3/50\n",
            "667/667 [==============================] - 59s 89ms/step - loss: 4.2522 - accuracy: 0.8266 - val_loss: 3.4575 - val_accuracy: 0.8961\n",
            "Epoch 4/50\n",
            "667/667 [==============================] - 62s 93ms/step - loss: 3.3737 - accuracy: 0.8662 - val_loss: 2.9241 - val_accuracy: 0.9100\n",
            "Epoch 5/50\n",
            "667/667 [==============================] - 60s 90ms/step - loss: 2.8169 - accuracy: 0.8917 - val_loss: 2.4710 - val_accuracy: 0.9381\n",
            "Epoch 6/50\n",
            "667/667 [==============================] - 60s 90ms/step - loss: 2.4376 - accuracy: 0.9096 - val_loss: 2.2253 - val_accuracy: 0.9381\n",
            "Epoch 7/50\n",
            "667/667 [==============================] - 61s 91ms/step - loss: 2.0572 - accuracy: 0.9256 - val_loss: 1.8232 - val_accuracy: 0.9529\n",
            "Epoch 8/50\n",
            "667/667 [==============================] - 60s 90ms/step - loss: 1.6637 - accuracy: 0.9404 - val_loss: 1.4611 - val_accuracy: 0.9571\n",
            "Epoch 9/50\n",
            "667/667 [==============================] - 61s 91ms/step - loss: 1.3353 - accuracy: 0.9473 - val_loss: 1.2606 - val_accuracy: 0.9464\n",
            "Epoch 10/50\n",
            "667/667 [==============================] - 60s 89ms/step - loss: 1.1242 - accuracy: 0.9546 - val_loss: 1.0316 - val_accuracy: 0.9647\n",
            "Epoch 11/50\n",
            "667/667 [==============================] - 61s 91ms/step - loss: 0.9320 - accuracy: 0.9628 - val_loss: 0.9273 - val_accuracy: 0.9610\n",
            "Epoch 12/50\n",
            "667/667 [==============================] - 62s 92ms/step - loss: 0.8282 - accuracy: 0.9637 - val_loss: 0.8039 - val_accuracy: 0.9672\n",
            "Epoch 13/50\n",
            "667/667 [==============================] - 59s 89ms/step - loss: 0.7410 - accuracy: 0.9674 - val_loss: 0.8261 - val_accuracy: 0.9437\n",
            "Epoch 14/50\n",
            "667/667 [==============================] - 60s 90ms/step - loss: 0.6540 - accuracy: 0.9703 - val_loss: 0.6541 - val_accuracy: 0.9721\n",
            "Epoch 15/50\n",
            "667/667 [==============================] - 59s 89ms/step - loss: 0.5946 - accuracy: 0.9745 - val_loss: 0.6054 - val_accuracy: 0.9760\n",
            "Epoch 16/50\n",
            "667/667 [==============================] - 60s 89ms/step - loss: 0.5487 - accuracy: 0.9743 - val_loss: 0.5924 - val_accuracy: 0.9629\n",
            "Epoch 17/50\n",
            "667/667 [==============================] - 59s 88ms/step - loss: 0.5017 - accuracy: 0.9773 - val_loss: 0.5421 - val_accuracy: 0.9674\n",
            "Epoch 18/50\n",
            "667/667 [==============================] - 59s 88ms/step - loss: 0.4740 - accuracy: 0.9778 - val_loss: 0.5218 - val_accuracy: 0.9692\n",
            "Epoch 19/50\n",
            "667/667 [==============================] - 60s 90ms/step - loss: 0.4549 - accuracy: 0.9771 - val_loss: 0.4823 - val_accuracy: 0.9715\n",
            "Epoch 20/50\n",
            "667/667 [==============================] - 59s 89ms/step - loss: 0.4319 - accuracy: 0.9791 - val_loss: 0.4772 - val_accuracy: 0.9724\n",
            "Epoch 21/50\n",
            "667/667 [==============================] - 60s 90ms/step - loss: 0.4035 - accuracy: 0.9804 - val_loss: 0.4224 - val_accuracy: 0.9775\n",
            "Epoch 22/50\n",
            "667/667 [==============================] - 59s 88ms/step - loss: 0.3937 - accuracy: 0.9802 - val_loss: 0.4336 - val_accuracy: 0.9702\n",
            "Epoch 23/50\n",
            "667/667 [==============================] - 59s 89ms/step - loss: 0.3802 - accuracy: 0.9806 - val_loss: 0.4361 - val_accuracy: 0.9685\n",
            "Epoch 24/50\n",
            "667/667 [==============================] - 59s 88ms/step - loss: 0.3758 - accuracy: 0.9798 - val_loss: 0.3997 - val_accuracy: 0.9756\n",
            "Epoch 25/50\n",
            "667/667 [==============================] - 59s 89ms/step - loss: 0.3700 - accuracy: 0.9807 - val_loss: 0.3939 - val_accuracy: 0.9766\n",
            "Epoch 26/50\n",
            "667/667 [==============================] - 61s 91ms/step - loss: 0.3672 - accuracy: 0.9809 - val_loss: 0.4525 - val_accuracy: 0.9578\n",
            "Epoch 27/50\n",
            "667/667 [==============================] - 60s 89ms/step - loss: 0.3466 - accuracy: 0.9812 - val_loss: 0.3849 - val_accuracy: 0.9737\n",
            "Epoch 28/50\n",
            "667/667 [==============================] - 59s 88ms/step - loss: 0.3481 - accuracy: 0.9811 - val_loss: 0.4078 - val_accuracy: 0.9689\n",
            "Epoch 29/50\n",
            "667/667 [==============================] - 59s 88ms/step - loss: 0.3440 - accuracy: 0.9824 - val_loss: 0.3758 - val_accuracy: 0.9764\n",
            "Epoch 30/50\n",
            "667/667 [==============================] - 59s 88ms/step - loss: 0.3226 - accuracy: 0.9836 - val_loss: 0.3797 - val_accuracy: 0.9717\n",
            "Epoch 31/50\n",
            "667/667 [==============================] - 60s 90ms/step - loss: 0.3247 - accuracy: 0.9837 - val_loss: 0.3473 - val_accuracy: 0.9803\n",
            "Epoch 32/50\n",
            "667/667 [==============================] - 64s 95ms/step - loss: 0.3120 - accuracy: 0.9837 - val_loss: 0.3344 - val_accuracy: 0.9833\n",
            "Epoch 33/50\n",
            "667/667 [==============================] - 59s 89ms/step - loss: 0.3144 - accuracy: 0.9838 - val_loss: 0.4026 - val_accuracy: 0.9659\n",
            "Epoch 34/50\n",
            "667/667 [==============================] - 62s 92ms/step - loss: 0.3063 - accuracy: 0.9835 - val_loss: 0.3405 - val_accuracy: 0.9814\n",
            "Epoch 35/50\n",
            "667/667 [==============================] - 59s 89ms/step - loss: 0.3007 - accuracy: 0.9845 - val_loss: 0.3241 - val_accuracy: 0.9807\n",
            "Epoch 36/50\n",
            "667/667 [==============================] - 60s 90ms/step - loss: 0.3287 - accuracy: 0.9810 - val_loss: 0.3424 - val_accuracy: 0.9820\n",
            "Epoch 37/50\n",
            "667/667 [==============================] - 59s 88ms/step - loss: 0.3412 - accuracy: 0.9813 - val_loss: 0.5813 - val_accuracy: 0.9332\n",
            "Epoch 38/50\n",
            "667/667 [==============================] - 63s 94ms/step - loss: 0.3156 - accuracy: 0.9834 - val_loss: 0.3690 - val_accuracy: 0.9687\n",
            "Model training completed.\n"
          ]
        }
      ]
    },
    {
      "cell_type": "markdown",
      "source": [
        "The training stopped at **epoch 38** as the model started overfitting (shown by the validation loss). This happend **9 epoch after** the previous model. The training accuracy and validation accuracy graph are shown below. It was noted that the **training accuracy** and the **validation accuracy** are both **very high**."
      ],
      "metadata": {
        "id": "dtGoRfdwSYWu"
      }
    },
    {
      "cell_type": "code",
      "source": [
        "plot_training_history(history_more_complex_model)"
      ],
      "metadata": {
        "id": "1ZIG9-9wVd4C",
        "colab": {
          "base_uri": "https://localhost:8080/",
          "height": 402
        },
        "outputId": "7b789bb7-358a-42ae-8955-6b7e3077d40f"
      },
      "execution_count": null,
      "outputs": [
        {
          "output_type": "display_data",
          "data": {
            "text/plain": [
              "<Figure size 1200x600 with 2 Axes>"
            ],
            "image/png": "[encoded data removed]"
          },
          "metadata": {}
        }
      ]
    },
    {
      "cell_type": "markdown",
      "source": [
        "This model has a higher training accuracy than validation accuracy. And the validaton accuracy is continuesly increasing, with significant fluctuations nearing the end. However, it is still no indications of overfitting."
      ],
      "metadata": {
        "id": "KeRwe62wSh6N"
      }
    },
    {
      "cell_type": "code",
      "source": [
        "# Increasing rate\n",
        "train_rate_mComplex, val_rate_mComplex = calculate_accuracy_increase_rate(history_more_complex_model)\n",
        "print(\"Training Accuracy Increase Rate:\", train_rate_mComplex)\n",
        "print(\"Validation Accuracy Increase Rate:\", val_rate_mComplex)"
      ],
      "metadata": {
        "id": "BlPptPKHjZOQ",
        "colab": {
          "base_uri": "https://localhost:8080/"
        },
        "outputId": "cd84ff82-9420-4a06-9127-2e8ba66d1d7d"
      },
      "execution_count": null,
      "outputs": [
        {
          "output_type": "stream",
          "name": "stdout",
          "text": [
            "Training Accuracy Increase Rate: 0.011758428973120611\n",
            "Validation Accuracy Increase Rate: 0.005013077645688443\n"
          ]
        }
      ]
    },
    {
      "cell_type": "markdown",
      "source": [
        "The rate of increase for accuracy is calculated above. It is training at a much slower rate than the simple CNN model."
      ],
      "metadata": {
        "id": "yFbIByQYSve8"
      }
    },
    {
      "cell_type": "markdown",
      "source": [
        "Then, the model is evaluated on the test data"
      ],
      "metadata": {
        "id": "FTaA6kgkS2Y4"
      }
    },
    {
      "cell_type": "code",
      "source": [
        "# Test the model with the test data\n",
        "test_loss_mComplex, test_accuracy_mComplex = model_more_complex.evaluate(test_generator)\n",
        "\n",
        "print(f\"Test Loss: {test_loss_mComplex:.4f}\")\n",
        "print(f\"Test Accuracy: {test_accuracy_mComplex:.4f}\")"
      ],
      "metadata": {
        "id": "lOQJcz2duiua",
        "colab": {
          "base_uri": "https://localhost:8080/"
        },
        "outputId": "9f07d1b5-a374-4309-bd48-d386ad2674be"
      },
      "execution_count": null,
      "outputs": [
        {
          "output_type": "stream",
          "name": "stdout",
          "text": [
            "394/394 [==============================] - 25s 64ms/step - loss: 0.5811 - accuracy: 0.9090\n",
            "Test Loss: 0.5811\n",
            "Test Accuracy: 0.9090\n"
          ]
        }
      ]
    },
    {
      "cell_type": "code",
      "source": [
        "# Make predictions on the test data\n",
        "test_pred_mComplex = model_more_complex.predict(test_generator)\n",
        "\n",
        "# Convert one-hot encoded predictions back to class labels\n",
        "predicted_labels_mComplex = np.argmax(test_pred_mComplex, axis=1)\n",
        "\n",
        "# Calculate the precision score\n",
        "precision_mComplex = precision_score(true_labels, predicted_labels_mComplex, average='weighted')\n",
        "\n",
        "print(f\"Precision Score: {precision_mComplex:.4f}\") # 85 87"
      ],
      "metadata": {
        "id": "9r6PFojTuqq9",
        "colab": {
          "base_uri": "https://localhost:8080/"
        },
        "outputId": "7bd28be6-7832-43d5-8909-c7601a090fa6"
      },
      "execution_count": null,
      "outputs": [
        {
          "output_type": "stream",
          "name": "stdout",
          "text": [
            "394/394 [==============================] - 24s 62ms/step\n",
            "Precision Score: 0.9166\n"
          ]
        }
      ]
    },
    {
      "cell_type": "code",
      "source": [
        "# Generate a classification report\n",
        "class_rep_mComplex = classification_report(true_labels, predicted_labels_mComplex, target_names=class_names)\n",
        "\n",
        "print(\"Classification Report:\\n\", class_rep_mComplex)"
      ],
      "metadata": {
        "colab": {
          "base_uri": "https://localhost:8080/"
        },
        "id": "omduGPdyO7Nz",
        "outputId": "da3df29c-cd0d-4867-ee1e-3acf97e85a53"
      },
      "execution_count": null,
      "outputs": [
        {
          "output_type": "stream",
          "name": "stdout",
          "text": [
            "Classification Report:\n",
            "               precision    recall  f1-score   support\n",
            "\n",
            "           0       0.87      1.00      0.93       293\n",
            "           1       0.90      0.97      0.93       293\n",
            "           2       1.00      0.99      0.99       293\n",
            "           3       0.96      0.98      0.97       293\n",
            "           4       0.99      0.92      0.96       293\n",
            "           5       1.00      0.99      0.99       293\n",
            "           6       1.00      0.93      0.96       293\n",
            "           7       0.93      0.98      0.95       293\n",
            "           8       0.85      0.98      0.91       293\n",
            "           9       1.00      0.95      0.98       293\n",
            "          10       0.91      0.88      0.89       293\n",
            "          11       0.90      0.87      0.89       293\n",
            "          12       0.97      0.98      0.98       293\n",
            "          13       0.84      0.92      0.88       293\n",
            "          14       0.89      0.93      0.91       293\n",
            "          15       0.96      0.86      0.91       293\n",
            "          16       0.90      0.89      0.90       293\n",
            "          17       0.91      0.74      0.82       293\n",
            "          18       0.98      0.97      0.97       293\n",
            "          19       0.65      0.71      0.68       293\n",
            "          20       0.87      0.82      0.84       293\n",
            "          21       0.96      0.84      0.89       293\n",
            "          22       0.82      0.96      0.88       293\n",
            "          23       0.98      0.93      0.95       293\n",
            "          24       0.97      0.62      0.75       293\n",
            "          25       0.62      0.98      0.76       293\n",
            "          26       0.87      0.99      0.92       293\n",
            "          27       0.97      0.97      0.97       293\n",
            "          28       0.90      0.95      0.92       293\n",
            "          29       0.99      0.99      0.99       293\n",
            "          30       0.86      0.94      0.89       293\n",
            "          31       0.92      0.94      0.93       293\n",
            "          32       1.00      0.96      0.98       293\n",
            "          33       0.92      0.86      0.89       293\n",
            "          34       0.99      0.97      0.98       293\n",
            "          35       0.96      0.75      0.84       293\n",
            "          36       0.80      0.72      0.75       293\n",
            "          37       0.96      0.76      0.85       293\n",
            "          38       0.83      0.96      0.89       293\n",
            "          39       0.96      0.87      0.91       293\n",
            "          40       0.95      0.96      0.95       293\n",
            "          41       0.96      0.92      0.94       293\n",
            "          42       0.96      1.00      0.98       293\n",
            "\n",
            "    accuracy                           0.91     12599\n",
            "   macro avg       0.92      0.91      0.91     12599\n",
            "weighted avg       0.92      0.91      0.91     12599\n",
            "\n"
          ]
        }
      ]
    },
    {
      "cell_type": "markdown",
      "source": [
        "Although the model is performing much better in training data, the result on test data **very similar** to the previous model. **Althernative model is recommended** as this is learning at a slower rate with more computational power needed."
      ],
      "metadata": {
        "id": "fsDHJhJkS51j"
      }
    },
    {
      "cell_type": "markdown",
      "source": [
        "<h2> Model 4: Even more complex CNN with regularization and more layers</h2>\n"
      ],
      "metadata": {
        "id": "kOkTitWY6R32"
      }
    },
    {
      "cell_type": "markdown",
      "source": [
        "As the previous model not performing well, an attempt has been made to add more layers to the model so that it could potentially allow a **more complexed model** with less likelihood of overfitting, at a cost of **increased training time**."
      ],
      "metadata": {
        "id": "Hq7fyLpuUhbv"
      }
    },
    {
      "cell_type": "code",
      "source": [
        "# Define a more complex CNN architecture\n",
        "input_layer = Input(shape=(160, 160, 1))\n",
        "x = Conv2D(64, (3, 3), activation='relu', kernel_regularizer=regularizers.l2(0.01))(input_layer)\n",
        "x = BatchNormalization()(x)\n",
        "x = MaxPooling2D(2, 2)(x)\n",
        "\n",
        "x = Conv2D(128, (3, 3), activation='relu', kernel_regularizer=regularizers.l2(0.01))(x)\n",
        "x = BatchNormalization()(x)\n",
        "x = MaxPooling2D(2, 2)(x)\n",
        "\n",
        "x = Conv2D(256, (3, 3), activation='relu', kernel_regularizer=regularizers.l2(0.01))(x)\n",
        "x = BatchNormalization()(x)\n",
        "x = MaxPooling2D(2, 2)(x)\n",
        "\n",
        "x = Flatten()(x)\n",
        "x = Dense(512, activation='relu', kernel_regularizer=regularizers.l2(0.01))(x)\n",
        "x = Dropout(0.5)(x)\n",
        "\n",
        "# Add another dense layer with dropout\n",
        "x = Dense(256, activation='relu', kernel_regularizer=regularizers.l2(0.01))(x)\n",
        "x = Dropout(0.4)(x)\n",
        "\n",
        "output_layer = Dense(num_classes, activation='softmax')(x)\n",
        "\n",
        "# Create the model\n",
        "model_modified = Model(inputs=input_layer, outputs=output_layer)\n",
        "\n",
        "# Compile the model with a lower learning rate\n",
        "model_modified.compile(optimizer=RMSprop(learning_rate=0.0001), loss='categorical_crossentropy', metrics=['accuracy'])\n"
      ],
      "metadata": {
        "id": "v7zUnmfG4p-a"
      },
      "execution_count": null,
      "outputs": []
    },
    {
      "cell_type": "markdown",
      "source": [
        "The above model is revised from all previous models. It added more omore set of dense layers and dropout layers with regularization. It also had a lower learning rate."
      ],
      "metadata": {
        "id": "tDPDg4LYU5vf"
      }
    },
    {
      "cell_type": "code",
      "source": [
        "# Early stopping callback\n",
        "early_stopping = EarlyStopping(monitor='val_loss', patience=3, restore_best_weights=True)\n",
        "\n",
        "# Train the model\n",
        "num_epochs = 50\n",
        "history_modified_model = model_modified.fit(train_generator,\n",
        "                                            epochs=num_epochs,\n",
        "                                            validation_data=valid_generator,\n",
        "                                            callbacks=[early_stopping])\n",
        "\n",
        "print(\"Model training completed.\")"
      ],
      "metadata": {
        "colab": {
          "base_uri": "https://localhost:8080/"
        },
        "id": "WaUAF2Uv6jUu",
        "outputId": "206f2d77-b979-480c-9c01-4f7f70bb35d2"
      },
      "execution_count": null,
      "outputs": [
        {
          "output_type": "stream",
          "name": "stdout",
          "text": [
            "Epoch 1/50\n",
            "667/667 [==============================] - 68s 95ms/step - loss: 13.8426 - accuracy: 0.2964 - val_loss: 7.9290 - val_accuracy: 0.6504\n",
            "Epoch 2/50\n",
            "667/667 [==============================] - 62s 92ms/step - loss: 6.9111 - accuracy: 0.5617 - val_loss: 4.8876 - val_accuracy: 0.8110\n",
            "Epoch 3/50\n",
            "667/667 [==============================] - 60s 90ms/step - loss: 4.7278 - accuracy: 0.6926 - val_loss: 3.5268 - val_accuracy: 0.8788\n",
            "Epoch 4/50\n",
            "667/667 [==============================] - 61s 92ms/step - loss: 3.4829 - accuracy: 0.7846 - val_loss: 2.7011 - val_accuracy: 0.9164\n",
            "Epoch 5/50\n",
            "667/667 [==============================] - 60s 90ms/step - loss: 2.6856 - accuracy: 0.8434 - val_loss: 2.1533 - val_accuracy: 0.9360\n",
            "Epoch 6/50\n",
            "667/667 [==============================] - 61s 92ms/step - loss: 2.0696 - accuracy: 0.8924 - val_loss: 1.6878 - val_accuracy: 0.9527\n",
            "Epoch 7/50\n",
            "667/667 [==============================] - 62s 93ms/step - loss: 1.6079 - accuracy: 0.9225 - val_loss: 1.4144 - val_accuracy: 0.9625\n",
            "Epoch 8/50\n",
            "667/667 [==============================] - 63s 94ms/step - loss: 1.2992 - accuracy: 0.9371 - val_loss: 1.1310 - val_accuracy: 0.9623\n",
            "Epoch 9/50\n",
            "667/667 [==============================] - 60s 89ms/step - loss: 1.0692 - accuracy: 0.9527 - val_loss: 1.0091 - val_accuracy: 0.9580\n",
            "Epoch 10/50\n",
            "667/667 [==============================] - 63s 94ms/step - loss: 0.9239 - accuracy: 0.9559 - val_loss: 0.8234 - val_accuracy: 0.9745\n",
            "Epoch 11/50\n",
            "667/667 [==============================] - 62s 92ms/step - loss: 0.8127 - accuracy: 0.9593 - val_loss: 0.7281 - val_accuracy: 0.9769\n",
            "Epoch 12/50\n",
            "667/667 [==============================] - 60s 90ms/step - loss: 0.7172 - accuracy: 0.9647 - val_loss: 0.6623 - val_accuracy: 0.9756\n",
            "Epoch 13/50\n",
            "667/667 [==============================] - 61s 91ms/step - loss: 0.6626 - accuracy: 0.9669 - val_loss: 0.6086 - val_accuracy: 0.9797\n",
            "Epoch 14/50\n",
            "667/667 [==============================] - 59s 89ms/step - loss: 0.6220 - accuracy: 0.9682 - val_loss: 0.5914 - val_accuracy: 0.9807\n",
            "Epoch 15/50\n",
            "667/667 [==============================] - 63s 94ms/step - loss: 0.5910 - accuracy: 0.9704 - val_loss: 0.5485 - val_accuracy: 0.9797\n",
            "Epoch 16/50\n",
            "667/667 [==============================] - 61s 91ms/step - loss: 0.5674 - accuracy: 0.9705 - val_loss: 0.5460 - val_accuracy: 0.9760\n",
            "Epoch 17/50\n",
            "667/667 [==============================] - 60s 89ms/step - loss: 0.5457 - accuracy: 0.9717 - val_loss: 0.5269 - val_accuracy: 0.9796\n",
            "Epoch 18/50\n",
            "667/667 [==============================] - 59s 89ms/step - loss: 0.5355 - accuracy: 0.9731 - val_loss: 0.5084 - val_accuracy: 0.9790\n",
            "Epoch 19/50\n",
            "667/667 [==============================] - 60s 89ms/step - loss: 0.5201 - accuracy: 0.9726 - val_loss: 0.4967 - val_accuracy: 0.9850\n",
            "Epoch 20/50\n",
            "667/667 [==============================] - 60s 89ms/step - loss: 0.5110 - accuracy: 0.9720 - val_loss: 0.4948 - val_accuracy: 0.9816\n",
            "Epoch 21/50\n",
            "667/667 [==============================] - 62s 92ms/step - loss: 0.5009 - accuracy: 0.9728 - val_loss: 0.4801 - val_accuracy: 0.9807\n",
            "Epoch 22/50\n",
            "667/667 [==============================] - 63s 95ms/step - loss: 0.4879 - accuracy: 0.9739 - val_loss: 0.4781 - val_accuracy: 0.9794\n",
            "Epoch 23/50\n",
            "667/667 [==============================] - 61s 92ms/step - loss: 0.4875 - accuracy: 0.9741 - val_loss: 0.4619 - val_accuracy: 0.9837\n",
            "Epoch 24/50\n",
            "667/667 [==============================] - 59s 88ms/step - loss: 0.4827 - accuracy: 0.9736 - val_loss: 0.4624 - val_accuracy: 0.9824\n",
            "Epoch 25/50\n",
            "667/667 [==============================] - 59s 89ms/step - loss: 0.4721 - accuracy: 0.9741 - val_loss: 0.4783 - val_accuracy: 0.9721\n",
            "Epoch 26/50\n",
            "667/667 [==============================] - 61s 91ms/step - loss: 0.4670 - accuracy: 0.9741 - val_loss: 0.4787 - val_accuracy: 0.9788\n",
            "Model training completed.\n"
          ]
        }
      ]
    },
    {
      "cell_type": "markdown",
      "source": [
        "The training stopped at **epoch 26** as the model started overfitting (shown by the validation loss). This happend 12 epoch before the previous model. The training accuracy and validation accuracy graph are shown below. It was noted that the **training accuracy** and the **validation accuracy** are both **still very high**."
      ],
      "metadata": {
        "id": "Fbl-NjRIWdxY"
      }
    },
    {
      "cell_type": "code",
      "source": [
        "plot_training_history(history_modified_model)"
      ],
      "metadata": {
        "colab": {
          "base_uri": "https://localhost:8080/",
          "height": 402
        },
        "id": "WR_38VwwIKeu",
        "outputId": "f78469f3-c7fe-4dfa-a30a-a29904b996df"
      },
      "execution_count": null,
      "outputs": [
        {
          "output_type": "display_data",
          "data": {
            "text/plain": [
              "<Figure size 1200x600 with 2 Axes>"
            ],
            "image/png": "[encoded data removed]"
          },
          "metadata": {}
        }
      ]
    },
    {
      "cell_type": "markdown",
      "source": [
        "This model has a similar training accuracy than validation accuracy. UnLike the previous model, validation accuracy did **not experienced significant fluctuations**. The model is thus much more **stable**. Moreover, it is still no indications of overfitting."
      ],
      "metadata": {
        "id": "4MVfSJ8YWnwd"
      }
    },
    {
      "cell_type": "code",
      "source": [
        "# Test the model with the test data\n",
        "test_loss_mComplex, test_accuracy_mComplex = model_modified.evaluate(test_generator)\n",
        "\n",
        "print(f\"Test Loss: {test_loss_mComplex:.4f}\")\n",
        "print(f\"Test Accuracy: {test_accuracy_mComplex:.4f}\")"
      ],
      "metadata": {
        "id": "fqa7qLr162ml",
        "colab": {
          "base_uri": "https://localhost:8080/"
        },
        "outputId": "c8af76a6-4f71-46d0-c6b3-a270aaff0e67"
      },
      "execution_count": null,
      "outputs": [
        {
          "output_type": "stream",
          "name": "stdout",
          "text": [
            "394/394 [==============================] - 27s 68ms/step - loss: 0.6445 - accuracy: 0.9296\n",
            "Test Loss: 0.6445\n",
            "Test Accuracy: 0.9296\n"
          ]
        }
      ]
    },
    {
      "cell_type": "code",
      "source": [
        "# Make predictions on the test data\n",
        "test_pred_modified = model_modified.predict(test_generator)\n",
        "\n",
        "# Convert one-hot encoded predictions back to class labels\n",
        "predicted_labels_modified = np.argmax(test_pred_modified, axis=1)\n",
        "\n",
        "# Calculate the precision score\n",
        "precision_modified = precision_score(true_labels, predicted_labels_modified, average='weighted')\n",
        "\n",
        "print(f\"Precision Score: {precision_modified:.4f}\") # 85 87"
      ],
      "metadata": {
        "colab": {
          "base_uri": "https://localhost:8080/"
        },
        "id": "hPpBgVZHIRv5",
        "outputId": "91272d56-1f0a-4c30-dc99-c1ad6293699f"
      },
      "execution_count": null,
      "outputs": [
        {
          "output_type": "stream",
          "name": "stdout",
          "text": [
            "394/394 [==============================] - 26s 65ms/step\n",
            "Precision Score: 0.9337\n"
          ]
        }
      ]
    },
    {
      "cell_type": "markdown",
      "source": [
        "After this adjustment, the new model did **not perform better** than the previous model. Thus, the exploration of model structure is concluded.\n",
        "\n",
        "The project will more on to saving this model and training of other models."
      ],
      "metadata": {
        "id": "U8mYMIc5WtBd"
      }
    },
    {
      "cell_type": "markdown",
      "source": [
        " <h1> 5.3 Saving the model</h1>"
      ],
      "metadata": {
        "id": "hPIoN9AEBbSc"
      }
    },
    {
      "cell_type": "markdown",
      "source": [
        "The raw predictions, training history, and model are saved below. They were all saved to google drive for reusing and analysis in the future.\n",
        "\n"
      ],
      "metadata": {
        "id": "Q5aU252hWz9w"
      }
    },
    {
      "cell_type": "code",
      "source": [
        "# Define the file path where you want to save the raw predictions\n",
        "save_path = \"best_test_predictions_CNN.npy\"\n",
        "\n",
        "# Save the raw predictions to the specified file\n",
        "np.save(save_path, test_pred_modified)\n",
        "\n",
        "print(f\"Raw predictions saved to '{save_path}'.\")"
      ],
      "metadata": {
        "colab": {
          "base_uri": "https://localhost:8080/"
        },
        "id": "tjpXm_g0TEmN",
        "outputId": "6d6ebe08-776c-49f5-ed4f-7ead38590c7d"
      },
      "execution_count": null,
      "outputs": [
        {
          "output_type": "stream",
          "name": "stdout",
          "text": [
            "Raw predictions saved to 'best_test_predictions_CNN.npy'.\n"
          ]
        }
      ]
    },
    {
      "cell_type": "code",
      "source": [
        "model_modified.save(\"final_CNN_model.keras\")"
      ],
      "metadata": {
        "id": "Xfuln5m4C3R7"
      },
      "execution_count": null,
      "outputs": []
    },
    {
      "cell_type": "code",
      "source": [
        "def save_training_history(history, filename):\n",
        "    # Create a DataFrame from the training history\n",
        "    history_df = pd.DataFrame(history.history)\n",
        "\n",
        "    # Save the DataFrame to a CSV file\n",
        "    history_df.to_csv(filename, index=False)\n",
        "\n",
        "    # Print the first few rows of the history DataFrame\n",
        "    print(history_df.head())"
      ],
      "metadata": {
        "id": "jD8a_DTcBd5C"
      },
      "execution_count": null,
      "outputs": []
    },
    {
      "cell_type": "code",
      "source": [
        "save_training_history(history_simpleCNN, 'training_history_simpleCNN.csv')\n",
        "save_training_history(history_modified_model, 'training_history_complexCNN.csv')"
      ],
      "metadata": {
        "id": "hIWdpGeiBwBV",
        "colab": {
          "base_uri": "https://localhost:8080/"
        },
        "outputId": "0a30d176-a098-4516-9ae8-4bb2b09e3e8d"
      },
      "execution_count": null,
      "outputs": [
        {
          "output_type": "stream",
          "name": "stdout",
          "text": [
            "       loss  accuracy  val_loss  val_accuracy\n",
            "0  1.793514  0.499156  0.590471      0.832333\n",
            "1  0.698569  0.784649  0.328200      0.907914\n",
            "2  0.468224  0.851604  0.297311      0.915979\n",
            "3  0.345081  0.888878  0.226612      0.931920\n",
            "4  0.275400  0.911619  0.232147      0.927794\n",
            "        loss  accuracy  val_loss  val_accuracy\n",
            "0  13.842560  0.296418  7.928982      0.650413\n",
            "1   6.911101  0.561750  4.887598      0.810953\n",
            "2   4.727787  0.692564  3.526845      0.878845\n",
            "3   3.482876  0.784555  2.701056      0.916354\n",
            "4   2.685626  0.843445  2.153270      0.936047\n"
          ]
        }
      ]
    },
    {
      "cell_type": "code",
      "source": [
        "import shutil\n",
        "import os\n",
        "\n",
        "# Define the destination directory in Google Drive\n",
        "dest_dir = 'drive/MyDrive/final/training_models/CNN/'\n",
        "\n",
        "# Create the destination directory if it doesn't exist\n",
        "os.makedirs(dest_dir, exist_ok=True)\n",
        "\n",
        "# Define the source paths\n",
        "src_paths = [\n",
        "    'final_CNN_model.h5',\n",
        "    'final_CNN_model.keras',\n",
        "    'training_history_simpleCNN.csv',\n",
        "    'training_history_complexCNN.csv',\n",
        "    'best_test_predictions_CNN.npy'\n",
        "]\n",
        "\n",
        "# Copy files to Google Drive\n",
        "for src_path in src_paths:\n",
        "    shutil.copy(src_path, dest_dir)\n",
        "\n",
        "print(\"Files copied to Google Drive successfully.\")"
      ],
      "metadata": {
        "id": "INCKfh3KDhys",
        "colab": {
          "base_uri": "https://localhost:8080/"
        },
        "outputId": "d126d770-54ff-4a9c-e129-048ecf4a2ca6"
      },
      "execution_count": null,
      "outputs": [
        {
          "output_type": "stream",
          "name": "stdout",
          "text": [
            "Files copied to Google Drive successfully.\n"
          ]
        }
      ]
    }
  ]
}