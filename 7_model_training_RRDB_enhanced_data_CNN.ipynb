{
  "nbformat": 4,
  "nbformat_minor": 0,
  "metadata": {
    "colab": {
      "provenance": [],
      "gpuType": "T4",
      "authorship_tag": "ABX9TyOlJEiEgtLtN51U/zQICJuM",
      "include_colab_link": true
    },
    "kernelspec": {
      "name": "python3",
      "display_name": "Python 3"
    },
    "language_info": {
      "name": "python"
    },
    "accelerator": "GPU"
  },
  "cells": [
    {
      "cell_type": "markdown",
      "metadata": {
        "id": "view-in-github",
        "colab_type": "text"
      },
      "source": [
        "<a href=\"https://colab.research.google.com/github/Jieoi/traffic_sign_recognition/blob/updating/7_model_training_RRDB_enhanced_data_CNN.ipynb\" target=\"_parent\"><img src=\"https://colab.research.google.com/assets/colab-badge.svg\" alt=\"Open In Colab\"/></a>"
      ]
    },
    {
      "cell_type": "markdown",
      "source": [
        "Note: This instance of Google Colab has been configured to use T4 GPU. It is possible to run all other sections at a slower rate on CPU."
      ],
      "metadata": {
        "id": "n4bbpXqXE-ys"
      }
    },
    {
      "cell_type": "markdown",
      "source": [
        "Note: The code below has been configured to run on Google colab with python scripts and data imported from google drive. Please download the scripts and data from [here](https://drive.google.com/drive/folders/1nViTcpc952b0ftRGqkDBFqbSEC01t0a8). Files required including all scripts and helper files under data_preparation folder and data_augmentation folder. Alternatively, vist my github repository to [download](https://github.com/Jieoi/traffic_sign_recognition/tree/main) the scripts and helper files."
      ],
      "metadata": {
        "id": "dGeJSyPpFI_t"
      }
    },
    {
      "cell_type": "markdown",
      "source": [
        "<h1> 7. Machine Learning on ESR-GAN Enhanced Images using CNN</h1>"
      ],
      "metadata": {
        "id": "cX68P2z6KqgN"
      }
    },
    {
      "cell_type": "markdown",
      "source": [
        "Based on Notebook 2 [Training data preparation using RRDB](https://github.com/Jieoi/traffic_sign_recognition/blob/main/2_train_data_preparation_RRDB.ipynb), this notebook is used to train a CNN model on the enhanced training data.\n",
        "\n",
        "The testing data is also loaded to evaluate the models as they are being developed.\n",
        "\n",
        "The testing data is from Notebook 3 [Testing data preparation using simple technic](https://github.com/Jieoi/traffic_sign_recognition/blob/main/4_test_data_preparation_RRDB.ipynb).\n",
        "\n",
        "There is **no need to run the notebooks named above**, a copy of the prepared data is saved in the Google drive which will be loaded in 7.1.1."
      ],
      "metadata": {
        "id": "_L2NqqJpQDnr"
      }
    },
    {
      "cell_type": "markdown",
      "source": [
        "<h2> 7.1 Data Preparation for Machine Learning</h2>"
      ],
      "metadata": {
        "id": "FA8lAuWTQ4Bd"
      }
    },
    {
      "cell_type": "markdown",
      "source": [
        "Firstly, the data that were enhanced and augmented were loaded from the Google drive. As this colab instance is configured to use T4 GPU, some configuration checks are conducted to ensure the GPU is available. Libraries that are needed for machine learning were also imported."
      ],
      "metadata": {
        "id": "nqaFF_bla7G4"
      }
    },
    {
      "cell_type": "markdown",
      "source": [
        "<h2>7.1 Preparing the notebook</h2>"
      ],
      "metadata": {
        "id": "M5uxRK7kKx_U"
      }
    },
    {
      "cell_type": "markdown",
      "source": [
        "The first step is to connect to Google Drive so that the data enhanced in the previouse notebook can be used.\n",
        "\n",
        "The exact files that the notebook needs to  access are <code>image_enhanced_PIL_RRDB.zip</code> and <code>image_dataRRDB.csv</code>.\n",
        "They can be found in the train_data and test_data folders <a href=\"https://drive.google.com/drive/folders/1nViTcpc952b0ftRGqkDBFqbSEC01t0a8\">here</a>.\n",
        "\n",
        "\n",
        "Ideally, the notebook should be run in Google Colab with high RAM and GPU support. However, the code can be excuted on CPU only mode with a longer training time."
      ],
      "metadata": {
        "id": "COiJJylxK30z"
      }
    },
    {
      "cell_type": "code",
      "source": [
        "# Checking GPU availability\n",
        "!nvidia-smi"
      ],
      "metadata": {
        "colab": {
          "base_uri": "https://localhost:8080/"
        },
        "id": "NKBTqdfmQUr1",
        "outputId": "09329212-f89f-42d5-c3b5-9a02d5496a48"
      },
      "execution_count": null,
      "outputs": [
        {
          "output_type": "stream",
          "name": "stdout",
          "text": [
            "Sat Sep  9 12:17:04 2023       \n",
            "+-----------------------------------------------------------------------------+\n",
            "| NVIDIA-SMI 525.105.17   Driver Version: 525.105.17   CUDA Version: 12.0     |\n",
            "|-------------------------------+----------------------+----------------------+\n",
            "| GPU  Name        Persistence-M| Bus-Id        Disp.A | Volatile Uncorr. ECC |\n",
            "| Fan  Temp  Perf  Pwr:Usage/Cap|         Memory-Usage | GPU-Util  Compute M. |\n",
            "|                               |                      |               MIG M. |\n",
            "|===============================+======================+======================|\n",
            "|   0  Tesla T4            Off  | 00000000:00:04.0 Off |                    0 |\n",
            "| N/A   59C    P8    10W /  70W |      0MiB / 15360MiB |      0%      Default |\n",
            "|                               |                      |                  N/A |\n",
            "+-------------------------------+----------------------+----------------------+\n",
            "                                                                               \n",
            "+-----------------------------------------------------------------------------+\n",
            "| Processes:                                                                  |\n",
            "|  GPU   GI   CI        PID   Type   Process name                  GPU Memory |\n",
            "|        ID   ID                                                   Usage      |\n",
            "|=============================================================================|\n",
            "|  No running processes found                                                 |\n",
            "+-----------------------------------------------------------------------------+\n"
          ]
        }
      ]
    },
    {
      "cell_type": "markdown",
      "source": [
        "The output shows that the GPU is available."
      ],
      "metadata": {
        "id": "o-0mxftvRqAu"
      }
    },
    {
      "cell_type": "markdown",
      "source": [
        "Google drive is also mounted to this colab instance. Data is then extracted from the zip file."
      ],
      "metadata": {
        "id": "-SzA6v6VRsiI"
      }
    },
    {
      "cell_type": "code",
      "execution_count": null,
      "metadata": {
        "colab": {
          "base_uri": "https://localhost:8080/"
        },
        "id": "_hnGCcs_4sNy",
        "outputId": "a1c672e6-c869-4864-cf62-d9c9b90f05d5"
      },
      "outputs": [
        {
          "output_type": "stream",
          "name": "stdout",
          "text": [
            "Mounted at drive\n"
          ]
        }
      ],
      "source": [
        "from google.colab import drive\n",
        "\n",
        "# Mount Google Drive\n",
        "drive.mount('drive', force_remount=True)"
      ]
    },
    {
      "cell_type": "markdown",
      "source": [
        "The libraries used in this notebook are listed below."
      ],
      "metadata": {
        "id": "DYBNIWx1Km-Q"
      }
    },
    {
      "cell_type": "code",
      "source": [
        "# Zip file handling\n",
        "import zipfile\n",
        "import os\n",
        "\n",
        "# Data handling and visualization\n",
        "import os\n",
        "import cv2\n",
        "import numpy as np\n",
        "import pandas as pd\n",
        "import matplotlib.pyplot as plt\n",
        "\n",
        "# File handling and management for training and validation data\n",
        "from shutil import copyfile\n",
        "from sklearn.model_selection import train_test_split\n",
        "\n",
        "# importing library for ML processing\n",
        "import tensorflow as tf\n",
        "from tensorflow.keras.preprocessing.image import ImageDataGenerator\n",
        "\n",
        "# CNN layers\n",
        "from tensorflow.keras.layers import Input, Conv2D, MaxPooling2D, Flatten, Dense, Dropout, BatchNormalization\n",
        "from tensorflow.keras.models import Model\n",
        "from tensorflow.keras.optimizers import Adam,RMSprop\n",
        "from tensorflow.keras.callbacks import EarlyStopping\n",
        "\n",
        "# Regularization\n",
        "from tensorflow.keras import regularizers\n",
        "\n",
        "# Saving the model\n",
        "from tensorflow.keras.models import save_model\n",
        "\n",
        "# Metrics for evaluation\n",
        "from sklearn.metrics import classification_report\n",
        "from sklearn.metrics import precision_score"
      ],
      "metadata": {
        "id": "VEemnXizTEw4"
      },
      "execution_count": null,
      "outputs": []
    },
    {
      "cell_type": "markdown",
      "source": [
        "<h2>7.1.2 Data preparation for Machine Learning</h2>"
      ],
      "metadata": {
        "id": "d_ycXAdhSGV7"
      }
    },
    {
      "cell_type": "markdown",
      "source": [
        "Firstly, pre-porcessed training data is obtained and prepared for machine learning:\n"
      ],
      "metadata": {
        "id": "znQglMe3mU_p"
      }
    },
    {
      "cell_type": "markdown",
      "source": [
        "Then the images are extracted from the <code>image_enhanced_PIL_RRDB.zip</code> file. It is first extracted in the code below."
      ],
      "metadata": {
        "id": "tKBDwP7kNu-L"
      }
    },
    {
      "cell_type": "code",
      "source": [
        "# Paths\n",
        "zip_file_path = 'drive/MyDrive/final/train_data/image_enhanced_PIL_RRDB.zip'\n",
        "extracted_dir = 'extracted_images'\n",
        "\n",
        "# Create the directory for extracted images if it doesn't exist\n",
        "os.makedirs(extracted_dir, exist_ok=True)\n",
        "\n",
        "\n",
        "# Open the ZIP file and extract its contents\n",
        "with zipfile.ZipFile(zip_file_path, 'r') as zip_ref:\n",
        "    zip_ref.extractall(extracted_dir)\n",
        "\n",
        "# Check the length of the extracted images\n",
        "num_extracted_images = len(os.listdir(extracted_dir))\n",
        "print(f\"Number of extracted images: {num_extracted_images}\")\n",
        "print(\"Extraction completed.\")"
      ],
      "metadata": {
        "colab": {
          "base_uri": "https://localhost:8080/"
        },
        "id": "aegfPAhacJRR",
        "outputId": "231157d6-c98c-44f9-9997-a0b3c5c7303e"
      },
      "execution_count": null,
      "outputs": [
        {
          "output_type": "stream",
          "name": "stdout",
          "text": [
            "Number of extracted images: 26660\n",
            "Extraction completed.\n"
          ]
        }
      ]
    },
    {
      "cell_type": "markdown",
      "source": [
        "Then the labels for all the images is in the <code>image_dataRRDB.csv</code> file."
      ],
      "metadata": {
        "id": "_RWYzZpNM_LA"
      }
    },
    {
      "cell_type": "code",
      "source": [
        "# Define the directory where the images are extracted\n",
        "extracted_dir = 'extracted_images'\n",
        "\n",
        "# Get a list of all extracted image files\n",
        "image_files = os.listdir(extracted_dir)\n",
        "\n",
        "# Initialize lists to store image names and label numbers\n",
        "image_names = []\n",
        "label_numbers = []\n",
        "\n",
        "# Loop through the image files and extract image names and label numbers\n",
        "for image_file in image_files:\n",
        "    if image_file.endswith('.png'):\n",
        "        # Split the image file name to extract label number\n",
        "        parts = image_file.split('_')\n",
        "        if len(parts) >= 3:\n",
        "            label_number = int(parts[-1].split('.')[0])  # Extract the label number\n",
        "            image_names.append(image_file)\n",
        "            label_numbers.append(label_number)\n",
        "\n",
        "# Create a pandas DataFrame\n",
        "data = {'filename': image_names, 'class': label_numbers}\n",
        "df_classes = pd.DataFrame(data)\n",
        "\n",
        "# Print the first few rows of the DataFrame\n",
        "df_classes.head()"
      ],
      "metadata": {
        "colab": {
          "base_uri": "https://localhost:8080/",
          "height": 206
        },
        "id": "DcZpKxb5bREV",
        "outputId": "176c68b3-8eb9-4d66-bfc1-5ea44fae1894"
      },
      "execution_count": null,
      "outputs": [
        {
          "output_type": "execute_result",
          "data": {
            "text/plain": [
              "                   filename  class\n",
              "0  image_23125_label_30.png     30\n",
              "1     image_887_label_3.png      3\n",
              "2   image_1006_label_10.png     10\n",
              "3  image_13641_label_12.png     12\n",
              "4  image_14748_label_17.png     17"
            ],
            "text/html": [
              "\n",
              "  <div id=\"df-35c21850-6ef7-4d7e-aa27-79995cde540b\" class=\"colab-df-container\">\n",
              "    <div>\n",
              "<style scoped>\n",
              "    .dataframe tbody tr th:only-of-type {\n",
              "        vertical-align: middle;\n",
              "    }\n",
              "\n",
              "    .dataframe tbody tr th {\n",
              "        vertical-align: top;\n",
              "    }\n",
              "\n",
              "    .dataframe thead th {\n",
              "        text-align: right;\n",
              "    }\n",
              "</style>\n",
              "<table border=\"1\" class=\"dataframe\">\n",
              "  <thead>\n",
              "    <tr style=\"text-align: right;\">\n",
              "      <th></th>\n",
              "      <th>filename</th>\n",
              "      <th>class</th>\n",
              "    </tr>\n",
              "  </thead>\n",
              "  <tbody>\n",
              "    <tr>\n",
              "      <th>0</th>\n",
              "      <td>image_23125_label_30.png</td>\n",
              "      <td>30</td>\n",
              "    </tr>\n",
              "    <tr>\n",
              "      <th>1</th>\n",
              "      <td>image_887_label_3.png</td>\n",
              "      <td>3</td>\n",
              "    </tr>\n",
              "    <tr>\n",
              "      <th>2</th>\n",
              "      <td>image_1006_label_10.png</td>\n",
              "      <td>10</td>\n",
              "    </tr>\n",
              "    <tr>\n",
              "      <th>3</th>\n",
              "      <td>image_13641_label_12.png</td>\n",
              "      <td>12</td>\n",
              "    </tr>\n",
              "    <tr>\n",
              "      <th>4</th>\n",
              "      <td>image_14748_label_17.png</td>\n",
              "      <td>17</td>\n",
              "    </tr>\n",
              "  </tbody>\n",
              "</table>\n",
              "</div>\n",
              "    <div class=\"colab-df-buttons\">\n",
              "\n",
              "  <div class=\"colab-df-container\">\n",
              "    <button class=\"colab-df-convert\" onclick=\"convertToInteractive('df-35c21850-6ef7-4d7e-aa27-79995cde540b')\"\n",
              "            title=\"Convert this dataframe to an interactive table.\"\n",
              "            style=\"display:none;\">\n",
              "\n",
              "  <svg xmlns=\"http://www.w3.org/2000/svg\" height=\"24px\" viewBox=\"0 -960 960 960\">\n",
              "    <path d=\"M120-120v-720h720v720H120Zm60-500h600v-160H180v160Zm220 220h160v-160H400v160Zm0 220h160v-160H400v160ZM180-400h160v-160H180v160Zm440 0h160v-160H620v160ZM180-180h160v-160H180v160Zm440 0h160v-160H620v160Z\"/>\n",
              "  </svg>\n",
              "    </button>\n",
              "\n",
              "  <style>\n",
              "    .colab-df-container {\n",
              "      display:flex;\n",
              "      gap: 12px;\n",
              "    }\n",
              "\n",
              "    .colab-df-convert {\n",
              "      background-color: #E8F0FE;\n",
              "      border: none;\n",
              "      border-radius: 50%;\n",
              "      cursor: pointer;\n",
              "      display: none;\n",
              "      fill: #1967D2;\n",
              "      height: 32px;\n",
              "      padding: 0 0 0 0;\n",
              "      width: 32px;\n",
              "    }\n",
              "\n",
              "    .colab-df-convert:hover {\n",
              "      background-color: #E2EBFA;\n",
              "      box-shadow: 0px 1px 2px rgba(60, 64, 67, 0.3), 0px 1px 3px 1px rgba(60, 64, 67, 0.15);\n",
              "      fill: #174EA6;\n",
              "    }\n",
              "\n",
              "    .colab-df-buttons div {\n",
              "      margin-bottom: 4px;\n",
              "    }\n",
              "\n",
              "    [theme=dark] .colab-df-convert {\n",
              "      background-color: #3B4455;\n",
              "      fill: #D2E3FC;\n",
              "    }\n",
              "\n",
              "    [theme=dark] .colab-df-convert:hover {\n",
              "      background-color: #434B5C;\n",
              "      box-shadow: 0px 1px 3px 1px rgba(0, 0, 0, 0.15);\n",
              "      filter: drop-shadow(0px 1px 2px rgba(0, 0, 0, 0.3));\n",
              "      fill: #FFFFFF;\n",
              "    }\n",
              "  </style>\n",
              "\n",
              "    <script>\n",
              "      const buttonEl =\n",
              "        document.querySelector('#df-35c21850-6ef7-4d7e-aa27-79995cde540b button.colab-df-convert');\n",
              "      buttonEl.style.display =\n",
              "        google.colab.kernel.accessAllowed ? 'block' : 'none';\n",
              "\n",
              "      async function convertToInteractive(key) {\n",
              "        const element = document.querySelector('#df-35c21850-6ef7-4d7e-aa27-79995cde540b');\n",
              "        const dataTable =\n",
              "          await google.colab.kernel.invokeFunction('convertToInteractive',\n",
              "                                                    [key], {});\n",
              "        if (!dataTable) return;\n",
              "\n",
              "        const docLinkHtml = 'Like what you see? Visit the ' +\n",
              "          '<a target=\"_blank\" href=https://colab.research.google.com/notebooks/data_table.ipynb>data table notebook</a>'\n",
              "          + ' to learn more about interactive tables.';\n",
              "        element.innerHTML = '';\n",
              "        dataTable['output_type'] = 'display_data';\n",
              "        await google.colab.output.renderOutput(dataTable, element);\n",
              "        const docLink = document.createElement('div');\n",
              "        docLink.innerHTML = docLinkHtml;\n",
              "        element.appendChild(docLink);\n",
              "      }\n",
              "    </script>\n",
              "  </div>\n",
              "\n",
              "\n",
              "<div id=\"df-fe5e1daa-ac7f-4fbf-a922-0e88cf94f49b\">\n",
              "  <button class=\"colab-df-quickchart\" onclick=\"quickchart('df-fe5e1daa-ac7f-4fbf-a922-0e88cf94f49b')\"\n",
              "            title=\"Suggest charts.\"\n",
              "            style=\"display:none;\">\n",
              "\n",
              "<svg xmlns=\"http://www.w3.org/2000/svg\" height=\"24px\"viewBox=\"0 0 24 24\"\n",
              "     width=\"24px\">\n",
              "    <g>\n",
              "        <path d=\"M19 3H5c-1.1 0-2 .9-2 2v14c0 1.1.9 2 2 2h14c1.1 0 2-.9 2-2V5c0-1.1-.9-2-2-2zM9 17H7v-7h2v7zm4 0h-2V7h2v10zm4 0h-2v-4h2v4z\"/>\n",
              "    </g>\n",
              "</svg>\n",
              "  </button>\n",
              "\n",
              "<style>\n",
              "  .colab-df-quickchart {\n",
              "      --bg-color: #E8F0FE;\n",
              "      --fill-color: #1967D2;\n",
              "      --hover-bg-color: #E2EBFA;\n",
              "      --hover-fill-color: #174EA6;\n",
              "      --disabled-fill-color: #AAA;\n",
              "      --disabled-bg-color: #DDD;\n",
              "  }\n",
              "\n",
              "  [theme=dark] .colab-df-quickchart {\n",
              "      --bg-color: #3B4455;\n",
              "      --fill-color: #D2E3FC;\n",
              "      --hover-bg-color: #434B5C;\n",
              "      --hover-fill-color: #FFFFFF;\n",
              "      --disabled-bg-color: #3B4455;\n",
              "      --disabled-fill-color: #666;\n",
              "  }\n",
              "\n",
              "  .colab-df-quickchart {\n",
              "    background-color: var(--bg-color);\n",
              "    border: none;\n",
              "    border-radius: 50%;\n",
              "    cursor: pointer;\n",
              "    display: none;\n",
              "    fill: var(--fill-color);\n",
              "    height: 32px;\n",
              "    padding: 0;\n",
              "    width: 32px;\n",
              "  }\n",
              "\n",
              "  .colab-df-quickchart:hover {\n",
              "    background-color: var(--hover-bg-color);\n",
              "    box-shadow: 0 1px 2px rgba(60, 64, 67, 0.3), 0 1px 3px 1px rgba(60, 64, 67, 0.15);\n",
              "    fill: var(--button-hover-fill-color);\n",
              "  }\n",
              "\n",
              "  .colab-df-quickchart-complete:disabled,\n",
              "  .colab-df-quickchart-complete:disabled:hover {\n",
              "    background-color: var(--disabled-bg-color);\n",
              "    fill: var(--disabled-fill-color);\n",
              "    box-shadow: none;\n",
              "  }\n",
              "\n",
              "  .colab-df-spinner {\n",
              "    border: 2px solid var(--fill-color);\n",
              "    border-color: transparent;\n",
              "    border-bottom-color: var(--fill-color);\n",
              "    animation:\n",
              "      spin 1s steps(1) infinite;\n",
              "  }\n",
              "\n",
              "  @keyframes spin {\n",
              "    0% {\n",
              "      border-color: transparent;\n",
              "      border-bottom-color: var(--fill-color);\n",
              "      border-left-color: var(--fill-color);\n",
              "    }\n",
              "    20% {\n",
              "      border-color: transparent;\n",
              "      border-left-color: var(--fill-color);\n",
              "      border-top-color: var(--fill-color);\n",
              "    }\n",
              "    30% {\n",
              "      border-color: transparent;\n",
              "      border-left-color: var(--fill-color);\n",
              "      border-top-color: var(--fill-color);\n",
              "      border-right-color: var(--fill-color);\n",
              "    }\n",
              "    40% {\n",
              "      border-color: transparent;\n",
              "      border-right-color: var(--fill-color);\n",
              "      border-top-color: var(--fill-color);\n",
              "    }\n",
              "    60% {\n",
              "      border-color: transparent;\n",
              "      border-right-color: var(--fill-color);\n",
              "    }\n",
              "    80% {\n",
              "      border-color: transparent;\n",
              "      border-right-color: var(--fill-color);\n",
              "      border-bottom-color: var(--fill-color);\n",
              "    }\n",
              "    90% {\n",
              "      border-color: transparent;\n",
              "      border-bottom-color: var(--fill-color);\n",
              "    }\n",
              "  }\n",
              "</style>\n",
              "\n",
              "  <script>\n",
              "    async function quickchart(key) {\n",
              "      const quickchartButtonEl =\n",
              "        document.querySelector('#' + key + ' button');\n",
              "      quickchartButtonEl.disabled = true;  // To prevent multiple clicks.\n",
              "      quickchartButtonEl.classList.add('colab-df-spinner');\n",
              "      try {\n",
              "        const charts = await google.colab.kernel.invokeFunction(\n",
              "            'suggestCharts', [key], {});\n",
              "      } catch (error) {\n",
              "        console.error('Error during call to suggestCharts:', error);\n",
              "      }\n",
              "      quickchartButtonEl.classList.remove('colab-df-spinner');\n",
              "      quickchartButtonEl.classList.add('colab-df-quickchart-complete');\n",
              "    }\n",
              "    (() => {\n",
              "      let quickchartButtonEl =\n",
              "        document.querySelector('#df-fe5e1daa-ac7f-4fbf-a922-0e88cf94f49b button');\n",
              "      quickchartButtonEl.style.display =\n",
              "        google.colab.kernel.accessAllowed ? 'block' : 'none';\n",
              "    })();\n",
              "  </script>\n",
              "</div>\n",
              "    </div>\n",
              "  </div>\n"
            ]
          },
          "metadata": {},
          "execution_count": 5
        }
      ]
    },
    {
      "cell_type": "markdown",
      "source": [
        "Both images and there labels extracted contains the same number of entries."
      ],
      "metadata": {
        "id": "UgAfoUUON3vh"
      }
    },
    {
      "cell_type": "markdown",
      "source": [
        "The distribution of the final classes is shown below."
      ],
      "metadata": {
        "id": "ZrskEW6ON0Zc"
      }
    },
    {
      "cell_type": "code",
      "source": [
        "# Count the occurrences of each class in the DataFrame\n",
        "class_counts = df_classes['class'].value_counts()\n",
        "\n",
        "# Sort the unique class IDs\n",
        "unique_classes = np.sort(df_classes['class'].unique())\n",
        "\n",
        "# Create a bar chart\n",
        "plt.figure(figsize=(10, 6))\n",
        "plt.bar(unique_classes, class_counts[unique_classes])\n",
        "plt.xlabel('Class')\n",
        "plt.ylabel('Count')\n",
        "plt.title('Class Distribution')\n",
        "plt.xticks(unique_classes)\n",
        "plt.show()"
      ],
      "metadata": {
        "colab": {
          "base_uri": "https://localhost:8080/",
          "height": 516
        },
        "id": "s28B6914YyMd",
        "outputId": "4355db06-8a9f-487a-a12c-1800563ae823"
      },
      "execution_count": null,
      "outputs": [
        {
          "output_type": "display_data",
          "data": {
            "text/plain": [
              "<Figure size 1000x600 with 1 Axes>"
            ],
            "image/png": "[encoded data removed]"
          },
          "metadata": {}
        }
      ]
    },
    {
      "cell_type": "markdown",
      "source": [
        "This shows that the images were equally distributed among the classes as what has being prepared in the previous notebook."
      ],
      "metadata": {
        "id": "7K32jFqlSvyZ"
      }
    },
    {
      "cell_type": "markdown",
      "source": [
        "Both images are first split into training and validation sets. They are grouped by their classes and stored in individual directories for every classes."
      ],
      "metadata": {
        "id": "obTCtr8vORqc"
      }
    },
    {
      "cell_type": "code",
      "source": [
        "train_dir = 'train_images'\n",
        "valid_dir = 'valid_images'\n",
        "\n",
        "# Create directories for training and validation images\n",
        "os.makedirs(train_dir, exist_ok=True)\n",
        "os.makedirs(valid_dir, exist_ok=True)\n",
        "\n",
        "# Split the data into training and validation sets\n",
        "train_df, valid_df = train_test_split(df_classes, test_size=0.2, random_state=42, stratify=df_classes['class'])\n",
        "\n",
        "# Copy images to directories based on classes for training set\n",
        "for index, row in train_df.iterrows():\n",
        "    src_path = os.path.join(extracted_dir, row['filename'])\n",
        "    dst_path = os.path.join(train_dir, str(row['class']), row['filename'])\n",
        "    os.makedirs(os.path.dirname(dst_path), exist_ok=True)\n",
        "    copyfile(src_path, dst_path)\n",
        "\n",
        "# Copy images to directories based on classes for validation set\n",
        "for index, row in valid_df.iterrows():\n",
        "    src_path = os.path.join(extracted_dir, row['filename'])\n",
        "    dst_path = os.path.join(valid_dir, str(row['class']), row['filename'])\n",
        "    os.makedirs(os.path.dirname(dst_path), exist_ok=True)\n",
        "    copyfile(src_path, dst_path)\n",
        "\n",
        "print(\"Data preparation for ML completed.\")"
      ],
      "metadata": {
        "colab": {
          "base_uri": "https://localhost:8080/"
        },
        "id": "husZ2lw6dYyC",
        "outputId": "b59a042a-336b-407a-fb0d-11db9d64754a"
      },
      "execution_count": null,
      "outputs": [
        {
          "output_type": "stream",
          "name": "stdout",
          "text": [
            "Data preparation for ML completed.\n"
          ]
        }
      ]
    },
    {
      "cell_type": "markdown",
      "source": [
        "<h1> 7.2 Machine Learning</h1>"
      ],
      "metadata": {
        "id": "-F61JPGGOoN2"
      }
    },
    {
      "cell_type": "markdown",
      "source": [
        "<h2>7.2.1 Data pipeline</h2>"
      ],
      "metadata": {
        "id": "kumuDOWeSTrX"
      }
    },
    {
      "cell_type": "markdown",
      "source": [
        "<code>flow_from_directory()</code> from Keras ImageDataGenerator is used to load the images with rescaling to 1/255. batch size and image size are pre-set to 32 and (128, 128), respectively. These number were based on the upscaling of images in image enhancement."
      ],
      "metadata": {
        "id": "XEkNgAgcRWjj"
      }
    },
    {
      "cell_type": "code",
      "source": [
        "# Define image dimensions and batch size\n",
        "image_size = (128,128)\n",
        "batch_size = 32\n",
        "\n",
        "# Create data generators and rescale image for ML on training and validation\n",
        "train_datagen = ImageDataGenerator(rescale=1.0/255)\n",
        "valid_datagen = ImageDataGenerator(rescale=1.0/255)\n",
        "\n",
        "train_generator = train_datagen.flow_from_directory(\n",
        "    train_dir,\n",
        "    target_size=image_size,\n",
        "    batch_size=batch_size,\n",
        "    class_mode='categorical',\n",
        "    color_mode='grayscale',  # Load images as grayscale\n",
        "    shuffle=True  # Set shuffle to True for training data\n",
        ")\n",
        "\n",
        "valid_generator = valid_datagen.flow_from_directory(\n",
        "    valid_dir,\n",
        "    target_size=image_size,\n",
        "    batch_size=batch_size,\n",
        "    class_mode='categorical',\n",
        "    color_mode='grayscale',  # Load images as grayscale\n",
        "    shuffle=False  # Set shuffle to False for validation data\n",
        ")\n",
        "\n",
        "# Get the number of classes from the training generator\n",
        "num_classes = len(train_generator.class_indices)"
      ],
      "metadata": {
        "colab": {
          "base_uri": "https://localhost:8080/"
        },
        "id": "ICEfnqPEeJBl",
        "outputId": "ee2c7544-8435-40be-fb83-c9e9a013d8ff"
      },
      "execution_count": null,
      "outputs": [
        {
          "output_type": "stream",
          "name": "stdout",
          "text": [
            "Found 21328 images belonging to 43 classes.\n",
            "Found 5332 images belonging to 43 classes.\n"
          ]
        }
      ]
    },
    {
      "cell_type": "markdown",
      "source": [
        "Total <b>21328</b> images are loaded into the training data and <b>5332</b> images are loaded into the validation data."
      ],
      "metadata": {
        "id": "gQOkwn8gTVQ1"
      }
    },
    {
      "cell_type": "markdown",
      "source": [
        "Next, the test data is also obtained and prepared for machine learning."
      ],
      "metadata": {
        "id": "AFiJylAImhVR"
      }
    },
    {
      "cell_type": "markdown",
      "source": [
        "Firstly, the class labels are extracted from the <code>test_image_enhanced_PIL_RRDB.zip</code> file. As in the preparation of the testing data, the class labels were saved directly into the filenames of each images"
      ],
      "metadata": {
        "id": "u9NplueZTkgs"
      }
    },
    {
      "cell_type": "code",
      "source": [
        "# Define a function to extract the class label from the image file name\n",
        "def extract_label(filename):\n",
        "    parts = filename.split('_')\n",
        "    if len(parts) >= 3:\n",
        "        return parts[-2]  # Extract the label number\n",
        "    else:\n",
        "        return None"
      ],
      "metadata": {
        "id": "s_EztXSRduQJ"
      },
      "execution_count": null,
      "outputs": []
    },
    {
      "cell_type": "code",
      "source": [
        "# Define the paths\n",
        "test_zip_path = 'drive/MyDrive/final/test_data/test_images_enhanced_PIL_RRDB.zip'\n",
        "test_extracted_dir = 'extracted_test_images'\n",
        "test_dir = 'test_images'\n",
        "\n",
        "# Create the directory for extracted test images if it doesn't exist\n",
        "os.makedirs(test_extracted_dir, exist_ok=True)\n",
        "\n",
        "# Open the ZIP file and extract its contents\n",
        "with zipfile.ZipFile(test_zip_path, 'r') as zip_ref:\n",
        "    zip_ref.extractall(test_extracted_dir)"
      ],
      "metadata": {
        "id": "wjQBx8gQmnaV"
      },
      "execution_count": null,
      "outputs": []
    },
    {
      "cell_type": "code",
      "source": [
        "# List all files in the extracted directory\n",
        "test_image_files = os.listdir(test_extracted_dir)\n",
        "\n",
        "# Create subdirectories based on class labels and move images\n",
        "for filename in test_image_files:\n",
        "    if filename.endswith('.png'):\n",
        "        label = extract_label(filename)\n",
        "        if label is not None:\n",
        "            class_dir = os.path.join(test_dir, label)\n",
        "            os.makedirs(class_dir, exist_ok=True)\n",
        "            src_path = os.path.join(test_extracted_dir, filename)\n",
        "            dst_path = os.path.join(class_dir, filename)\n",
        "            copyfile(src_path, dst_path) # shutil"
      ],
      "metadata": {
        "id": "V7txY676psmN"
      },
      "execution_count": null,
      "outputs": []
    },
    {
      "cell_type": "markdown",
      "source": [
        "Data generator is used for loading images into the model."
      ],
      "metadata": {
        "id": "yDsD5qw2KxTY"
      }
    },
    {
      "cell_type": "code",
      "source": [
        "# Create a data generator for the test data\n",
        "test_datagen = ImageDataGenerator(rescale=1.0/255)\n",
        "\n",
        "test_generator = test_datagen.flow_from_directory(\n",
        "    test_dir,\n",
        "    target_size=image_size,\n",
        "    batch_size=batch_size,\n",
        "    class_mode='categorical',\n",
        "    color_mode='grayscale',  # Load images as grayscale\n",
        "    shuffle=False  # Set shuffle to False for testing data\n",
        ")"
      ],
      "metadata": {
        "colab": {
          "base_uri": "https://localhost:8080/"
        },
        "id": "oelcW3EtnlSz",
        "outputId": "a1c78088-96df-48a5-bf6f-7395a7c542cb"
      },
      "execution_count": null,
      "outputs": [
        {
          "output_type": "stream",
          "name": "stdout",
          "text": [
            "Found 12599 images belonging to 43 classes.\n"
          ]
        }
      ]
    },
    {
      "cell_type": "markdown",
      "source": [
        "<h2>2.2.2 Training the CNN model</h2>"
      ],
      "metadata": {
        "id": "EJUQK66CaB8W"
      }
    },
    {
      "cell_type": "markdown",
      "source": [
        "Double checking the GPU availability and set the GPU device if it is available"
      ],
      "metadata": {
        "id": "xsMRTT06SepR"
      }
    },
    {
      "cell_type": "code",
      "source": [
        "# Check GPU availability\n",
        "print(\"Num GPUs Available: \", len(tf.config.list_physical_devices('GPU')))\n",
        "\n",
        "# Specify GPU device\n",
        "physical_devices = tf.config.list_physical_devices('GPU')\n",
        "if len(physical_devices) > 0:\n",
        "    tf.config.experimental.set_memory_growth(physical_devices[0], True)"
      ],
      "metadata": {
        "colab": {
          "base_uri": "https://localhost:8080/"
        },
        "id": "42FI4zL2feiP",
        "outputId": "1e297a9b-4d23-4f67-d86c-c6229671a24b"
      },
      "execution_count": null,
      "outputs": [
        {
          "output_type": "stream",
          "name": "stdout",
          "text": [
            "Num GPUs Available:  1\n"
          ]
        }
      ]
    },
    {
      "cell_type": "markdown",
      "source": [
        "A function is defined to plot the training history and calculate the changes in accuracy and loss."
      ],
      "metadata": {
        "id": "VSCR24GDSyqc"
      }
    },
    {
      "cell_type": "code",
      "source": [
        "def calculate_accuracy_increase_rate(history):\n",
        "    train_accuracy = history.history['accuracy']\n",
        "    val_accuracy = history.history['val_accuracy']\n",
        "\n",
        "    train_rate = np.mean(np.diff(train_accuracy))\n",
        "    val_rate = np.mean(np.diff(val_accuracy))\n",
        "\n",
        "    return train_rate, val_rate"
      ],
      "metadata": {
        "id": "U_5cFB1DjMZ4"
      },
      "execution_count": null,
      "outputs": []
    },
    {
      "cell_type": "code",
      "source": [
        "def plot_training_history(history):\n",
        "    # Access the training history\n",
        "    training_loss = history.history['loss']\n",
        "    training_accuracy = history.history['accuracy']\n",
        "    validation_loss = history.history['val_loss']\n",
        "    validation_accuracy = history.history['val_accuracy']\n",
        "\n",
        "    # Create a figure with two subplots\n",
        "    fig, (ax1, ax2) = plt.subplots(1, 2, figsize=(12, 6))\n",
        "\n",
        "    # Plotting the training and validation accuracy\n",
        "    ax1.plot(training_accuracy)\n",
        "    ax1.plot(validation_accuracy)\n",
        "    ax1.set_title('Model Accuracy')\n",
        "    ax1.set_xlabel('Epoch')\n",
        "    ax1.set_ylabel('Accuracy')\n",
        "    ax1.legend(['Train', 'Validation'], loc='upper left')\n",
        "\n",
        "    # Plotting the training and validation loss\n",
        "    ax2.plot(training_loss)\n",
        "    ax2.plot(validation_loss)\n",
        "    ax2.set_title('Model Loss')\n",
        "    ax2.set_xlabel('Epoch')\n",
        "    ax2.set_ylabel('Loss')\n",
        "    ax2.legend(['Train', 'Validation'], loc='upper right')\n",
        "\n",
        "    # Adjust the spacing between subplots\n",
        "    plt.tight_layout()\n",
        "\n",
        "    # Show the figure\n",
        "    plt.show()"
      ],
      "metadata": {
        "id": "0ZcwYOoBef3J"
      },
      "execution_count": null,
      "outputs": []
    },
    {
      "cell_type": "markdown",
      "source": [
        "Then, true labels are extracted from the test generator for testing later."
      ],
      "metadata": {
        "id": "DwCQ055BKlkL"
      }
    },
    {
      "cell_type": "code",
      "source": [
        "# Get true labels from the test generator\n",
        "true_labels = test_generator.classes\n",
        "\n",
        "# Get unique true labels\n",
        "class_names = [str(label) for label in range(43)]"
      ],
      "metadata": {
        "id": "Ra0sBmAbv8QP"
      },
      "execution_count": null,
      "outputs": []
    },
    {
      "cell_type": "markdown",
      "source": [
        "The model development will start from developing a simple model that serves as a baseline in this development cycle. It is different from the basline of the whole project as this is trained on enhanced and augmented data."
      ],
      "metadata": {
        "id": "LSxiIAxXgrcr"
      }
    },
    {
      "cell_type": "markdown",
      "source": [
        "<h2> Model 1: Simple CNN baseline</h2>\n"
      ],
      "metadata": {
        "id": "OgUFRqk4uAFq"
      }
    },
    {
      "cell_type": "markdown",
      "source": [
        "As there are many models being developed for this project, a final check is conducted on the input images."
      ],
      "metadata": {
        "id": "-6QVb1pmLGfH"
      }
    },
    {
      "cell_type": "code",
      "source": [
        "# Get the first batch\n",
        "images, labels = next(train_generator)\n",
        "\n",
        "# Check the shape of the first image in the batch\n",
        "shape_of_first_image = images[0].shape\n",
        "\n",
        "# Print the shape\n",
        "print(\"Shape of the first training image:\", shape_of_first_image)\n"
      ],
      "metadata": {
        "colab": {
          "base_uri": "https://localhost:8080/"
        },
        "id": "ZJfJ3fBOhMQR",
        "outputId": "920f579f-30f7-4202-d3e1-f32676a5e02b"
      },
      "execution_count": null,
      "outputs": [
        {
          "output_type": "stream",
          "name": "stdout",
          "text": [
            "Shape of the first training image: (128, 128, 1)\n"
          ]
        }
      ]
    },
    {
      "cell_type": "markdown",
      "source": [
        "Training the CNN model to upto 30 epochs, early stopping is used to prevent overfitting. However, no regularization is applied."
      ],
      "metadata": {
        "id": "eXwyIjLpS3Em"
      }
    },
    {
      "cell_type": "code",
      "source": [
        "# Define the CNN layers\n",
        "input_layer = Input(shape=(128, 128, 1))\n",
        "x = Conv2D(32, (3, 3), activation='relu')(input_layer)\n",
        "x = MaxPooling2D(2, 2)(x)\n",
        "\n",
        "x = Conv2D(64, (3, 3), activation='relu')(x)\n",
        "x = MaxPooling2D(2, 2)(x)\n",
        "\n",
        "x = Conv2D(128, (3, 3), activation='relu')(x)\n",
        "x = MaxPooling2D(2, 2)(x)\n",
        "\n",
        "x = Flatten()(x)\n",
        "x = Dense(128, activation='relu')(x)\n",
        "x = Dropout(0.5)(x)\n",
        "output_layer = Dense(num_classes, activation='softmax')(x)\n",
        "\n",
        "# Create the model\n",
        "model_CNN = Model(inputs=input_layer, outputs=output_layer)\n",
        "\n",
        "# Compile the model\n",
        "model_CNN.compile(optimizer=Adam(learning_rate=0.001), loss='categorical_crossentropy', metrics=['accuracy'])"
      ],
      "metadata": {
        "id": "S2FXPHyGS1vm"
      },
      "execution_count": null,
      "outputs": []
    },
    {
      "cell_type": "markdown",
      "source": [
        "A simple summary of the model is displayed:"
      ],
      "metadata": {
        "id": "uOpcPZc5LZvd"
      }
    },
    {
      "cell_type": "code",
      "source": [
        "model_CNN.summary()"
      ],
      "metadata": {
        "colab": {
          "base_uri": "https://localhost:8080/"
        },
        "id": "J1A1_tc-UtXG",
        "outputId": "e0e4369d-18a4-4acf-c11d-7d9bf585038f"
      },
      "execution_count": null,
      "outputs": [
        {
          "output_type": "stream",
          "name": "stdout",
          "text": [
            "Model: \"model\"\n",
            "_________________________________________________________________\n",
            " Layer (type)                Output Shape              Param #   \n",
            "=================================================================\n",
            " input_1 (InputLayer)        [(None, 128, 128, 1)]     0         \n",
            "                                                                 \n",
            " conv2d (Conv2D)             (None, 126, 126, 32)      320       \n",
            "                                                                 \n",
            " max_pooling2d (MaxPooling2  (None, 63, 63, 32)        0         \n",
            " D)                                                              \n",
            "                                                                 \n",
            " conv2d_1 (Conv2D)           (None, 61, 61, 64)        18496     \n",
            "                                                                 \n",
            " max_pooling2d_1 (MaxPoolin  (None, 30, 30, 64)        0         \n",
            " g2D)                                                            \n",
            "                                                                 \n",
            " conv2d_2 (Conv2D)           (None, 28, 28, 128)       73856     \n",
            "                                                                 \n",
            " max_pooling2d_2 (MaxPoolin  (None, 14, 14, 128)       0         \n",
            " g2D)                                                            \n",
            "                                                                 \n",
            " flatten (Flatten)           (None, 25088)             0         \n",
            "                                                                 \n",
            " dense (Dense)               (None, 128)               3211392   \n",
            "                                                                 \n",
            " dropout (Dropout)           (None, 128)               0         \n",
            "                                                                 \n",
            " dense_1 (Dense)             (None, 43)                5547      \n",
            "                                                                 \n",
            "=================================================================\n",
            "Total params: 3309611 (12.63 MB)\n",
            "Trainable params: 3309611 (12.63 MB)\n",
            "Non-trainable params: 0 (0.00 Byte)\n",
            "_________________________________________________________________\n"
          ]
        }
      ]
    },
    {
      "cell_type": "markdown",
      "source": [
        "The model is trained with the early stopping callback"
      ],
      "metadata": {
        "id": "b6eVNsWmLeb0"
      }
    },
    {
      "cell_type": "code",
      "source": [
        "# Early stopping callback\n",
        "early_stopping = EarlyStopping(monitor='val_loss', patience=3, restore_best_weights=True)\n",
        "\n",
        "# Train the model\n",
        "num_epochs = 30\n",
        "history_simpleCNN = model_CNN.fit(train_generator,\n",
        "                                  epochs=num_epochs,\n",
        "                                  validation_data=valid_generator,\n",
        "                                  callbacks=[early_stopping])\n",
        "\n",
        "print(\"Model training completed.\")"
      ],
      "metadata": {
        "colab": {
          "base_uri": "https://localhost:8080/"
        },
        "id": "m0sYx0qRTFsH",
        "outputId": "25899645-75c4-4862-d5b8-6b476e79c67e"
      },
      "execution_count": null,
      "outputs": [
        {
          "output_type": "stream",
          "name": "stdout",
          "text": [
            "Epoch 1/30\n",
            "667/667 [==============================] - 58s 69ms/step - loss: 2.5456 - accuracy: 0.3035 - val_loss: 0.9670 - val_accuracy: 0.7470\n",
            "Epoch 2/30\n",
            "667/667 [==============================] - 44s 67ms/step - loss: 1.1430 - accuracy: 0.6386 - val_loss: 0.5572 - val_accuracy: 0.8423\n",
            "Epoch 3/30\n",
            "667/667 [==============================] - 51s 77ms/step - loss: 0.8366 - accuracy: 0.7268 - val_loss: 0.3211 - val_accuracy: 0.9107\n",
            "Epoch 4/30\n",
            "667/667 [==============================] - 46s 69ms/step - loss: 0.6641 - accuracy: 0.7805 - val_loss: 0.2806 - val_accuracy: 0.9239\n",
            "Epoch 5/30\n",
            "667/667 [==============================] - 45s 67ms/step - loss: 0.5591 - accuracy: 0.8127 - val_loss: 0.2368 - val_accuracy: 0.9366\n",
            "Epoch 6/30\n",
            "667/667 [==============================] - 48s 71ms/step - loss: 0.4842 - accuracy: 0.8340 - val_loss: 0.2256 - val_accuracy: 0.9389\n",
            "Epoch 7/30\n",
            "667/667 [==============================] - 46s 69ms/step - loss: 0.4234 - accuracy: 0.8540 - val_loss: 0.1854 - val_accuracy: 0.9462\n",
            "Epoch 8/30\n",
            "667/667 [==============================] - 44s 66ms/step - loss: 0.3787 - accuracy: 0.8691 - val_loss: 0.1940 - val_accuracy: 0.9426\n",
            "Epoch 9/30\n",
            "667/667 [==============================] - 44s 67ms/step - loss: 0.3475 - accuracy: 0.8808 - val_loss: 0.1698 - val_accuracy: 0.9486\n",
            "Epoch 10/30\n",
            "667/667 [==============================] - 46s 69ms/step - loss: 0.3118 - accuracy: 0.8914 - val_loss: 0.1482 - val_accuracy: 0.9548\n",
            "Epoch 11/30\n",
            "667/667 [==============================] - 44s 66ms/step - loss: 0.2945 - accuracy: 0.8969 - val_loss: 0.1508 - val_accuracy: 0.9542\n",
            "Epoch 12/30\n",
            "667/667 [==============================] - 43s 64ms/step - loss: 0.2723 - accuracy: 0.9065 - val_loss: 0.1430 - val_accuracy: 0.9578\n",
            "Epoch 13/30\n",
            "667/667 [==============================] - 47s 71ms/step - loss: 0.2475 - accuracy: 0.9136 - val_loss: 0.1436 - val_accuracy: 0.9572\n",
            "Epoch 14/30\n",
            "667/667 [==============================] - 44s 65ms/step - loss: 0.2289 - accuracy: 0.9204 - val_loss: 0.1121 - val_accuracy: 0.9666\n",
            "Epoch 15/30\n",
            "667/667 [==============================] - 44s 66ms/step - loss: 0.2068 - accuracy: 0.9285 - val_loss: 0.1245 - val_accuracy: 0.9627\n",
            "Epoch 16/30\n",
            "667/667 [==============================] - 42s 63ms/step - loss: 0.1964 - accuracy: 0.9320 - val_loss: 0.1259 - val_accuracy: 0.9651\n",
            "Epoch 17/30\n",
            "667/667 [==============================] - 42s 63ms/step - loss: 0.1847 - accuracy: 0.9349 - val_loss: 0.1171 - val_accuracy: 0.9649\n",
            "Model training completed.\n"
          ]
        }
      ]
    },
    {
      "cell_type": "markdown",
      "source": [
        "The training stopped at <b>epoch 17</b> as the model started overfitting (shown by the validation loss). The training accuracy and validation accuracy graph are shown below."
      ],
      "metadata": {
        "id": "yes-UARTLn4Q"
      }
    },
    {
      "cell_type": "code",
      "source": [
        "plot_training_history(history_simpleCNN)"
      ],
      "metadata": {
        "id": "Zn9XUczieoVY",
        "colab": {
          "base_uri": "https://localhost:8080/",
          "height": 402
        },
        "outputId": "219febf6-bb00-456e-e0f2-63ea53ec3913"
      },
      "execution_count": null,
      "outputs": [
        {
          "output_type": "display_data",
          "data": {
            "text/plain": [
              "<Figure size 1200x600 with 2 Axes>"
            ],
            "image/png": "[encoded data removed]"
          },
          "metadata": {}
        }
      ]
    },
    {
      "cell_type": "markdown",
      "source": [
        "This model has a lower training accuracy than validation accuracy. And the validaton accuracy is continuesly increasing, indicating no signs of overfitting."
      ],
      "metadata": {
        "id": "72Q4mfT5MAbo"
      }
    },
    {
      "cell_type": "code",
      "source": [
        "# Increasing rate\n",
        "train_rate_SCNN, val_rate_SCNN = calculate_accuracy_increase_rate(history_simpleCNN)\n",
        "print(\"Training Accuracy Increase Rate:\", train_rate_SCNN)\n",
        "print(\"Validation Accuracy Increase Rate:\", val_rate_SCNN)"
      ],
      "metadata": {
        "colab": {
          "base_uri": "https://localhost:8080/"
        },
        "id": "ubZZ4EK_jRRD",
        "outputId": "c8e256ef-6f77-492f-97cc-a2f57cbc16f8"
      },
      "execution_count": null,
      "outputs": [
        {
          "output_type": "stream",
          "name": "stdout",
          "text": [
            "Training Accuracy Increase Rate: 0.039463965222239494\n",
            "Validation Accuracy Increase Rate: 0.013620592653751373\n"
          ]
        }
      ]
    },
    {
      "cell_type": "markdown",
      "source": [
        "The rate of increase for accuracy is calculated"
      ],
      "metadata": {
        "id": "tb0zcqUUMZaV"
      }
    },
    {
      "cell_type": "markdown",
      "source": [
        "Then, the model is evaluated on the test data"
      ],
      "metadata": {
        "id": "GF6xrbzAMfe8"
      }
    },
    {
      "cell_type": "code",
      "source": [
        "# Test the model with the test data\n",
        "test_loss_SCNN, test_accuracy_SCNN = model_CNN.evaluate(test_generator)\n",
        "\n",
        "print(f\"Test Loss: {test_loss_SCNN:.4f}\")\n",
        "print(f\"Test Accuracy: {test_accuracy_SCNN:.4f}\")"
      ],
      "metadata": {
        "colab": {
          "base_uri": "https://localhost:8080/"
        },
        "id": "nU0BSx5cqIvH",
        "outputId": "6a4ac758-378d-4c7d-f68b-6c5fe3459885"
      },
      "execution_count": null,
      "outputs": [
        {
          "output_type": "stream",
          "name": "stdout",
          "text": [
            "394/394 [==============================] - 17s 42ms/step - loss: 0.4554 - accuracy: 0.8828\n",
            "Test Loss: 0.4554\n",
            "Test Accuracy: 0.8828\n"
          ]
        }
      ]
    },
    {
      "cell_type": "code",
      "source": [
        "# Make predictions on the test data\n",
        "test_pred_SCNN = model_CNN.predict(test_generator)\n",
        "\n",
        "# Convert one-hot encoded predictions back to class labels\n",
        "pred_labels_SCNN = np.argmax(test_pred_SCNN, axis=1)\n",
        "\n",
        "# Calculate the precision score\n",
        "precision_SCNN = precision_score(true_labels, pred_labels_SCNN, average='weighted')\n",
        "\n",
        "print(f\"Precision Score: {precision_SCNN:.4f}\")"
      ],
      "metadata": {
        "colab": {
          "base_uri": "https://localhost:8080/"
        },
        "id": "pRYMAq09qSus",
        "outputId": "013ceda5-5201-478c-8109-ac715d29629b"
      },
      "execution_count": null,
      "outputs": [
        {
          "output_type": "stream",
          "name": "stdout",
          "text": [
            "394/394 [==============================] - 16s 41ms/step\n",
            "Precision Score: 0.8894\n"
          ]
        }
      ]
    },
    {
      "cell_type": "code",
      "source": [
        "# Generate a classification report\n",
        "class_rep_SCNN = classification_report(true_labels, pred_labels_SCNN, target_names=class_names)\n",
        "\n",
        "print(\"Classification Report:\\n\", class_rep_SCNN)"
      ],
      "metadata": {
        "id": "2DxGUG22tefV",
        "colab": {
          "base_uri": "https://localhost:8080/"
        },
        "outputId": "991a271c-06fb-422b-b38d-b94bc281c49e"
      },
      "execution_count": null,
      "outputs": [
        {
          "output_type": "stream",
          "name": "stdout",
          "text": [
            "Classification Report:\n",
            "               precision    recall  f1-score   support\n",
            "\n",
            "           0       1.00      0.84      0.91       293\n",
            "           1       0.95      0.95      0.95       293\n",
            "           2       0.98      0.99      0.99       293\n",
            "           3       0.96      0.92      0.94       293\n",
            "           4       0.95      0.99      0.97       293\n",
            "           5       0.98      0.97      0.97       293\n",
            "           6       0.99      0.95      0.97       293\n",
            "           7       0.95      0.98      0.97       293\n",
            "           8       0.98      0.99      0.98       293\n",
            "           9       0.97      0.97      0.97       293\n",
            "          10       0.96      0.95      0.95       293\n",
            "          11       0.69      0.88      0.77       293\n",
            "          12       0.94      0.96      0.95       293\n",
            "          13       0.62      0.77      0.69       293\n",
            "          14       0.86      0.68      0.76       293\n",
            "          15       0.91      0.89      0.90       293\n",
            "          16       0.70      0.65      0.67       293\n",
            "          17       0.89      0.86      0.88       293\n",
            "          18       0.97      0.96      0.96       293\n",
            "          19       0.84      0.75      0.79       293\n",
            "          20       0.84      0.77      0.80       293\n",
            "          21       0.80      0.84      0.82       293\n",
            "          22       0.82      0.88      0.85       293\n",
            "          23       0.92      0.93      0.92       293\n",
            "          24       0.74      0.62      0.67       293\n",
            "          25       0.89      0.90      0.90       293\n",
            "          26       0.81      0.98      0.89       293\n",
            "          27       0.74      0.92      0.82       293\n",
            "          28       0.87      0.97      0.92       293\n",
            "          29       0.99      0.98      0.98       293\n",
            "          30       0.85      0.86      0.86       293\n",
            "          31       0.83      0.83      0.83       293\n",
            "          32       0.98      0.96      0.97       293\n",
            "          33       0.93      0.68      0.78       293\n",
            "          34       0.98      0.96      0.97       293\n",
            "          35       0.93      0.91      0.92       293\n",
            "          36       0.93      0.77      0.84       293\n",
            "          37       0.93      0.92      0.93       293\n",
            "          38       0.66      0.91      0.77       293\n",
            "          39       0.92      0.85      0.88       293\n",
            "          40       0.97      0.82      0.89       293\n",
            "          41       0.86      0.82      0.84       293\n",
            "          42       0.97      1.00      0.98       293\n",
            "\n",
            "    accuracy                           0.88     12599\n",
            "   macro avg       0.89      0.88      0.88     12599\n",
            "weighted avg       0.89      0.88      0.88     12599\n",
            "\n"
          ]
        }
      ]
    },
    {
      "cell_type": "markdown",
      "source": [
        "Generally, the model is performing well with a test precision of 88.94% and test accuracy of 88.28%. For acciracy across all classes, the worst performing one is class 13 with 62% precision and 69% F1 score. It is also noticed that some classes have perfect scores on precision.\n",
        "\n",
        "Comparing across different models, this simple CNN model is performing better than the baseline model on CNN and better than the [simple CNN model with simple data enhancement](https://github.com/Jieoi/traffic_sign_recognition/blob/main/5_model_training_simple_enhanced_data_CNN.ipynb)"
      ],
      "metadata": {
        "id": "7BlgERW0MqYM"
      }
    },
    {
      "cell_type": "markdown",
      "source": [
        "<h2> Model 2: More complex CNN with regularization</h2>\n",
        "\n"
      ],
      "metadata": {
        "id": "me2jCS4-t0Vj"
      }
    },
    {
      "cell_type": "markdown",
      "source": [
        "More complexity is added to the CNN model with regularization added:\n",
        "\n",
        "*   Added more convolutional layers with increasing filters to capture more complex features\n",
        "\n",
        "*   Added batch normalization layers after each convolutional and dense layer to help stabilize training. (Recommended in chapter 7.3.1 Advanced architechtures in Deep Learning with Python, Francois Chollet)\n",
        "\n",
        "*   Added an additional dense layer with dropout and batch normalization."
      ],
      "metadata": {
        "id": "jjUFO2mmT4RJ"
      }
    },
    {
      "cell_type": "code",
      "source": [
        "# Define the CNN layers\n",
        "input_layer = Input(shape=(128, 128, 1))\n",
        "x = Conv2D(64, (3, 3), activation='relu', kernel_regularizer=regularizers.l2(0.01))(input_layer)\n",
        "x = BatchNormalization()(x)\n",
        "x = MaxPooling2D(2, 2)(x)\n",
        "\n",
        "x = Conv2D(128, (3, 3), activation='relu', kernel_regularizer=regularizers.l2(0.01))(x)\n",
        "x = BatchNormalization()(x)\n",
        "x = MaxPooling2D(2, 2)(x)\n",
        "\n",
        "x = Conv2D(256, (3, 3), activation='relu', kernel_regularizer=regularizers.l2(0.01))(x)\n",
        "x = BatchNormalization()(x)\n",
        "x = MaxPooling2D(2, 2)(x)\n",
        "\n",
        "x = Flatten()(x)\n",
        "x = Dense(512, activation='relu', kernel_regularizer=regularizers.l2(0.01))(x)\n",
        "x = Dropout(0.5)(x)\n",
        "output_layer = Dense(num_classes, activation='softmax')(x)\n",
        "\n",
        "# Create the model\n",
        "model_complex = Model(inputs=input_layer, outputs=output_layer)\n",
        "\n",
        "# Compile the model with a lower learning rate\n",
        "model_complex.compile(optimizer=Adam(learning_rate=0.0001), loss='categorical_crossentropy', metrics=['accuracy'])"
      ],
      "metadata": {
        "id": "B57Siq1yYQZL"
      },
      "execution_count": null,
      "outputs": []
    },
    {
      "cell_type": "markdown",
      "source": [
        "A summary of the model is displayed:"
      ],
      "metadata": {
        "id": "FZUposRqN6U8"
      }
    },
    {
      "cell_type": "code",
      "source": [
        "model_complex.summary()"
      ],
      "metadata": {
        "colab": {
          "base_uri": "https://localhost:8080/"
        },
        "id": "BXOBt8CkYt9-",
        "outputId": "58d40adc-05c7-4bd3-ed2a-3cd059239f9c"
      },
      "execution_count": null,
      "outputs": [
        {
          "output_type": "stream",
          "name": "stdout",
          "text": [
            "Model: \"model_1\"\n",
            "_________________________________________________________________\n",
            " Layer (type)                Output Shape              Param #   \n",
            "=================================================================\n",
            " input_2 (InputLayer)        [(None, 128, 128, 1)]     0         \n",
            "                                                                 \n",
            " conv2d_3 (Conv2D)           (None, 126, 126, 64)      640       \n",
            "                                                                 \n",
            " batch_normalization (Batch  (None, 126, 126, 64)      256       \n",
            " Normalization)                                                  \n",
            "                                                                 \n",
            " max_pooling2d_3 (MaxPoolin  (None, 63, 63, 64)        0         \n",
            " g2D)                                                            \n",
            "                                                                 \n",
            " conv2d_4 (Conv2D)           (None, 61, 61, 128)       73856     \n",
            "                                                                 \n",
            " batch_normalization_1 (Bat  (None, 61, 61, 128)       512       \n",
            " chNormalization)                                                \n",
            "                                                                 \n",
            " max_pooling2d_4 (MaxPoolin  (None, 30, 30, 128)       0         \n",
            " g2D)                                                            \n",
            "                                                                 \n",
            " conv2d_5 (Conv2D)           (None, 28, 28, 256)       295168    \n",
            "                                                                 \n",
            " batch_normalization_2 (Bat  (None, 28, 28, 256)       1024      \n",
            " chNormalization)                                                \n",
            "                                                                 \n",
            " max_pooling2d_5 (MaxPoolin  (None, 14, 14, 256)       0         \n",
            " g2D)                                                            \n",
            "                                                                 \n",
            " flatten_1 (Flatten)         (None, 50176)             0         \n",
            "                                                                 \n",
            " dense_2 (Dense)             (None, 512)               25690624  \n",
            "                                                                 \n",
            " dropout_1 (Dropout)         (None, 512)               0         \n",
            "                                                                 \n",
            " dense_3 (Dense)             (None, 43)                22059     \n",
            "                                                                 \n",
            "=================================================================\n",
            "Total params: 26084139 (99.50 MB)\n",
            "Trainable params: 26083243 (99.50 MB)\n",
            "Non-trainable params: 896 (3.50 KB)\n",
            "_________________________________________________________________\n"
          ]
        }
      ]
    },
    {
      "cell_type": "markdown",
      "source": [
        "The model is trained with the early stopping callback monitering the validation loss:"
      ],
      "metadata": {
        "id": "q0xLR4-6OCRL"
      }
    },
    {
      "cell_type": "code",
      "source": [
        "# Early stopping callback\n",
        "early_stopping = EarlyStopping(monitor='val_loss', patience=3, restore_best_weights=True)\n",
        "\n",
        "# Train the model with data augmentation and early stopping\n",
        "num_epochs = 50\n",
        "history_complex_model = model_complex.fit(train_generator, epochs=num_epochs, validation_data=valid_generator, callbacks=[early_stopping])\n",
        "\n",
        "print(\"Model training completed.\")"
      ],
      "metadata": {
        "colab": {
          "base_uri": "https://localhost:8080/"
        },
        "id": "2YiIxl2kYbXX",
        "outputId": "1a3bee8c-3d08-4c1f-d074-da63034ba295"
      },
      "execution_count": null,
      "outputs": [
        {
          "output_type": "stream",
          "name": "stdout",
          "text": [
            "Epoch 1/50\n",
            "667/667 [==============================] - 54s 74ms/step - loss: 12.7306 - accuracy: 0.5007 - val_loss: 9.1253 - val_accuracy: 0.7991\n",
            "Epoch 2/50\n",
            "667/667 [==============================] - 51s 76ms/step - loss: 7.5437 - accuracy: 0.7641 - val_loss: 5.7601 - val_accuracy: 0.8599\n",
            "Epoch 3/50\n",
            "667/667 [==============================] - 52s 78ms/step - loss: 4.9686 - accuracy: 0.8284 - val_loss: 4.0559 - val_accuracy: 0.8863\n",
            "Epoch 4/50\n",
            "667/667 [==============================] - 49s 73ms/step - loss: 3.5973 - accuracy: 0.8734 - val_loss: 3.0531 - val_accuracy: 0.9177\n",
            "Epoch 5/50\n",
            "667/667 [==============================] - 51s 76ms/step - loss: 2.8198 - accuracy: 0.8988 - val_loss: 2.4893 - val_accuracy: 0.9385\n",
            "Epoch 6/50\n",
            "667/667 [==============================] - 49s 74ms/step - loss: 2.3713 - accuracy: 0.9214 - val_loss: 2.1801 - val_accuracy: 0.9430\n",
            "Epoch 7/50\n",
            "667/667 [==============================] - 51s 76ms/step - loss: 2.0683 - accuracy: 0.9395 - val_loss: 1.9408 - val_accuracy: 0.9557\n",
            "Epoch 8/50\n",
            "667/667 [==============================] - 51s 76ms/step - loss: 1.7909 - accuracy: 0.9581 - val_loss: 1.6800 - val_accuracy: 0.9599\n",
            "Epoch 9/50\n",
            "667/667 [==============================] - 51s 76ms/step - loss: 1.5436 - accuracy: 0.9662 - val_loss: 1.4965 - val_accuracy: 0.9726\n",
            "Epoch 10/50\n",
            "667/667 [==============================] - 51s 76ms/step - loss: 1.3686 - accuracy: 0.9740 - val_loss: 1.3196 - val_accuracy: 0.9706\n",
            "Epoch 11/50\n",
            "667/667 [==============================] - 51s 76ms/step - loss: 1.1992 - accuracy: 0.9785 - val_loss: 1.1361 - val_accuracy: 0.9764\n",
            "Epoch 12/50\n",
            "667/667 [==============================] - 50s 75ms/step - loss: 1.1480 - accuracy: 0.9753 - val_loss: 1.2266 - val_accuracy: 0.9796\n",
            "Epoch 13/50\n",
            "667/667 [==============================] - 52s 78ms/step - loss: 0.9975 - accuracy: 0.9863 - val_loss: 0.9296 - val_accuracy: 0.9796\n",
            "Epoch 14/50\n",
            "667/667 [==============================] - 50s 74ms/step - loss: 0.9340 - accuracy: 0.9821 - val_loss: 1.0604 - val_accuracy: 0.9677\n",
            "Epoch 15/50\n",
            "667/667 [==============================] - 49s 74ms/step - loss: 0.9144 - accuracy: 0.9853 - val_loss: 0.9445 - val_accuracy: 0.9694\n",
            "Epoch 16/50\n",
            "667/667 [==============================] - 50s 74ms/step - loss: 0.8372 - accuracy: 0.9860 - val_loss: 0.9636 - val_accuracy: 0.9647\n",
            "Model training completed.\n"
          ]
        }
      ]
    },
    {
      "cell_type": "markdown",
      "source": [
        "The training stopped at <b>epoch 16</b> as the model started overfitting (shown by the validation loss). This happend <b>1 epoch</b> before the previous model. The training accuracy and validation accuracy graph are shown below."
      ],
      "metadata": {
        "id": "E0fzCKSiONyM"
      }
    },
    {
      "cell_type": "code",
      "source": [
        "plot_training_history(history_complex_model)"
      ],
      "metadata": {
        "colab": {
          "base_uri": "https://localhost:8080/",
          "height": 402
        },
        "id": "7LMYWjxCv3Ga",
        "outputId": "021af362-46a3-4b72-c974-d013b9a46ffa"
      },
      "execution_count": null,
      "outputs": [
        {
          "output_type": "display_data",
          "data": {
            "text/plain": [
              "<Figure size 1200x600 with 2 Axes>"
            ],
            "image/png": "[encoded data removed]"
          },
          "metadata": {}
        }
      ]
    },
    {
      "cell_type": "markdown",
      "source": [
        "This model has a lower training accuracy than validation accuracy until about <b>epoch 10</b>. And the validaton accuracy is continuesly increasing, indicating no signs of overfitting."
      ],
      "metadata": {
        "id": "JZQHZFL4OXhE"
      }
    },
    {
      "cell_type": "code",
      "source": [
        "# Increasing rate\n",
        "train_rate_complex, val_rate_complex = calculate_accuracy_increase_rate(history_complex_model)\n",
        "print(\"Training Accuracy Increase Rate:\", train_rate_complex)\n",
        "print(\"Validation Accuracy Increase Rate:\", val_rate_complex)"
      ],
      "metadata": {
        "colab": {
          "base_uri": "https://localhost:8080/"
        },
        "id": "MHVWoQyrwTk6",
        "outputId": "194dae42-a009-4fc1-e8a4-1a0054c6799a"
      },
      "execution_count": null,
      "outputs": [
        {
          "output_type": "stream",
          "name": "stdout",
          "text": [
            "Training Accuracy Increase Rate: 0.03235183954238892\n",
            "Validation Accuracy Increase Rate: 0.011040258407592773\n"
          ]
        }
      ]
    },
    {
      "cell_type": "markdown",
      "source": [
        "The rate of increase for accuracy is calculated above. It is increasing at a **slower rate** than the simple CNN model."
      ],
      "metadata": {
        "id": "tGOsMfCkOwmq"
      }
    },
    {
      "cell_type": "markdown",
      "source": [
        "Then, the model is evaluated on the test data"
      ],
      "metadata": {
        "id": "Y8_sXeFZO4g-"
      }
    },
    {
      "cell_type": "code",
      "source": [
        "# Test the model with the test data\n",
        "test_loss_complex, test_accuracy_complex = model_complex.evaluate(test_generator)\n",
        "\n",
        "print(f\"Test Loss: {test_loss_complex:.4f}\")\n",
        "print(f\"Test Accuracy: {test_accuracy_complex:.4f}\")"
      ],
      "metadata": {
        "colab": {
          "base_uri": "https://localhost:8080/"
        },
        "id": "u2UhqO-Wv3r4",
        "outputId": "b7120304-a22b-428c-8ffd-9ecce794b579"
      },
      "execution_count": null,
      "outputs": [
        {
          "output_type": "stream",
          "name": "stdout",
          "text": [
            "394/394 [==============================] - 19s 49ms/step - loss: 1.2031 - accuracy: 0.9075\n",
            "Test Loss: 1.2031\n",
            "Test Accuracy: 0.9075\n"
          ]
        }
      ]
    },
    {
      "cell_type": "code",
      "source": [
        "# Make predictions on the test data\n",
        "test_pred_complex = model_complex.predict(test_generator)\n",
        "\n",
        "# Convert one-hot encoded predictions back to class labels\n",
        "predicted_labels_complex = np.argmax(test_pred_complex, axis=1)\n",
        "\n",
        "# Calculate the precision score\n",
        "precision_complex = precision_score(true_labels, predicted_labels_complex, average='weighted')\n",
        "\n",
        "print(f\"Precision Score: {precision_complex:.4f}\")"
      ],
      "metadata": {
        "colab": {
          "base_uri": "https://localhost:8080/"
        },
        "id": "NGjoJfhUv31a",
        "outputId": "bf5affe1-0ab0-4f5f-97c2-99885afbcb08"
      },
      "execution_count": null,
      "outputs": [
        {
          "output_type": "stream",
          "name": "stdout",
          "text": [
            "394/394 [==============================] - 17s 44ms/step\n",
            "Precision Score: 0.9123\n"
          ]
        }
      ]
    },
    {
      "cell_type": "code",
      "source": [
        "# Generate a classification report\n",
        "class_rep_complex = classification_report(true_labels, predicted_labels_complex, target_names=class_names)\n",
        "\n",
        "print(\"Classification Report:\\n\", class_rep_complex)"
      ],
      "metadata": {
        "colab": {
          "base_uri": "https://localhost:8080/"
        },
        "id": "YtZr-SxJwJEQ",
        "outputId": "1a646a24-044f-42e3-c474-d5ba5d77a5dd"
      },
      "execution_count": null,
      "outputs": [
        {
          "output_type": "stream",
          "name": "stdout",
          "text": [
            "Classification Report:\n",
            "               precision    recall  f1-score   support\n",
            "\n",
            "           0       0.98      0.95      0.96       293\n",
            "           1       0.98      0.88      0.93       293\n",
            "           2       1.00      0.98      0.99       293\n",
            "           3       0.97      0.95      0.96       293\n",
            "           4       0.97      0.99      0.98       293\n",
            "           5       0.99      1.00      0.99       293\n",
            "           6       0.99      0.95      0.97       293\n",
            "           7       1.00      0.95      0.97       293\n",
            "           8       0.98      0.97      0.98       293\n",
            "           9       1.00      0.97      0.99       293\n",
            "          10       0.94      0.89      0.92       293\n",
            "          11       0.85      0.92      0.89       293\n",
            "          12       0.87      0.98      0.92       293\n",
            "          13       0.74      0.91      0.82       293\n",
            "          14       0.86      0.90      0.88       293\n",
            "          15       0.95      0.83      0.89       293\n",
            "          16       0.85      0.83      0.84       293\n",
            "          17       0.99      0.81      0.89       293\n",
            "          18       0.97      0.95      0.96       293\n",
            "          19       0.79      0.82      0.81       293\n",
            "          20       0.88      0.91      0.89       293\n",
            "          21       0.84      0.92      0.88       293\n",
            "          22       0.90      0.97      0.93       293\n",
            "          23       0.97      0.86      0.91       293\n",
            "          24       0.74      0.78      0.76       293\n",
            "          25       0.95      0.92      0.94       293\n",
            "          26       0.93      0.97      0.95       293\n",
            "          27       0.93      0.95      0.94       293\n",
            "          28       0.87      0.97      0.92       293\n",
            "          29       0.98      0.99      0.98       293\n",
            "          30       0.96      0.72      0.82       293\n",
            "          31       0.83      0.93      0.88       293\n",
            "          32       0.98      0.96      0.97       293\n",
            "          33       0.89      0.91      0.90       293\n",
            "          34       0.98      0.96      0.97       293\n",
            "          35       0.96      0.83      0.89       293\n",
            "          36       0.71      0.71      0.71       293\n",
            "          37       0.85      0.74      0.79       293\n",
            "          38       0.74      0.98      0.84       293\n",
            "          39       0.86      0.84      0.85       293\n",
            "          40       0.92      0.95      0.93       293\n",
            "          41       0.91      0.85      0.88       293\n",
            "          42       0.96      1.00      0.98       293\n",
            "\n",
            "    accuracy                           0.91     12599\n",
            "   macro avg       0.91      0.91      0.91     12599\n",
            "weighted avg       0.91      0.91      0.91     12599\n",
            "\n"
          ]
        }
      ]
    },
    {
      "cell_type": "markdown",
      "source": [
        "Generally, the model is performing well with a test precision of 90.07% and test accuracy of 91.23%. For accuracy across all classes, the worst performing one is class 31 with 71% precision and 71% F1 score. It is also noticed that a few classes have perfect scores on precision.\n",
        "\n",
        "This model improved the performance of the simple CNN model especially on the accuracy across all classes on test data."
      ],
      "metadata": {
        "id": "v-tuJpcsPDKH"
      }
    },
    {
      "cell_type": "markdown",
      "source": [
        "<h2> Model 3: Even more complex CNN with learning rate adjustment</h2>"
      ],
      "metadata": {
        "id": "NxP02q59wPQ2"
      }
    },
    {
      "cell_type": "markdown",
      "source": [
        "An attempt has been made to add more layers to the model with a **lower learning rate**. It could potentially allow a **more complexed model** with less likelihood of overfitting, at a cost of **increased training time**."
      ],
      "metadata": {
        "id": "0t-BrhCiR2Mp"
      }
    },
    {
      "cell_type": "code",
      "source": [
        "# Define the CNN layers\n",
        "input_layer = Input(shape=(128, 128, 1))\n",
        "x = Conv2D(64, (3, 3), activation='relu', kernel_regularizer=regularizers.l2(0.01))(input_layer)\n",
        "x = BatchNormalization()(x)\n",
        "x = MaxPooling2D(2, 2)(x)\n",
        "\n",
        "x = Conv2D(128, (3, 3), activation='relu', kernel_regularizer=regularizers.l2(0.01))(x)\n",
        "x = BatchNormalization()(x)\n",
        "x = MaxPooling2D(2, 2)(x)\n",
        "\n",
        "x = Conv2D(256, (3, 3), activation='relu', kernel_regularizer=regularizers.l2(0.01))(x)\n",
        "x = BatchNormalization()(x)\n",
        "x = MaxPooling2D(2, 2)(x)\n",
        "\n",
        "x = Flatten()(x)\n",
        "x = Dense(512, activation='relu', kernel_regularizer=regularizers.l2(0.01))(x)\n",
        "x = Dropout(0.5)(x)\n",
        "output_layer = Dense(num_classes, activation='softmax')(x)\n",
        "# Create the model\n",
        "model_more_complex = Model(inputs=input_layer, outputs=output_layer)\n",
        "\n",
        "# Compile the model with a lower learning rate\n",
        "model_more_complex.compile(optimizer=RMSprop(learning_rate=0.0001), loss='categorical_crossentropy', metrics=['accuracy'])"
      ],
      "metadata": {
        "id": "v7yCUqraioFY"
      },
      "execution_count": null,
      "outputs": []
    },
    {
      "cell_type": "code",
      "source": [
        "model_more_complex.summary()"
      ],
      "metadata": {
        "colab": {
          "base_uri": "https://localhost:8080/"
        },
        "id": "RtwjmB0vkwK6",
        "outputId": "54713ba9-0417-47d7-aea5-4a71e79474ed"
      },
      "execution_count": null,
      "outputs": [
        {
          "output_type": "stream",
          "name": "stdout",
          "text": [
            "Model: \"model_3\"\n",
            "_________________________________________________________________\n",
            " Layer (type)                Output Shape              Param #   \n",
            "=================================================================\n",
            " input_4 (InputLayer)        [(None, 128, 128, 1)]     0         \n",
            "                                                                 \n",
            " conv2d_9 (Conv2D)           (None, 126, 126, 64)      640       \n",
            "                                                                 \n",
            " batch_normalization_6 (Bat  (None, 126, 126, 64)      256       \n",
            " chNormalization)                                                \n",
            "                                                                 \n",
            " max_pooling2d_9 (MaxPoolin  (None, 63, 63, 64)        0         \n",
            " g2D)                                                            \n",
            "                                                                 \n",
            " conv2d_10 (Conv2D)          (None, 61, 61, 128)       73856     \n",
            "                                                                 \n",
            " batch_normalization_7 (Bat  (None, 61, 61, 128)       512       \n",
            " chNormalization)                                                \n",
            "                                                                 \n",
            " max_pooling2d_10 (MaxPooli  (None, 30, 30, 128)       0         \n",
            " ng2D)                                                           \n",
            "                                                                 \n",
            " conv2d_11 (Conv2D)          (None, 28, 28, 256)       295168    \n",
            "                                                                 \n",
            " batch_normalization_8 (Bat  (None, 28, 28, 256)       1024      \n",
            " chNormalization)                                                \n",
            "                                                                 \n",
            " max_pooling2d_11 (MaxPooli  (None, 14, 14, 256)       0         \n",
            " ng2D)                                                           \n",
            "                                                                 \n",
            " flatten_3 (Flatten)         (None, 50176)             0         \n",
            "                                                                 \n",
            " dense_6 (Dense)             (None, 512)               25690624  \n",
            "                                                                 \n",
            " dropout_3 (Dropout)         (None, 512)               0         \n",
            "                                                                 \n",
            " dense_7 (Dense)             (None, 43)                22059     \n",
            "                                                                 \n",
            "=================================================================\n",
            "Total params: 26084139 (99.50 MB)\n",
            "Trainable params: 26083243 (99.50 MB)\n",
            "Non-trainable params: 896 (3.50 KB)\n",
            "_________________________________________________________________\n"
          ]
        }
      ]
    },
    {
      "cell_type": "code",
      "source": [
        "# Compile the model with a lower learning rate\n",
        "model_more_complex.compile(optimizer=RMSprop(learning_rate=0.0001), loss='categorical_crossentropy', metrics=['accuracy'])\n",
        "\n",
        "# Early stopping callback\n",
        "early_stopping = EarlyStopping(monitor='val_loss', patience=3, restore_best_weights=True)\n",
        "\n",
        "# Train the model\n",
        "num_epochs = 50\n",
        "history_more_complex_model = model_more_complex.fit(train_generator, epochs=num_epochs, validation_data=valid_generator, callbacks=[early_stopping])\n",
        "\n",
        "print(\"Model training completed.\")"
      ],
      "metadata": {
        "colab": {
          "base_uri": "https://localhost:8080/"
        },
        "id": "vjvOOI-fjmqk",
        "outputId": "4f7f6402-5889-4389-f6f5-f94ef1c4b4fe"
      },
      "execution_count": null,
      "outputs": [
        {
          "output_type": "stream",
          "name": "stdout",
          "text": [
            "Epoch 1/50\n",
            "667/667 [==============================] - 75s 109ms/step - loss: 6.0313 - accuracy: 0.7944 - val_loss: 4.5161 - val_accuracy: 0.8953\n",
            "Epoch 2/50\n",
            "667/667 [==============================] - 51s 77ms/step - loss: 3.9717 - accuracy: 0.8621 - val_loss: 3.1690 - val_accuracy: 0.9128\n",
            "Epoch 3/50\n",
            "667/667 [==============================] - 51s 76ms/step - loss: 2.8346 - accuracy: 0.9036 - val_loss: 2.3680 - val_accuracy: 0.9407\n",
            "Epoch 4/50\n",
            "667/667 [==============================] - 51s 76ms/step - loss: 2.1573 - accuracy: 0.9232 - val_loss: 1.8324 - val_accuracy: 0.9539\n",
            "Epoch 5/50\n",
            "667/667 [==============================] - 51s 76ms/step - loss: 1.6712 - accuracy: 0.9373 - val_loss: 1.4418 - val_accuracy: 0.9586\n",
            "Epoch 6/50\n",
            "667/667 [==============================] - 51s 76ms/step - loss: 1.3275 - accuracy: 0.9496 - val_loss: 1.1919 - val_accuracy: 0.9604\n",
            "Epoch 7/50\n",
            "667/667 [==============================] - 53s 80ms/step - loss: 1.0859 - accuracy: 0.9556 - val_loss: 0.9677 - val_accuracy: 0.9662\n",
            "Epoch 8/50\n",
            "667/667 [==============================] - 50s 75ms/step - loss: 0.9041 - accuracy: 0.9627 - val_loss: 0.8222 - val_accuracy: 0.9700\n",
            "Epoch 9/50\n",
            "667/667 [==============================] - 53s 80ms/step - loss: 0.7713 - accuracy: 0.9668 - val_loss: 0.7266 - val_accuracy: 0.9730\n",
            "Epoch 10/50\n",
            "667/667 [==============================] - 51s 77ms/step - loss: 0.6826 - accuracy: 0.9693 - val_loss: 0.6481 - val_accuracy: 0.9726\n",
            "Epoch 11/50\n",
            "667/667 [==============================] - 51s 76ms/step - loss: 0.6192 - accuracy: 0.9715 - val_loss: 0.6019 - val_accuracy: 0.9689\n",
            "Epoch 12/50\n",
            "667/667 [==============================] - 51s 77ms/step - loss: 0.5534 - accuracy: 0.9751 - val_loss: 0.5365 - val_accuracy: 0.9749\n",
            "Epoch 13/50\n",
            "667/667 [==============================] - 50s 75ms/step - loss: 0.5006 - accuracy: 0.9761 - val_loss: 0.5948 - val_accuracy: 0.9522\n",
            "Epoch 14/50\n",
            "667/667 [==============================] - 51s 77ms/step - loss: 0.4609 - accuracy: 0.9781 - val_loss: 0.4626 - val_accuracy: 0.9809\n",
            "Epoch 15/50\n",
            "667/667 [==============================] - 49s 74ms/step - loss: 0.4178 - accuracy: 0.9808 - val_loss: 0.4170 - val_accuracy: 0.9809\n",
            "Epoch 16/50\n",
            "667/667 [==============================] - 51s 76ms/step - loss: 0.3870 - accuracy: 0.9806 - val_loss: 0.4055 - val_accuracy: 0.9771\n",
            "Epoch 17/50\n",
            "667/667 [==============================] - 50s 75ms/step - loss: 0.3663 - accuracy: 0.9825 - val_loss: 0.3881 - val_accuracy: 0.9743\n",
            "Epoch 18/50\n",
            "667/667 [==============================] - 49s 73ms/step - loss: 0.3528 - accuracy: 0.9819 - val_loss: 0.3512 - val_accuracy: 0.9827\n",
            "Epoch 19/50\n",
            "667/667 [==============================] - 52s 77ms/step - loss: 0.3270 - accuracy: 0.9832 - val_loss: 0.4184 - val_accuracy: 0.9636\n",
            "Epoch 20/50\n",
            "667/667 [==============================] - 49s 73ms/step - loss: 0.3203 - accuracy: 0.9832 - val_loss: 0.3337 - val_accuracy: 0.9812\n",
            "Epoch 21/50\n",
            "667/667 [==============================] - 51s 77ms/step - loss: 0.3030 - accuracy: 0.9844 - val_loss: 0.3187 - val_accuracy: 0.9835\n",
            "Epoch 22/50\n",
            "667/667 [==============================] - 51s 76ms/step - loss: 0.2932 - accuracy: 0.9848 - val_loss: 0.3287 - val_accuracy: 0.9771\n",
            "Epoch 23/50\n",
            "667/667 [==============================] - 51s 76ms/step - loss: 0.2927 - accuracy: 0.9835 - val_loss: 0.3533 - val_accuracy: 0.9737\n",
            "Epoch 24/50\n",
            "667/667 [==============================] - 50s 75ms/step - loss: 0.2840 - accuracy: 0.9842 - val_loss: 0.3197 - val_accuracy: 0.9812\n",
            "Model training completed.\n"
          ]
        }
      ]
    },
    {
      "cell_type": "markdown",
      "source": [
        "The training stopped at **epoch 24** as the model started overfitting (shown by the validation loss). This happend 8 epoch after the previous model. The training accuracy and validation accuracy graph are shown below. It was noted that the **training accuracy** and the **validation accuracy** are both **very high**."
      ],
      "metadata": {
        "id": "850KMf35Tk_0"
      }
    },
    {
      "cell_type": "code",
      "source": [
        "plot_training_history(history_more_complex_model)"
      ],
      "metadata": {
        "id": "1ZIG9-9wVd4C",
        "colab": {
          "base_uri": "https://localhost:8080/",
          "height": 402
        },
        "outputId": "0cc82c3b-fb4f-4ed0-a273-b8f78fd8ae16"
      },
      "execution_count": null,
      "outputs": [
        {
          "output_type": "display_data",
          "data": {
            "text/plain": [
              "<Figure size 1200x600 with 2 Axes>"
            ],
            "image/png": "[encoded data removed]"
          },
          "metadata": {}
        }
      ]
    },
    {
      "cell_type": "markdown",
      "source": [
        "Generally, this model has a higher training accuracy than validation accuracy. Validaton accuracy experienced significant fluctuations since epoch 10. However, it is still no indications of overfitting."
      ],
      "metadata": {
        "id": "FuRj8rxMTw7O"
      }
    },
    {
      "cell_type": "code",
      "source": [
        "# Increasing rate\n",
        "train_rate_mComplex, val_rate_mComplex = calculate_accuracy_increase_rate(history_more_complex_model)\n",
        "print(\"Training Accuracy Increase Rate:\", train_rate_mComplex)\n",
        "print(\"Validation Accuracy Increase Rate:\", val_rate_mComplex)"
      ],
      "metadata": {
        "id": "BlPptPKHjZOQ",
        "colab": {
          "base_uri": "https://localhost:8080/"
        },
        "outputId": "cb266bac-ac89-4d2f-c2da-d4d8070a85ff"
      },
      "execution_count": null,
      "outputs": [
        {
          "output_type": "stream",
          "name": "stdout",
          "text": [
            "Training Accuracy Increase Rate: 0.008250026599220608\n",
            "Validation Accuracy Increase Rate: 0.0037346300871475883\n"
          ]
        }
      ]
    },
    {
      "cell_type": "markdown",
      "source": [
        "The rate of increase for accuracy is calculated above. It is training at a much slower rate than the simple CNN model."
      ],
      "metadata": {
        "id": "eGC9BC-9UADe"
      }
    },
    {
      "cell_type": "markdown",
      "source": [
        "Then, the model is evaluated on the test data"
      ],
      "metadata": {
        "id": "PHTxy4LVUC7d"
      }
    },
    {
      "cell_type": "code",
      "source": [
        "# Test the model with the test data\n",
        "test_loss_mComplex, test_accuracy_mComplex = model_more_complex.evaluate(test_generator)\n",
        "\n",
        "print(f\"Test Loss: {test_loss_mComplex:.4f}\")\n",
        "print(f\"Test Accuracy: {test_accuracy_mComplex:.4f}\")"
      ],
      "metadata": {
        "id": "lOQJcz2duiua",
        "colab": {
          "base_uri": "https://localhost:8080/"
        },
        "outputId": "9446d940-b4be-46fe-8136-89e6892964f1"
      },
      "execution_count": null,
      "outputs": [
        {
          "output_type": "stream",
          "name": "stdout",
          "text": [
            "394/394 [==============================] - 18s 45ms/step - loss: 0.5808 - accuracy: 0.9071\n",
            "Test Loss: 0.5808\n",
            "Test Accuracy: 0.9071\n"
          ]
        }
      ]
    },
    {
      "cell_type": "code",
      "source": [
        "# Make predictions on the test data\n",
        "test_pred_mComplex = model_more_complex.predict(test_generator)\n",
        "\n",
        "# Convert one-hot encoded predictions back to class labels\n",
        "predicted_labels_mComplex = np.argmax(test_pred_mComplex, axis=1)\n",
        "\n",
        "# Calculate the precision score\n",
        "precision_mComplex = precision_score(true_labels, predicted_labels_mComplex, average='weighted')\n",
        "\n",
        "print(f\"Precision Score: {precision_mComplex:.4f}\")"
      ],
      "metadata": {
        "id": "9r6PFojTuqq9",
        "colab": {
          "base_uri": "https://localhost:8080/"
        },
        "outputId": "85dc8f4b-6447-456e-a013-368de9ecc323"
      },
      "execution_count": null,
      "outputs": [
        {
          "output_type": "stream",
          "name": "stdout",
          "text": [
            "394/394 [==============================] - 17s 44ms/step\n",
            "Precision Score: 0.9162\n"
          ]
        }
      ]
    },
    {
      "cell_type": "code",
      "source": [
        "# Generate a classification report\n",
        "class_rep_mComplex = classification_report(true_labels, predicted_labels_mComplex, target_names=class_names)\n",
        "\n",
        "print(\"Classification Report:\\n\", class_rep_mComplex)"
      ],
      "metadata": {
        "colab": {
          "base_uri": "https://localhost:8080/"
        },
        "id": "omduGPdyO7Nz",
        "outputId": "26c1613f-43f0-4f95-f89d-c044483bc77f"
      },
      "execution_count": null,
      "outputs": [
        {
          "output_type": "stream",
          "name": "stdout",
          "text": [
            "Classification Report:\n",
            "               precision    recall  f1-score   support\n",
            "\n",
            "           0       0.98      0.92      0.95       293\n",
            "           1       0.99      0.98      0.98       293\n",
            "           2       1.00      0.99      0.99       293\n",
            "           3       0.96      0.96      0.96       293\n",
            "           4       1.00      0.94      0.96       293\n",
            "           5       1.00      0.99      0.99       293\n",
            "           6       1.00      0.98      0.99       293\n",
            "           7       0.93      1.00      0.96       293\n",
            "           8       0.88      0.97      0.93       293\n",
            "           9       0.98      1.00      0.99       293\n",
            "          10       0.95      0.92      0.94       293\n",
            "          11       0.67      0.99      0.80       293\n",
            "          12       0.96      0.99      0.97       293\n",
            "          13       0.65      0.91      0.76       293\n",
            "          14       0.95      0.82      0.88       293\n",
            "          15       0.97      0.88      0.92       293\n",
            "          16       0.61      0.76      0.68       293\n",
            "          17       0.98      0.85      0.91       293\n",
            "          18       0.99      0.96      0.97       293\n",
            "          19       0.84      0.85      0.84       293\n",
            "          20       0.92      0.64      0.75       293\n",
            "          21       0.91      0.90      0.90       293\n",
            "          22       0.95      0.91      0.93       293\n",
            "          23       0.79      0.99      0.88       293\n",
            "          24       0.87      0.60      0.71       293\n",
            "          25       0.93      0.91      0.92       293\n",
            "          26       0.93      1.00      0.96       293\n",
            "          27       0.98      0.93      0.95       293\n",
            "          28       0.95      0.99      0.97       293\n",
            "          29       1.00      0.98      0.99       293\n",
            "          30       0.89      0.89      0.89       293\n",
            "          31       0.84      0.92      0.88       293\n",
            "          32       0.99      0.97      0.98       293\n",
            "          33       0.90      0.94      0.92       293\n",
            "          34       0.98      0.97      0.97       293\n",
            "          35       0.94      0.90      0.92       293\n",
            "          36       0.82      0.65      0.72       293\n",
            "          37       0.95      0.78      0.86       293\n",
            "          38       0.96      0.73      0.83       293\n",
            "          39       0.98      0.87      0.92       293\n",
            "          40       0.89      0.96      0.92       293\n",
            "          41       0.79      0.94      0.86       293\n",
            "          42       0.95      0.99      0.97       293\n",
            "\n",
            "    accuracy                           0.91     12599\n",
            "   macro avg       0.92      0.91      0.91     12599\n",
            "weighted avg       0.92      0.91      0.91     12599\n",
            "\n"
          ]
        }
      ]
    },
    {
      "cell_type": "markdown",
      "source": [
        "Although the model is performing much better in training data, the performance on test data **very similar** to the previous model. **Althernative model is recommended** as this is learning at a slower rate with more computational power needed."
      ],
      "metadata": {
        "id": "G8OIVC5jUIdj"
      }
    },
    {
      "cell_type": "markdown",
      "source": [
        "<h2> Model 4: Even more complex CNN with regularization and more layers</h2>\n"
      ],
      "metadata": {
        "id": "kOkTitWY6R32"
      }
    },
    {
      "cell_type": "markdown",
      "source": [
        "As the previous model not performing well, an attempt has been made to add more layers to the model so that it could potentially allow a **more complexed model** with less likelihood of overfitting, at a cost of **increased training time**."
      ],
      "metadata": {
        "id": "CXJEOPK-UY5A"
      }
    },
    {
      "cell_type": "code",
      "source": [
        "# Define a more complex CNN architecture\n",
        "input_layer = Input(shape=(128, 128, 1))\n",
        "x = Conv2D(64, (3, 3), activation='relu', kernel_regularizer=regularizers.l2(0.01))(input_layer)\n",
        "x = BatchNormalization()(x)\n",
        "x = MaxPooling2D(2, 2)(x)\n",
        "\n",
        "x = Conv2D(128, (3, 3), activation='relu', kernel_regularizer=regularizers.l2(0.01))(x)\n",
        "x = BatchNormalization()(x)\n",
        "x = MaxPooling2D(2, 2)(x)\n",
        "\n",
        "x = Conv2D(256, (3, 3), activation='relu', kernel_regularizer=regularizers.l2(0.01))(x)\n",
        "x = BatchNormalization()(x)\n",
        "x = MaxPooling2D(2, 2)(x)\n",
        "\n",
        "x = Flatten()(x)\n",
        "x = Dense(512, activation='relu', kernel_regularizer=regularizers.l2(0.01))(x)\n",
        "x = Dropout(0.5)(x)\n",
        "\n",
        "# Add another dense layer with dropout\n",
        "x = Dense(256, activation='relu', kernel_regularizer=regularizers.l2(0.01))(x)\n",
        "x = Dropout(0.4)(x)\n",
        "\n",
        "output_layer = Dense(num_classes, activation='softmax')(x)\n",
        "\n",
        "# Create the model\n",
        "model_modified = Model(inputs=input_layer, outputs=output_layer)\n",
        "\n",
        "# Compile the model with a lower learning rate\n",
        "model_modified.compile(optimizer=RMSprop(learning_rate=0.0001), loss='categorical_crossentropy', metrics=['accuracy'])"
      ],
      "metadata": {
        "id": "v7zUnmfG4p-a"
      },
      "execution_count": null,
      "outputs": []
    },
    {
      "cell_type": "markdown",
      "source": [
        "The above model is revised from all previous models. It added more omore set of dense layers and dropout layers with regularization. It also had a lower learning rate."
      ],
      "metadata": {
        "id": "zVAa6QXFUrX8"
      }
    },
    {
      "cell_type": "code",
      "source": [
        "# Early stopping callback\n",
        "early_stopping = EarlyStopping(monitor='val_loss', patience=3, restore_best_weights=True)\n",
        "\n",
        "# Train the model\n",
        "num_epochs = 50\n",
        "history_modified_model = model_modified.fit(train_generator, epochs=num_epochs, validation_data=valid_generator, callbacks=[early_stopping])\n",
        "\n",
        "print(\"Model training completed.\")"
      ],
      "metadata": {
        "colab": {
          "base_uri": "https://localhost:8080/"
        },
        "id": "WaUAF2Uv6jUu",
        "outputId": "a631e2f5-c86c-446a-fb24-abeffd253a1e"
      },
      "execution_count": null,
      "outputs": [
        {
          "output_type": "stream",
          "name": "stdout",
          "text": [
            "Epoch 1/50\n",
            "667/667 [==============================] - 55s 78ms/step - loss: 14.4023 - accuracy: 0.2756 - val_loss: 8.6471 - val_accuracy: 0.6772\n",
            "Epoch 2/50\n",
            "667/667 [==============================] - 50s 74ms/step - loss: 7.4680 - accuracy: 0.5992 - val_loss: 5.3508 - val_accuracy: 0.8462\n",
            "Epoch 3/50\n",
            "667/667 [==============================] - 52s 78ms/step - loss: 5.0092 - accuracy: 0.7397 - val_loss: 3.8478 - val_accuracy: 0.8877\n",
            "Epoch 4/50\n",
            "667/667 [==============================] - 50s 75ms/step - loss: 3.6029 - accuracy: 0.8224 - val_loss: 2.8122 - val_accuracy: 0.9353\n",
            "Epoch 5/50\n",
            "667/667 [==============================] - 50s 74ms/step - loss: 2.6577 - accuracy: 0.8780 - val_loss: 2.1057 - val_accuracy: 0.9571\n",
            "Epoch 6/50\n",
            "667/667 [==============================] - 53s 79ms/step - loss: 2.0043 - accuracy: 0.9114 - val_loss: 1.6206 - val_accuracy: 0.9653\n",
            "Epoch 7/50\n",
            "667/667 [==============================] - 48s 72ms/step - loss: 1.5403 - accuracy: 0.9347 - val_loss: 1.2847 - val_accuracy: 0.9670\n",
            "Epoch 8/50\n",
            "667/667 [==============================] - 50s 75ms/step - loss: 1.2299 - accuracy: 0.9454 - val_loss: 1.0591 - val_accuracy: 0.9707\n",
            "Epoch 9/50\n",
            "667/667 [==============================] - 49s 73ms/step - loss: 1.0070 - accuracy: 0.9558 - val_loss: 0.8730 - val_accuracy: 0.9722\n",
            "Epoch 10/50\n",
            "667/667 [==============================] - 47s 71ms/step - loss: 0.8468 - accuracy: 0.9616 - val_loss: 0.7354 - val_accuracy: 0.9784\n",
            "Epoch 11/50\n",
            "667/667 [==============================] - 47s 71ms/step - loss: 0.7278 - accuracy: 0.9658 - val_loss: 0.6518 - val_accuracy: 0.9797\n",
            "Epoch 12/50\n",
            "667/667 [==============================] - 49s 73ms/step - loss: 0.6472 - accuracy: 0.9673 - val_loss: 0.5930 - val_accuracy: 0.9816\n",
            "Epoch 13/50\n",
            "667/667 [==============================] - 47s 71ms/step - loss: 0.5857 - accuracy: 0.9727 - val_loss: 0.5535 - val_accuracy: 0.9824\n",
            "Epoch 14/50\n",
            "667/667 [==============================] - 47s 71ms/step - loss: 0.5460 - accuracy: 0.9720 - val_loss: 0.5225 - val_accuracy: 0.9766\n",
            "Epoch 15/50\n",
            "667/667 [==============================] - 50s 76ms/step - loss: 0.5101 - accuracy: 0.9743 - val_loss: 0.4721 - val_accuracy: 0.9814\n",
            "Epoch 16/50\n",
            "667/667 [==============================] - 47s 71ms/step - loss: 0.4894 - accuracy: 0.9745 - val_loss: 0.4690 - val_accuracy: 0.9797\n",
            "Epoch 17/50\n",
            "667/667 [==============================] - 48s 71ms/step - loss: 0.4663 - accuracy: 0.9759 - val_loss: 0.4464 - val_accuracy: 0.9827\n",
            "Epoch 18/50\n",
            "667/667 [==============================] - 49s 73ms/step - loss: 0.4554 - accuracy: 0.9741 - val_loss: 0.4404 - val_accuracy: 0.9786\n",
            "Epoch 19/50\n",
            "667/667 [==============================] - 47s 70ms/step - loss: 0.4533 - accuracy: 0.9739 - val_loss: 0.4447 - val_accuracy: 0.9790\n",
            "Epoch 20/50\n",
            "667/667 [==============================] - 47s 71ms/step - loss: 0.4329 - accuracy: 0.9759 - val_loss: 0.4201 - val_accuracy: 0.9792\n",
            "Epoch 21/50\n",
            "667/667 [==============================] - 50s 75ms/step - loss: 0.4290 - accuracy: 0.9748 - val_loss: 0.4205 - val_accuracy: 0.9827\n",
            "Epoch 22/50\n",
            "667/667 [==============================] - 47s 71ms/step - loss: 0.4264 - accuracy: 0.9765 - val_loss: 0.3993 - val_accuracy: 0.9848\n",
            "Epoch 23/50\n",
            "667/667 [==============================] - 47s 71ms/step - loss: 0.4211 - accuracy: 0.9757 - val_loss: 0.4073 - val_accuracy: 0.9792\n",
            "Epoch 24/50\n",
            "667/667 [==============================] - 50s 75ms/step - loss: 0.4142 - accuracy: 0.9765 - val_loss: 0.3947 - val_accuracy: 0.9841\n",
            "Epoch 25/50\n",
            "667/667 [==============================] - 47s 70ms/step - loss: 0.4100 - accuracy: 0.9761 - val_loss: 0.4024 - val_accuracy: 0.9827\n",
            "Epoch 26/50\n",
            "667/667 [==============================] - 47s 71ms/step - loss: 0.4018 - accuracy: 0.9779 - val_loss: 0.3901 - val_accuracy: 0.9794\n",
            "Epoch 27/50\n",
            "667/667 [==============================] - 48s 72ms/step - loss: 0.3941 - accuracy: 0.9782 - val_loss: 0.3833 - val_accuracy: 0.9839\n",
            "Epoch 28/50\n",
            "667/667 [==============================] - 48s 72ms/step - loss: 0.3932 - accuracy: 0.9773 - val_loss: 0.3713 - val_accuracy: 0.9844\n",
            "Epoch 29/50\n",
            "667/667 [==============================] - 47s 70ms/step - loss: 0.3924 - accuracy: 0.9773 - val_loss: 0.3750 - val_accuracy: 0.9856\n",
            "Epoch 30/50\n",
            "667/667 [==============================] - 47s 71ms/step - loss: 0.3901 - accuracy: 0.9780 - val_loss: 0.3797 - val_accuracy: 0.9812\n",
            "Epoch 31/50\n",
            "667/667 [==============================] - 48s 72ms/step - loss: 0.3824 - accuracy: 0.9799 - val_loss: 0.3789 - val_accuracy: 0.9812\n",
            "Model training completed.\n"
          ]
        }
      ]
    },
    {
      "cell_type": "markdown",
      "source": [
        "The training stopped at **epoch 31** as the model started overfitting (shown by the validation loss). This happend 7 epoch after the previous model. The training accuracy and validation accuracy graph are shown below. It was noted that the **training accuracy** and the **validation accuracy** are both **still very high**."
      ],
      "metadata": {
        "id": "O-Ur4nKrVA3v"
      }
    },
    {
      "cell_type": "code",
      "source": [
        "plot_training_history(history_modified_model)"
      ],
      "metadata": {
        "id": "fqa7qLr162ml",
        "colab": {
          "base_uri": "https://localhost:8080/",
          "height": 402
        },
        "outputId": "f3195db4-02af-4d89-a32b-37762b5b2ddf"
      },
      "execution_count": null,
      "outputs": [
        {
          "output_type": "display_data",
          "data": {
            "text/plain": [
              "<Figure size 1200x600 with 2 Axes>"
            ],
            "image/png": "[encoded data removed]"
          },
          "metadata": {}
        }
      ]
    },
    {
      "cell_type": "markdown",
      "source": [
        "This model has a similar training accuracy than validation accuracy. UnLike the previous model, validation accuracy did **not experienced significant fluctuations**. The model is thus much more **stable**. Moreover, it is still no indications of overfitting."
      ],
      "metadata": {
        "id": "NmPjS9B7VNck"
      }
    },
    {
      "cell_type": "markdown",
      "source": [
        "  The model is evaluated on the test data"
      ],
      "metadata": {
        "id": "HJB695Q9Vm4D"
      }
    },
    {
      "cell_type": "code",
      "source": [
        "# Test the model with the test data\n",
        "test_loss_mComplex, test_accuracy_mComplex = model_modified.evaluate(test_generator)\n",
        "\n",
        "print(f\"Test Loss: {test_loss_mComplex:.4f}\")\n",
        "print(f\"Test Accuracy: {test_accuracy_mComplex:.4f}\")"
      ],
      "metadata": {
        "colab": {
          "base_uri": "https://localhost:8080/"
        },
        "id": "uEcFmexjCGai",
        "outputId": "6358a1a8-ce5c-42e1-fcc9-335f960b27ae"
      },
      "execution_count": null,
      "outputs": [
        {
          "output_type": "stream",
          "name": "stdout",
          "text": [
            "394/394 [==============================] - 17s 44ms/step - loss: 0.6082 - accuracy: 0.9175\n",
            "Test Loss: 0.6082\n",
            "Test Accuracy: 0.9175\n"
          ]
        }
      ]
    },
    {
      "cell_type": "code",
      "source": [
        "# Make predictions on the test data\n",
        "test_pred_modified = model_modified.predict(test_generator)\n",
        "\n",
        "# Convert one-hot encoded predictions back to class labels\n",
        "predicted_labels_modified = np.argmax(test_pred_modified, axis=1)\n",
        "\n",
        "# Calculate the precision score\n",
        "precision_modified = precision_score(true_labels, predicted_labels_modified, average='weighted')\n",
        "\n",
        "print(f\"Precision Score: {precision_modified:.4f}\")"
      ],
      "metadata": {
        "colab": {
          "base_uri": "https://localhost:8080/"
        },
        "id": "89FHIk2NCLAJ",
        "outputId": "5c35fa91-38be-497e-ded8-2c56a1144dc1"
      },
      "execution_count": null,
      "outputs": [
        {
          "output_type": "stream",
          "name": "stdout",
          "text": [
            "394/394 [==============================] - 16s 42ms/step\n",
            "Precision Score: 0.9210\n"
          ]
        }
      ]
    },
    {
      "cell_type": "markdown",
      "source": [
        "After this adjustment, the new model did **not perform better** than the previous model. Thus, the exploration of model structure is concluded.\n",
        "\n",
        "The project will more on to saving this model and training of other models."
      ],
      "metadata": {
        "id": "kxT6GtoTVtlJ"
      }
    },
    {
      "cell_type": "markdown",
      "source": [
        "<h1> 7.3 Saving the model</h1>"
      ],
      "metadata": {
        "id": "hPIoN9AEBbSc"
      }
    },
    {
      "cell_type": "markdown",
      "source": [
        "The raw predictions, training history, and model are saved below. They were all saved to google drive for reusing and analysis in the future."
      ],
      "metadata": {
        "id": "WKCIK4zNWESi"
      }
    },
    {
      "cell_type": "code",
      "source": [
        "# Define the file path where you want to save the raw predictions\n",
        "save_path = \"best_test_predictions_CNN_RRDB.npy\"\n",
        "\n",
        "# Save the raw predictions to the specified file\n",
        "np.save(save_path, test_pred_modified)\n",
        "\n",
        "print(f\"Raw predictions saved to '{save_path}'.\")"
      ],
      "metadata": {
        "id": "Xfuln5m4C3R7",
        "colab": {
          "base_uri": "https://localhost:8080/"
        },
        "outputId": "a3757836-1f3a-4be9-a3b2-cf9a749b23c3"
      },
      "execution_count": null,
      "outputs": [
        {
          "output_type": "stream",
          "name": "stdout",
          "text": [
            "Raw predictions saved to 'best_test_predictions_CNN_RRDB.npy'.\n"
          ]
        }
      ]
    },
    {
      "cell_type": "code",
      "source": [
        "model_modified.save(\"final_CNN_model_RRDB.keras\")"
      ],
      "metadata": {
        "id": "PGhaZ8tGQC7A"
      },
      "execution_count": null,
      "outputs": []
    },
    {
      "cell_type": "code",
      "source": [
        "def save_training_history(history, filename):\n",
        "    # Create a DataFrame from the training history\n",
        "    history_df = pd.DataFrame(history.history)\n",
        "\n",
        "    # Save the DataFrame to a CSV file\n",
        "    history_df.to_csv(filename, index=False)\n",
        "\n",
        "    # Print the first few rows of the history DataFrame\n",
        "    print(history_df.head())"
      ],
      "metadata": {
        "id": "jD8a_DTcBd5C"
      },
      "execution_count": null,
      "outputs": []
    },
    {
      "cell_type": "code",
      "source": [
        "save_training_history(history_simpleCNN, 'training_history_simpleCNN_RRDB.csv')\n",
        "save_training_history(history_modified_model, 'training_history_complexCNN_RRDB.csv')"
      ],
      "metadata": {
        "id": "hIWdpGeiBwBV",
        "colab": {
          "base_uri": "https://localhost:8080/"
        },
        "outputId": "1cae5eda-1427-4a09-b0e0-0eba43599311"
      },
      "execution_count": null,
      "outputs": [
        {
          "output_type": "stream",
          "name": "stdout",
          "text": [
            "       loss  accuracy  val_loss  val_accuracy\n",
            "0  2.545618  0.303498  0.966991      0.746999\n",
            "1  1.143042  0.638644  0.557162      0.842273\n",
            "2  0.836582  0.726838  0.321065      0.910728\n",
            "3  0.664109  0.780476  0.280557      0.923856\n",
            "4  0.559052  0.812734  0.236826      0.936609\n",
            "        loss  accuracy  val_loss  val_accuracy\n",
            "0  14.402254  0.275647  8.647143      0.677232\n",
            "1   7.467972  0.599165  5.350805      0.846212\n",
            "2   5.009227  0.739685  3.847840      0.887659\n",
            "3   3.602857  0.822393  2.812239      0.935296\n",
            "4   2.657746  0.877954  2.105672      0.957052\n"
          ]
        }
      ]
    },
    {
      "cell_type": "code",
      "source": [
        "import shutil\n",
        "import os\n",
        "\n",
        "# Define the destination directory in Google Drive\n",
        "dest_dir = 'drive/MyDrive/final/training_models/CNN/'\n",
        "\n",
        "# Create the destination directory if it doesn't exist\n",
        "os.makedirs(dest_dir, exist_ok=True)\n",
        "\n",
        "# Define the source paths\n",
        "src_paths = [\n",
        "    'final_CNN_model_RRDB.keras',\n",
        "    'training_history_simpleCNN_RRDB.csv',\n",
        "    'training_history_complexCNN_RRDB.csv',\n",
        "    'best_test_predictions_CNN_RRDB.npy'\n",
        "]\n",
        "\n",
        "# Copy files to Google Drive\n",
        "for src_path in src_paths:\n",
        "    shutil.copy(src_path, dest_dir)\n",
        "\n",
        "print(\"Files copied to Google Drive successfully.\")"
      ],
      "metadata": {
        "id": "INCKfh3KDhys",
        "colab": {
          "base_uri": "https://localhost:8080/"
        },
        "outputId": "af9f7ec5-93e2-4d9e-b191-3a6bc55fb63d"
      },
      "execution_count": null,
      "outputs": [
        {
          "output_type": "stream",
          "name": "stdout",
          "text": [
            "Files copied to Google Drive successfully.\n"
          ]
        }
      ]
    }
  ]
}