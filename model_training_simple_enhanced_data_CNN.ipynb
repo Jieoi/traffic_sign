{
  "nbformat": 4,
  "nbformat_minor": 0,
  "metadata": {
    "colab": {
      "provenance": [],
      "gpuType": "T4",
      "authorship_tag": "ABX9TyMfpgpXOmrJA2BgTPOpyhNo",
      "include_colab_link": true
    },
    "kernelspec": {
      "name": "python3",
      "display_name": "Python 3"
    },
    "language_info": {
      "name": "python"
    },
    "accelerator": "GPU"
  },
  "cells": [
    {
      "cell_type": "markdown",
      "metadata": {
        "id": "view-in-github",
        "colab_type": "text"
      },
      "source": [
        "<a href=\"https://colab.research.google.com/github/Jieoi/traffic_sign_recognition/blob/main/model_training_simple_enhanced_data_CNN.ipynb\" target=\"_parent\"><img src=\"https://colab.research.google.com/assets/colab-badge.svg\" alt=\"Open In Colab\"/></a>"
      ]
    },
    {
      "cell_type": "markdown",
      "source": [
        "Note: This instance of Google Colab has been configured to use T4 GPU. It is possible to run all other sections at a slower rate on CPU."
      ],
      "metadata": {
        "id": "n4bbpXqXE-ys"
      }
    },
    {
      "cell_type": "markdown",
      "source": [
        "Note: The code below has been configured to run on Google colab with python scripts and data imported from google drive. Please download the scripts and data from [here](https://drive.google.com/drive/folders/1nViTcpc952b0ftRGqkDBFqbSEC01t0a8). Files required including all scripts and helper files under data_preparation folder and data_augmentation folder. Alternatively, vist my github repository to [download](https://github.com/Jieoi/traffic_sign_recognition/tree/main) the scripts and helper files."
      ],
      "metadata": {
        "id": "dGeJSyPpFI_t"
      }
    },
    {
      "cell_type": "markdown",
      "source": [
        "<h1> 2.1 Data Preparation for Machine Learning</h1>"
      ],
      "metadata": {
        "id": "cX68P2z6KqgN"
      }
    },
    {
      "cell_type": "markdown",
      "source": [
        "<h2>2.1.1 Preparing the notebook</h2>"
      ],
      "metadata": {
        "id": "M5uxRK7kKx_U"
      }
    },
    {
      "cell_type": "markdown",
      "source": [
        "The first step is to connect to Google Drive so that the data enhanced in the previouse notebook can be used.\n",
        "\n",
        "The exact files that the notebook needs to  access are <code>final_image.zip</code> and <code>image_data.csv</code>. It can be found in the link <a href=\"https://drive.google.com/drive/folders/1nViTcpc952b0ftRGqkDBFqbSEC01t0a8\">here</a>.\n",
        "\n",
        "Ideally, the notebook should be run in Google Colab with high RAM and GPU support. However, the code can be excuted on CPU only mode with a longer training time."
      ],
      "metadata": {
        "id": "COiJJylxK30z"
      }
    },
    {
      "cell_type": "code",
      "source": [
        "# Checking GPU availability\n",
        "!nvidia-smi"
      ],
      "metadata": {
        "colab": {
          "base_uri": "https://localhost:8080/"
        },
        "id": "NKBTqdfmQUr1",
        "outputId": "a9ff6bd6-e982-459c-be44-45d12e016e09"
      },
      "execution_count": null,
      "outputs": [
        {
          "output_type": "stream",
          "name": "stdout",
          "text": [
            "Tue Sep  5 10:11:19 2023       \n",
            "+-----------------------------------------------------------------------------+\n",
            "| NVIDIA-SMI 525.105.17   Driver Version: 525.105.17   CUDA Version: 12.0     |\n",
            "|-------------------------------+----------------------+----------------------+\n",
            "| GPU  Name        Persistence-M| Bus-Id        Disp.A | Volatile Uncorr. ECC |\n",
            "| Fan  Temp  Perf  Pwr:Usage/Cap|         Memory-Usage | GPU-Util  Compute M. |\n",
            "|                               |                      |               MIG M. |\n",
            "|===============================+======================+======================|\n",
            "|   0  Tesla T4            Off  | 00000000:00:04.0 Off |                    0 |\n",
            "| N/A   39C    P8     9W /  70W |      0MiB / 15360MiB |      0%      Default |\n",
            "|                               |                      |                  N/A |\n",
            "+-------------------------------+----------------------+----------------------+\n",
            "                                                                               \n",
            "+-----------------------------------------------------------------------------+\n",
            "| Processes:                                                                  |\n",
            "|  GPU   GI   CI        PID   Type   Process name                  GPU Memory |\n",
            "|        ID   ID                                                   Usage      |\n",
            "|=============================================================================|\n",
            "|  No running processes found                                                 |\n",
            "+-----------------------------------------------------------------------------+\n"
          ]
        }
      ]
    },
    {
      "cell_type": "code",
      "execution_count": null,
      "metadata": {
        "colab": {
          "base_uri": "https://localhost:8080/"
        },
        "id": "_hnGCcs_4sNy",
        "outputId": "bac5e584-3b17-4e5c-ba65-36996194daa7"
      },
      "outputs": [
        {
          "output_type": "stream",
          "name": "stdout",
          "text": [
            "Mounted at /content/drive\n"
          ]
        }
      ],
      "source": [
        "from google.colab import drive\n",
        "\n",
        "# Mount Google Drive\n",
        "drive.mount('/content/drive', force_remount=True)"
      ]
    },
    {
      "cell_type": "markdown",
      "source": [
        "The libraries used in this notebook are listed below."
      ],
      "metadata": {
        "id": "DYBNIWx1Km-Q"
      }
    },
    {
      "cell_type": "code",
      "source": [
        "# Zip file handling\n",
        "import zipfile\n",
        "import os\n",
        "\n",
        "# Data handling and visualization\n",
        "import os\n",
        "import cv2\n",
        "import numpy as np\n",
        "import pandas as pd\n",
        "import matplotlib.pyplot as plt\n",
        "\n",
        "# File handling and management for training and validation data\n",
        "from shutil import copyfile\n",
        "from sklearn.model_selection import train_test_split\n",
        "\n",
        "# importing library for ML processing\n",
        "import tensorflow as tf\n",
        "from tensorflow.keras.preprocessing.image import ImageDataGenerator\n",
        "\n",
        "# CNN layers\n",
        "from tensorflow.keras.layers import Input, Conv2D, MaxPooling2D, Flatten, Dense, Dropout, BatchNormalization\n",
        "from tensorflow.keras.models import Model\n",
        "from tensorflow.keras.optimizers import Adam,RMSprop\n",
        "from tensorflow.keras.callbacks import EarlyStopping\n",
        "\n",
        "# Regularization\n",
        "from tensorflow.keras import regularizers\n",
        "\n",
        "# Saving the model\n",
        "from tensorflow.keras.models import save_model\n",
        "\n",
        "# Metrics for evaluation\n",
        "from sklearn.metrics import classification_report\n",
        "from sklearn.metrics import precision_score"
      ],
      "metadata": {
        "id": "VEemnXizTEw4"
      },
      "execution_count": null,
      "outputs": []
    },
    {
      "cell_type": "markdown",
      "source": [
        "<h2>2.1.2 Data preparation for Machine Learning</h2>"
      ],
      "metadata": {
        "id": "d_ycXAdhSGV7"
      }
    },
    {
      "cell_type": "markdown",
      "source": [
        "Firstly, pre-porcessed training data is obtained and prepared for machine learning:\n"
      ],
      "metadata": {
        "id": "znQglMe3mU_p"
      }
    },
    {
      "cell_type": "markdown",
      "source": [
        "The labels for all the images is in the <code>image_data.csv</code> file. It is first extracted in the code below."
      ],
      "metadata": {
        "id": "_RWYzZpNM_LA"
      }
    },
    {
      "cell_type": "code",
      "source": [
        "csv_file = '/content/drive/MyDrive/final/train_data/image_data2.csv'\n",
        "\n",
        "# Read the CSV file into a pandas DataFrame\n",
        "df_classes = pd.read_csv(csv_file)\n",
        "df_classes.info"
      ],
      "metadata": {
        "colab": {
          "base_uri": "https://localhost:8080/"
        },
        "id": "i94oSVmWCYpC",
        "outputId": "367c4572-d54a-4b47-d818-07a659b7a737"
      },
      "execution_count": null,
      "outputs": [
        {
          "output_type": "execute_result",
          "data": {
            "text/plain": [
              "<bound method DataFrame.info of        class      filename\n",
              "0          0       0_0.png\n",
              "1          0       0_1.png\n",
              "2          0       0_2.png\n",
              "3          0       0_3.png\n",
              "4          0       0_4.png\n",
              "...      ...           ...\n",
              "26655     42  42_26655.png\n",
              "26656     42  42_26656.png\n",
              "26657     42  42_26657.png\n",
              "26658     42  42_26658.png\n",
              "26659     42  42_26659.png\n",
              "\n",
              "[26660 rows x 2 columns]>"
            ]
          },
          "metadata": {},
          "execution_count": 4
        }
      ]
    },
    {
      "cell_type": "markdown",
      "source": [
        "Then the images are extracted from the <code>final_image.zip</code> file."
      ],
      "metadata": {
        "id": "tKBDwP7kNu-L"
      }
    },
    {
      "cell_type": "code",
      "source": [
        "# Paths\n",
        "zip_file_path = '/content/drive/MyDrive/final/train_data/final_image.zip'\n",
        "extracted_dir = '/content/extracted_images'\n",
        "\n",
        "# Create the directory for extracted images if it doesn't exist\n",
        "os.makedirs(extracted_dir, exist_ok=True)\n",
        "\n",
        "\n",
        "# Open the ZIP file and extract its contents\n",
        "with zipfile.ZipFile(zip_file_path, 'r') as zip_ref:\n",
        "    zip_ref.extractall(extracted_dir)\n",
        "\n",
        "# Check the length of the extracted images\n",
        "num_extracted_images = len(os.listdir(extracted_dir))\n",
        "print(f\"Number of extracted images: {num_extracted_images}\")\n",
        "print(\"Extraction completed.\")"
      ],
      "metadata": {
        "colab": {
          "base_uri": "https://localhost:8080/"
        },
        "id": "aegfPAhacJRR",
        "outputId": "58cbaa0e-beb6-4551-c64e-db46465b03e9"
      },
      "execution_count": null,
      "outputs": [
        {
          "output_type": "stream",
          "name": "stdout",
          "text": [
            "Number of extracted images: 26660\n",
            "Extraction completed.\n"
          ]
        }
      ]
    },
    {
      "cell_type": "markdown",
      "source": [
        "Both images and there labels extracted contains the same number of entries."
      ],
      "metadata": {
        "id": "UgAfoUUON3vh"
      }
    },
    {
      "cell_type": "markdown",
      "source": [
        "The distribution of the final classes is shown below."
      ],
      "metadata": {
        "id": "ZrskEW6ON0Zc"
      }
    },
    {
      "cell_type": "code",
      "source": [
        "# Count the occurrences of each class in the DataFrame\n",
        "class_counts = df_classes['class'].value_counts()\n",
        "\n",
        "# Sort the unique class IDs\n",
        "unique_classes = np.sort(df_classes['class'].unique())\n",
        "\n",
        "# Create a bar chart\n",
        "plt.figure(figsize=(10, 6))\n",
        "plt.bar(unique_classes, class_counts[unique_classes])\n",
        "plt.xlabel('Class')\n",
        "plt.ylabel('Count')\n",
        "plt.title('Class Distribution')\n",
        "plt.xticks(unique_classes)\n",
        "plt.show()"
      ],
      "metadata": {
        "colab": {
          "base_uri": "https://localhost:8080/",
          "height": 452
        },
        "id": "s28B6914YyMd",
        "outputId": "d191e076-6379-4507-ac0f-76a510f97ec5"
      },
      "execution_count": null,
      "outputs": [
        {
          "output_type": "display_data",
          "data": {
            "text/plain": [
              "<Figure size 1000x600 with 1 Axes>"
            ],
            "image/png": "[encoded data removed]"
          },
          "metadata": {}
        }
      ]
    },
    {
      "cell_type": "markdown",
      "source": [
        "Both images are first split into training and validation sets. They are grouped by their classes and stored in individual directories for every classes."
      ],
      "metadata": {
        "id": "obTCtr8vORqc"
      }
    },
    {
      "cell_type": "code",
      "source": [
        "train_dir = '/content/train_images'\n",
        "valid_dir = '/content/valid_images'\n",
        "\n",
        "# Create directories for training and validation images\n",
        "os.makedirs(train_dir, exist_ok=True)\n",
        "os.makedirs(valid_dir, exist_ok=True)\n",
        "\n",
        "# Split the data into training and validation sets\n",
        "train_df, valid_df = train_test_split(df_classes, test_size=0.2, random_state=42, stratify=df_classes['class'])\n",
        "\n",
        "# Copy images to directories based on classes for training set\n",
        "for index, row in train_df.iterrows():\n",
        "    src_path = os.path.join(extracted_dir, row['filename'])\n",
        "    dst_path = os.path.join(train_dir, str(row['class']), row['filename'])\n",
        "    os.makedirs(os.path.dirname(dst_path), exist_ok=True)\n",
        "    copyfile(src_path, dst_path)\n",
        "\n",
        "# Copy images to directories based on classes for validation set\n",
        "for index, row in valid_df.iterrows():\n",
        "    src_path = os.path.join(extracted_dir, row['filename'])\n",
        "    dst_path = os.path.join(valid_dir, str(row['class']), row['filename'])\n",
        "    os.makedirs(os.path.dirname(dst_path), exist_ok=True)\n",
        "    copyfile(src_path, dst_path)\n",
        "\n",
        "print(\"Data preparation for ML completed.\")"
      ],
      "metadata": {
        "colab": {
          "base_uri": "https://localhost:8080/"
        },
        "id": "husZ2lw6dYyC",
        "outputId": "bbca8c06-8351-4095-ce09-c15c9531b265"
      },
      "execution_count": null,
      "outputs": [
        {
          "output_type": "stream",
          "name": "stdout",
          "text": [
            "Data preparation for ML completed.\n"
          ]
        }
      ]
    },
    {
      "cell_type": "markdown",
      "source": [
        "<h1> 2.2 Machine Learning</h1>"
      ],
      "metadata": {
        "id": "-F61JPGGOoN2"
      }
    },
    {
      "cell_type": "markdown",
      "source": [
        "<h2>2.2.1 Data pipeline</h2>"
      ],
      "metadata": {
        "id": "kumuDOWeSTrX"
      }
    },
    {
      "cell_type": "markdown",
      "source": [
        "<code>flow_from_directory()</code> from Keras ImageDataGenerator is used to load the images with rescaling to 1/255. batch size and image size are pre-set to 32 and (128, 128), respectively."
      ],
      "metadata": {
        "id": "XEkNgAgcRWjj"
      }
    },
    {
      "cell_type": "code",
      "source": [
        "# Define paths\n",
        "train_dir = '/content/train_images'\n",
        "valid_dir = '/content/valid_images'\n",
        "\n",
        "# Define image dimensions and batch size\n",
        "image_size = (30,30)\n",
        "batch_size = 32\n",
        "\n",
        "# Create data generators and rescale image for ML on training and validation\n",
        "train_datagen = ImageDataGenerator(rescale=1.0/255)\n",
        "valid_datagen = ImageDataGenerator(rescale=1.0/255)\n",
        "\n",
        "train_generator = train_datagen.flow_from_directory(\n",
        "    train_dir,\n",
        "    target_size=image_size,\n",
        "    batch_size=batch_size,\n",
        "    class_mode='categorical',\n",
        "    shuffle=True  # Set shuffle to True for training data\n",
        ")\n",
        "\n",
        "valid_generator = valid_datagen.flow_from_directory(\n",
        "    valid_dir,\n",
        "    target_size=image_size,\n",
        "    batch_size=batch_size,\n",
        "    class_mode='categorical',\n",
        "    shuffle=False  # Set shuffle to False for validation data\n",
        ")\n",
        "\n",
        "# Get the number of classes from the training generator\n",
        "num_classes = len(train_generator.class_indices)"
      ],
      "metadata": {
        "colab": {
          "base_uri": "https://localhost:8080/"
        },
        "id": "ICEfnqPEeJBl",
        "outputId": "8053ee3d-548b-4702-c02c-35032f37cbc5"
      },
      "execution_count": null,
      "outputs": [
        {
          "output_type": "stream",
          "name": "stdout",
          "text": [
            "Found 21328 images belonging to 43 classes.\n",
            "Found 5332 images belonging to 43 classes.\n"
          ]
        }
      ]
    },
    {
      "cell_type": "markdown",
      "source": [
        "Next, the test data is also obtained and prepared for machine learning."
      ],
      "metadata": {
        "id": "AFiJylAImhVR"
      }
    },
    {
      "cell_type": "code",
      "source": [
        "# Define the paths\n",
        "test_zip_path = '/content/drive/MyDrive/final/test_data/test_image_simple.zip'\n",
        "test_extracted_dir = '/content/extracted_test_images'\n",
        "test_dir = '/content/test_images'\n",
        "\n",
        "# Create the directory for extracted test images if it doesn't exist\n",
        "os.makedirs(test_extracted_dir, exist_ok=True)\n",
        "\n",
        "# Open the ZIP file and extract its contents\n",
        "with zipfile.ZipFile(test_zip_path, 'r') as zip_ref:\n",
        "    zip_ref.extractall(test_extracted_dir)"
      ],
      "metadata": {
        "id": "wjQBx8gQmnaV"
      },
      "execution_count": null,
      "outputs": []
    },
    {
      "cell_type": "code",
      "source": [
        "# Move the test images to the test directory while renaming them with their true labels\n",
        "for filename in os.listdir(test_extracted_dir):\n",
        "    src_path = os.path.join(test_extracted_dir, filename)\n",
        "    # Extract the true label from the filename (before the underscore)\n",
        "    true_label = filename.split('_')[0]\n",
        "    dst_path = os.path.join(test_dir, true_label, filename)\n",
        "    os.makedirs(os.path.dirname(dst_path), exist_ok=True)\n",
        "    copyfile(src_path, dst_path)"
      ],
      "metadata": {
        "id": "V7txY676psmN"
      },
      "execution_count": null,
      "outputs": []
    },
    {
      "cell_type": "code",
      "source": [
        "# Create a data generator for the test data\n",
        "test_datagen = ImageDataGenerator(rescale=1.0/255)\n",
        "\n",
        "test_generator = test_datagen.flow_from_directory(\n",
        "    test_dir,\n",
        "    target_size=image_size,\n",
        "    batch_size=batch_size,\n",
        "    class_mode='categorical',\n",
        "    shuffle=False  # Set shuffle to False for testing data\n",
        ")"
      ],
      "metadata": {
        "colab": {
          "base_uri": "https://localhost:8080/"
        },
        "id": "oelcW3EtnlSz",
        "outputId": "5f6bcca4-34e0-4837-db1c-e1735085884c"
      },
      "execution_count": null,
      "outputs": [
        {
          "output_type": "stream",
          "name": "stdout",
          "text": [
            "Found 12630 images belonging to 43 classes.\n"
          ]
        }
      ]
    },
    {
      "cell_type": "markdown",
      "source": [
        "<h2>2.2.2 Training the CNN model</h2>"
      ],
      "metadata": {
        "id": "EJUQK66CaB8W"
      }
    },
    {
      "cell_type": "markdown",
      "source": [
        "Double checking the GPU availability and set the GPU device if it is available"
      ],
      "metadata": {
        "id": "xsMRTT06SepR"
      }
    },
    {
      "cell_type": "code",
      "source": [
        "# Check GPU availability\n",
        "print(\"Num GPUs Available: \", len(tf.config.list_physical_devices('GPU')))\n",
        "\n",
        "# Specify GPU device\n",
        "physical_devices = tf.config.list_physical_devices('GPU')\n",
        "if len(physical_devices) > 0:\n",
        "    tf.config.experimental.set_memory_growth(physical_devices[0], True)"
      ],
      "metadata": {
        "colab": {
          "base_uri": "https://localhost:8080/"
        },
        "id": "42FI4zL2feiP",
        "outputId": "a72724e9-0e1f-4469-a1ac-acd3b4ef2dfa"
      },
      "execution_count": null,
      "outputs": [
        {
          "output_type": "stream",
          "name": "stdout",
          "text": [
            "Num GPUs Available:  1\n"
          ]
        }
      ]
    },
    {
      "cell_type": "markdown",
      "source": [
        "A function is defined to plot the training history"
      ],
      "metadata": {
        "id": "VSCR24GDSyqc"
      }
    },
    {
      "cell_type": "code",
      "source": [
        "def calculate_accuracy_increase_rate(history):\n",
        "    train_accuracy = history.history['accuracy']\n",
        "    val_accuracy = history.history['val_accuracy']\n",
        "\n",
        "    train_rate = np.mean(np.diff(train_accuracy))\n",
        "    val_rate = np.mean(np.diff(val_accuracy))\n",
        "\n",
        "    return train_rate, val_rate"
      ],
      "metadata": {
        "id": "U_5cFB1DjMZ4"
      },
      "execution_count": null,
      "outputs": []
    },
    {
      "cell_type": "code",
      "source": [
        "def plot_training_history(history):\n",
        "    # Access the training history\n",
        "    training_loss = history.history['loss']\n",
        "    training_accuracy = history.history['accuracy']\n",
        "    validation_loss = history.history['val_loss']\n",
        "    validation_accuracy = history.history['val_accuracy']\n",
        "\n",
        "    # Create a figure with two subplots\n",
        "    fig, (ax1, ax2) = plt.subplots(1, 2, figsize=(12, 6))\n",
        "\n",
        "    # Plotting the training and validation accuracy\n",
        "    ax1.plot(training_accuracy)\n",
        "    ax1.plot(validation_accuracy)\n",
        "    ax1.set_title('Model Accuracy')\n",
        "    ax1.set_xlabel('Epoch')\n",
        "    ax1.set_ylabel('Accuracy')\n",
        "    ax1.legend(['Train', 'Validation'], loc='upper left')\n",
        "\n",
        "    # Plotting the training and validation loss\n",
        "    ax2.plot(training_loss)\n",
        "    ax2.plot(validation_loss)\n",
        "    ax2.set_title('Model Loss')\n",
        "    ax2.set_xlabel('Epoch')\n",
        "    ax2.set_ylabel('Loss')\n",
        "    ax2.legend(['Train', 'Validation'], loc='upper right')\n",
        "\n",
        "    # Adjust the spacing between subplots\n",
        "    plt.tight_layout()\n",
        "\n",
        "    # Show the figure\n",
        "    plt.show()"
      ],
      "metadata": {
        "id": "0ZcwYOoBef3J"
      },
      "execution_count": null,
      "outputs": []
    },
    {
      "cell_type": "code",
      "source": [
        "# Get true labels from the test generator\n",
        "true_labels = test_generator.classes\n",
        "\n",
        "# Get unique true labels\n",
        "class_names = [str(label) for label in range(43)]"
      ],
      "metadata": {
        "id": "Ra0sBmAbv8QP"
      },
      "execution_count": null,
      "outputs": []
    },
    {
      "cell_type": "markdown",
      "source": [
        "<h2> Model 1: Simple CNN baseline</h2>\n"
      ],
      "metadata": {
        "id": "OgUFRqk4uAFq"
      }
    },
    {
      "cell_type": "markdown",
      "source": [
        "Training the CNN model to upto 30 epochs, early stopping is used to prevent overfitting. However, no regularization is applied."
      ],
      "metadata": {
        "id": "eXwyIjLpS3Em"
      }
    },
    {
      "cell_type": "code",
      "source": [
        "# Define the CNN layers\n",
        "input_layer = Input(shape=(30, 30, 3))\n",
        "x = Conv2D(32, (3, 3), activation='relu')(input_layer)\n",
        "x = MaxPooling2D(2, 2)(x)\n",
        "\n",
        "x = Conv2D(64, (3, 3), activation='relu')(x)\n",
        "x = MaxPooling2D(2, 2)(x)\n",
        "\n",
        "x = Conv2D(128, (3, 3), activation='relu')(x)\n",
        "x = MaxPooling2D(2, 2)(x)\n",
        "\n",
        "x = Flatten()(x)\n",
        "x = Dense(256, activation='relu')(x)\n",
        "x = Dropout(0.5)(x)\n",
        "output_layer = Dense(num_classes, activation='softmax')(x)\n",
        "\n",
        "# Create the model\n",
        "model_CNN = Model(inputs=input_layer, outputs=output_layer)\n",
        "\n",
        "# Compile the model\n",
        "model_CNN.compile(optimizer=Adam(learning_rate=0.001), loss='categorical_crossentropy', metrics=['accuracy'])"
      ],
      "metadata": {
        "id": "S2FXPHyGS1vm"
      },
      "execution_count": null,
      "outputs": []
    },
    {
      "cell_type": "code",
      "source": [
        "model_CNN.summary()"
      ],
      "metadata": {
        "colab": {
          "base_uri": "https://localhost:8080/"
        },
        "id": "J1A1_tc-UtXG",
        "outputId": "4a9185b1-9238-4de2-8d33-22e570c6f28a"
      },
      "execution_count": null,
      "outputs": [
        {
          "output_type": "stream",
          "name": "stdout",
          "text": [
            "Model: \"model\"\n",
            "_________________________________________________________________\n",
            " Layer (type)                Output Shape              Param #   \n",
            "=================================================================\n",
            " input_2 (InputLayer)        [(None, 30, 30, 3)]       0         \n",
            "                                                                 \n",
            " conv2d_4 (Conv2D)           (None, 28, 28, 32)        896       \n",
            "                                                                 \n",
            " max_pooling2d_3 (MaxPooling  (None, 14, 14, 32)       0         \n",
            " 2D)                                                             \n",
            "                                                                 \n",
            " conv2d_5 (Conv2D)           (None, 12, 12, 64)        18496     \n",
            "                                                                 \n",
            " max_pooling2d_4 (MaxPooling  (None, 6, 6, 64)         0         \n",
            " 2D)                                                             \n",
            "                                                                 \n",
            " conv2d_6 (Conv2D)           (None, 4, 4, 128)         73856     \n",
            "                                                                 \n",
            " max_pooling2d_5 (MaxPooling  (None, 2, 2, 128)        0         \n",
            " 2D)                                                             \n",
            "                                                                 \n",
            " flatten (Flatten)           (None, 512)               0         \n",
            "                                                                 \n",
            " dense (Dense)               (None, 256)               131328    \n",
            "                                                                 \n",
            " dropout (Dropout)           (None, 256)               0         \n",
            "                                                                 \n",
            " dense_1 (Dense)             (None, 43)                11051     \n",
            "                                                                 \n",
            "=================================================================\n",
            "Total params: 235,627\n",
            "Trainable params: 235,627\n",
            "Non-trainable params: 0\n",
            "_________________________________________________________________\n"
          ]
        }
      ]
    },
    {
      "cell_type": "code",
      "source": [
        "# Early stopping callback\n",
        "early_stopping = EarlyStopping(monitor='val_loss', patience=3, restore_best_weights=True)\n",
        "\n",
        "# Train the model\n",
        "num_epochs = 30\n",
        "history_simpleCNN = model_CNN.fit(train_generator, epochs=num_epochs, validation_data=valid_generator, callbacks=[early_stopping])\n",
        "\n",
        "print(\"Model training completed.\")"
      ],
      "metadata": {
        "colab": {
          "base_uri": "https://localhost:8080/"
        },
        "id": "m0sYx0qRTFsH",
        "outputId": "d5a6e007-59c4-49a6-e227-8b4b358175f7"
      },
      "execution_count": null,
      "outputs": [
        {
          "output_type": "stream",
          "name": "stdout",
          "text": [
            "Epoch 1/30\n",
            "667/667 [==============================] - 38s 40ms/step - loss: 2.3641 - accuracy: 0.3243 - val_loss: 1.0312 - val_accuracy: 0.6785\n",
            "Epoch 2/30\n",
            "667/667 [==============================] - 25s 37ms/step - loss: 0.9147 - accuracy: 0.7074 - val_loss: 0.5911 - val_accuracy: 0.8078\n",
            "Epoch 3/30\n",
            "667/667 [==============================] - 21s 32ms/step - loss: 0.5878 - accuracy: 0.8120 - val_loss: 0.4636 - val_accuracy: 0.8518\n",
            "Epoch 4/30\n",
            "667/667 [==============================] - 12s 18ms/step - loss: 0.4499 - accuracy: 0.8552 - val_loss: 0.3430 - val_accuracy: 0.8850\n",
            "Epoch 5/30\n",
            "667/667 [==============================] - 13s 20ms/step - loss: 0.3549 - accuracy: 0.8838 - val_loss: 0.2977 - val_accuracy: 0.9021\n",
            "Epoch 6/30\n",
            "667/667 [==============================] - 12s 18ms/step - loss: 0.2987 - accuracy: 0.9008 - val_loss: 0.3096 - val_accuracy: 0.9012\n",
            "Epoch 7/30\n",
            "667/667 [==============================] - 12s 17ms/step - loss: 0.2536 - accuracy: 0.9150 - val_loss: 0.2380 - val_accuracy: 0.9218\n",
            "Epoch 8/30\n",
            "667/667 [==============================] - 12s 18ms/step - loss: 0.2261 - accuracy: 0.9234 - val_loss: 0.2373 - val_accuracy: 0.9242\n",
            "Epoch 9/30\n",
            "667/667 [==============================] - 15s 22ms/step - loss: 0.1907 - accuracy: 0.9370 - val_loss: 0.2168 - val_accuracy: 0.9321\n",
            "Epoch 10/30\n",
            "667/667 [==============================] - 13s 20ms/step - loss: 0.1733 - accuracy: 0.9420 - val_loss: 0.2007 - val_accuracy: 0.9372\n",
            "Epoch 11/30\n",
            "667/667 [==============================] - 11s 17ms/step - loss: 0.1633 - accuracy: 0.9453 - val_loss: 0.2491 - val_accuracy: 0.9240\n",
            "Epoch 12/30\n",
            "667/667 [==============================] - 11s 16ms/step - loss: 0.1501 - accuracy: 0.9497 - val_loss: 0.2106 - val_accuracy: 0.9338\n",
            "Epoch 13/30\n",
            "667/667 [==============================] - 12s 18ms/step - loss: 0.1436 - accuracy: 0.9529 - val_loss: 0.1936 - val_accuracy: 0.9381\n",
            "Epoch 14/30\n",
            "667/667 [==============================] - 12s 19ms/step - loss: 0.1349 - accuracy: 0.9553 - val_loss: 0.2022 - val_accuracy: 0.9370\n",
            "Epoch 15/30\n",
            "667/667 [==============================] - 12s 18ms/step - loss: 0.1291 - accuracy: 0.9567 - val_loss: 0.1858 - val_accuracy: 0.9424\n",
            "Epoch 16/30\n",
            "667/667 [==============================] - 11s 17ms/step - loss: 0.1176 - accuracy: 0.9610 - val_loss: 0.1724 - val_accuracy: 0.9480\n",
            "Epoch 17/30\n",
            "667/667 [==============================] - 11s 17ms/step - loss: 0.1144 - accuracy: 0.9616 - val_loss: 0.2075 - val_accuracy: 0.9426\n",
            "Epoch 18/30\n",
            "667/667 [==============================] - 12s 18ms/step - loss: 0.0991 - accuracy: 0.9676 - val_loss: 0.1941 - val_accuracy: 0.9482\n",
            "Epoch 19/30\n",
            "667/667 [==============================] - 12s 18ms/step - loss: 0.1059 - accuracy: 0.9646 - val_loss: 0.3481 - val_accuracy: 0.9132\n",
            "Model training completed.\n"
          ]
        }
      ]
    },
    {
      "cell_type": "code",
      "source": [
        "plot_training_history(history_simpleCNN)"
      ],
      "metadata": {
        "id": "Zn9XUczieoVY",
        "colab": {
          "base_uri": "https://localhost:8080/",
          "height": 353
        },
        "outputId": "12ccae84-7382-4a74-cc24-94086e3f11ad"
      },
      "execution_count": null,
      "outputs": [
        {
          "output_type": "display_data",
          "data": {
            "text/plain": [
              "<Figure size 1200x600 with 2 Axes>"
            ],
            "image/png": "[encoded data removed]"
          },
          "metadata": {}
        }
      ]
    },
    {
      "cell_type": "code",
      "source": [
        "# Increasing rate\n",
        "train_rate_SCNN, val_rate_SCNN = calculate_accuracy_increase_rate(history_simpleCNN)\n",
        "print(\"Training Accuracy Increase Rate:\", train_rate_SCNN)\n",
        "print(\"Validation Accuracy Increase Rate:\", val_rate_SCNN)"
      ],
      "metadata": {
        "colab": {
          "base_uri": "https://localhost:8080/"
        },
        "id": "ubZZ4EK_jRRD",
        "outputId": "f8b793a2-ab8c-4e34-dc07-0b2799397853"
      },
      "execution_count": null,
      "outputs": [
        {
          "output_type": "stream",
          "name": "stdout",
          "text": [
            "Training Accuracy Increase Rate: 0.03557660182317098\n",
            "Validation Accuracy Increase Rate: 0.013034509287940131\n"
          ]
        }
      ]
    },
    {
      "cell_type": "code",
      "source": [
        "# Test the model with the test data\n",
        "test_loss_SCNN, test_accuracy_SCNN = model_CNN.evaluate(test_generator)\n",
        "\n",
        "print(f\"Test Loss: {test_loss_SCNN:.4f}\")\n",
        "print(f\"Test Accuracy: {test_accuracy_SCNN:.4f}\")"
      ],
      "metadata": {
        "colab": {
          "base_uri": "https://localhost:8080/"
        },
        "id": "nU0BSx5cqIvH",
        "outputId": "66f8b8e2-4608-412c-e205-b37bcdc186da"
      },
      "execution_count": null,
      "outputs": [
        {
          "output_type": "stream",
          "name": "stdout",
          "text": [
            "395/395 [==============================] - 10s 24ms/step - loss: 0.8925 - accuracy: 0.8432\n",
            "Test Loss: 0.8925\n",
            "Test Accuracy: 0.8432\n"
          ]
        }
      ]
    },
    {
      "cell_type": "code",
      "source": [
        "# Make predictions on the test data\n",
        "test_pred_SCNN = model_CNN.predict(test_generator)\n",
        "\n",
        "# Convert one-hot encoded predictions back to class labels\n",
        "pred_labels_SCNN = np.argmax(test_pred_SCNN, axis=1)\n",
        "\n",
        "# Calculate the precision score\n",
        "precision_SCNN = precision_score(true_labels, pred_labels_SCNN, average='weighted')\n",
        "\n",
        "print(f\"Precision Score: {precision_SCNN:.4f}\")"
      ],
      "metadata": {
        "colab": {
          "base_uri": "https://localhost:8080/"
        },
        "id": "pRYMAq09qSus",
        "outputId": "5ef6e85c-77c1-40b1-d99a-b7262e024ba2"
      },
      "execution_count": null,
      "outputs": [
        {
          "output_type": "stream",
          "name": "stdout",
          "text": [
            "395/395 [==============================] - 9s 23ms/step\n",
            "Precision Score: 0.8583\n"
          ]
        }
      ]
    },
    {
      "cell_type": "code",
      "source": [
        "# Generate a classification report\n",
        "class_rep_SCNN = classification_report(true_labels, pred_labels_SCNN, target_names=class_names)\n",
        "\n",
        "print(\"Classification Report:\\n\", class_rep_SCNN)"
      ],
      "metadata": {
        "id": "2DxGUG22tefV",
        "colab": {
          "base_uri": "https://localhost:8080/"
        },
        "outputId": "d8d905e5-ab4b-4788-a56c-e711be8ce507"
      },
      "execution_count": null,
      "outputs": [
        {
          "output_type": "stream",
          "name": "stdout",
          "text": [
            "Classification Report:\n",
            "               precision    recall  f1-score   support\n",
            "\n",
            "           0       0.33      0.30      0.32        60\n",
            "           1       0.88      0.83      0.86       720\n",
            "           2       0.96      0.89      0.92       660\n",
            "           3       0.90      0.88      0.89       420\n",
            "           4       0.99      0.99      0.99       690\n",
            "           5       0.99      0.99      0.99       720\n",
            "           6       0.94      0.99      0.97       270\n",
            "           7       0.73      0.89      0.80       210\n",
            "           8       0.86      1.00      0.92       150\n",
            "           9       0.99      0.93      0.95       360\n",
            "          10       0.92      0.63      0.75       390\n",
            "          11       0.38      0.80      0.52        60\n",
            "          12       0.75      0.88      0.81       750\n",
            "          13       0.49      0.72      0.58        90\n",
            "          14       0.36      0.16      0.22        90\n",
            "          15       0.60      0.88      0.72       120\n",
            "          16       0.65      0.83      0.73       150\n",
            "          17       0.91      0.80      0.85        90\n",
            "          18       0.97      0.92      0.94       480\n",
            "          19       0.47      0.88      0.62       180\n",
            "          20       0.38      0.37      0.37        60\n",
            "          21       0.94      0.86      0.90       150\n",
            "          22       0.70      0.68      0.69        90\n",
            "          23       0.77      0.85      0.81       450\n",
            "          24       0.64      0.47      0.54       150\n",
            "          25       0.84      0.84      0.84       270\n",
            "          26       0.89      0.98      0.94        60\n",
            "          27       0.92      1.00      0.96       210\n",
            "          28       0.98      0.99      0.99       120\n",
            "          29       0.99      0.98      0.99       390\n",
            "          30       0.83      0.99      0.90       120\n",
            "          31       0.68      1.00      0.81        60\n",
            "          32       1.00      0.94      0.97       690\n",
            "          33       0.89      0.97      0.93        90\n",
            "          34       0.70      0.88      0.78       660\n",
            "          35       0.57      0.61      0.59        90\n",
            "          36       0.91      0.72      0.80        60\n",
            "          37       0.66      0.97      0.79        90\n",
            "          38       0.69      0.56      0.62       630\n",
            "          39       1.00      0.58      0.73       150\n",
            "          40       0.89      0.73      0.80       450\n",
            "          41       0.93      0.52      0.67       450\n",
            "          42       0.98      0.96      0.97       480\n",
            "\n",
            "    accuracy                           0.84     12630\n",
            "   macro avg       0.79      0.81      0.78     12630\n",
            "weighted avg       0.86      0.84      0.84     12630\n",
            "\n"
          ]
        }
      ]
    },
    {
      "cell_type": "markdown",
      "source": [
        "<h2> Model 2: More complex CNN with regularization</h2>\n",
        "\n"
      ],
      "metadata": {
        "id": "me2jCS4-t0Vj"
      }
    },
    {
      "cell_type": "markdown",
      "source": [
        "More complexity is added to the CNN model with regularization added:\n",
        "\n",
        "Added more convolutional layers with increasing filters to capture more complex features.\n",
        "Added batch normalization layers after each convolutional and dense layer to help stabilize training.\n",
        "Added an additional dense layer with dropout and batch normalization."
      ],
      "metadata": {
        "id": "jjUFO2mmT4RJ"
      }
    },
    {
      "cell_type": "code",
      "source": [
        "# Define the CNN layers\n",
        "input_layer = Input(shape=(30, 30, 3))\n",
        "x = Conv2D(64, (3, 3), activation='relu', kernel_regularizer=regularizers.l2(0.01))(input_layer)\n",
        "x = BatchNormalization()(x)\n",
        "x = MaxPooling2D(2, 2)(x)\n",
        "\n",
        "x = Conv2D(128, (3, 3), activation='relu', kernel_regularizer=regularizers.l2(0.01))(x)\n",
        "x = BatchNormalization()(x)\n",
        "x = MaxPooling2D(2, 2)(x)\n",
        "\n",
        "x = Conv2D(256, (3, 3), activation='relu', kernel_regularizer=regularizers.l2(0.01))(x)\n",
        "x = BatchNormalization()(x)\n",
        "x = MaxPooling2D(2, 2)(x)\n",
        "\n",
        "x = Flatten()(x)\n",
        "x = Dense(512, activation='relu', kernel_regularizer=regularizers.l2(0.01))(x)\n",
        "x = Dropout(0.5)(x)\n",
        "output_layer = Dense(num_classes, activation='softmax')(x)\n",
        "\n",
        "# Create the model\n",
        "model_complex = Model(inputs=input_layer, outputs=output_layer)\n",
        "\n",
        "# Compile the model with a lower learning rate\n",
        "model_complex.compile(optimizer=Adam(learning_rate=0.0001), loss='categorical_crossentropy', metrics=['accuracy'])\n"
      ],
      "metadata": {
        "id": "B57Siq1yYQZL"
      },
      "execution_count": null,
      "outputs": []
    },
    {
      "cell_type": "code",
      "source": [
        "model_complex.summary()"
      ],
      "metadata": {
        "colab": {
          "base_uri": "https://localhost:8080/"
        },
        "id": "BXOBt8CkYt9-",
        "outputId": "143857e0-2880-4169-980e-3d9a5fbfa85a"
      },
      "execution_count": null,
      "outputs": [
        {
          "output_type": "stream",
          "name": "stdout",
          "text": [
            "Model: \"model_3\"\n",
            "_________________________________________________________________\n",
            " Layer (type)                Output Shape              Param #   \n",
            "=================================================================\n",
            " input_4 (InputLayer)        [(None, 30, 30, 3)]       0         \n",
            "                                                                 \n",
            " conv2d_9 (Conv2D)           (None, 28, 28, 64)        1792      \n",
            "                                                                 \n",
            " batch_normalization_3 (Batc  (None, 28, 28, 64)       256       \n",
            " hNormalization)                                                 \n",
            "                                                                 \n",
            " max_pooling2d_9 (MaxPooling  (None, 14, 14, 64)       0         \n",
            " 2D)                                                             \n",
            "                                                                 \n",
            " conv2d_10 (Conv2D)          (None, 12, 12, 128)       73856     \n",
            "                                                                 \n",
            " batch_normalization_4 (Batc  (None, 12, 12, 128)      512       \n",
            " hNormalization)                                                 \n",
            "                                                                 \n",
            " max_pooling2d_10 (MaxPoolin  (None, 6, 6, 128)        0         \n",
            " g2D)                                                            \n",
            "                                                                 \n",
            " conv2d_11 (Conv2D)          (None, 4, 4, 256)         295168    \n",
            "                                                                 \n",
            " batch_normalization_5 (Batc  (None, 4, 4, 256)        1024      \n",
            " hNormalization)                                                 \n",
            "                                                                 \n",
            " max_pooling2d_11 (MaxPoolin  (None, 2, 2, 256)        0         \n",
            " g2D)                                                            \n",
            "                                                                 \n",
            " flatten_3 (Flatten)         (None, 1024)              0         \n",
            "                                                                 \n",
            " dense_6 (Dense)             (None, 512)               524800    \n",
            "                                                                 \n",
            " dropout_3 (Dropout)         (None, 512)               0         \n",
            "                                                                 \n",
            " dense_7 (Dense)             (None, 43)                22059     \n",
            "                                                                 \n",
            "=================================================================\n",
            "Total params: 919,467\n",
            "Trainable params: 918,571\n",
            "Non-trainable params: 896\n",
            "_________________________________________________________________\n"
          ]
        }
      ]
    },
    {
      "cell_type": "code",
      "source": [
        "# Early stopping callback\n",
        "early_stopping = EarlyStopping(monitor='val_loss', patience=3, restore_best_weights=True)\n",
        "\n",
        "# Train the model with data augmentation and early stopping\n",
        "num_epochs = 50\n",
        "history_complex_model = model_complex.fit(train_generator, epochs=num_epochs, validation_data=valid_generator, callbacks=[early_stopping])\n",
        "\n",
        "print(\"Model training completed.\")"
      ],
      "metadata": {
        "colab": {
          "base_uri": "https://localhost:8080/"
        },
        "id": "2YiIxl2kYbXX",
        "outputId": "e2673214-b718-4685-b8f8-f3babf8cd9cc"
      },
      "execution_count": null,
      "outputs": [
        {
          "output_type": "stream",
          "name": "stdout",
          "text": [
            "Epoch 1/50\n",
            "667/667 [==============================] - 17s 21ms/step - loss: 10.7636 - accuracy: 0.4068 - val_loss: 8.6901 - val_accuracy: 0.7234\n",
            "Epoch 2/50\n",
            "667/667 [==============================] - 14s 21ms/step - loss: 7.7293 - accuracy: 0.7066 - val_loss: 6.5958 - val_accuracy: 0.8243\n",
            "Epoch 3/50\n",
            "667/667 [==============================] - 14s 21ms/step - loss: 5.8884 - accuracy: 0.8181 - val_loss: 5.0850 - val_accuracy: 0.8856\n",
            "Epoch 4/50\n",
            "667/667 [==============================] - 14s 20ms/step - loss: 4.5157 - accuracy: 0.8819 - val_loss: 3.9387 - val_accuracy: 0.9113\n",
            "Epoch 5/50\n",
            "667/667 [==============================] - 14s 20ms/step - loss: 3.4781 - accuracy: 0.9132 - val_loss: 3.0561 - val_accuracy: 0.9261\n",
            "Epoch 6/50\n",
            "667/667 [==============================] - 14s 20ms/step - loss: 2.6707 - accuracy: 0.9375 - val_loss: 2.3903 - val_accuracy: 0.9312\n",
            "Epoch 7/50\n",
            "667/667 [==============================] - 16s 24ms/step - loss: 2.0576 - accuracy: 0.9542 - val_loss: 1.8590 - val_accuracy: 0.9409\n",
            "Epoch 8/50\n",
            "667/667 [==============================] - 14s 21ms/step - loss: 1.5909 - accuracy: 0.9675 - val_loss: 1.4923 - val_accuracy: 0.9409\n",
            "Epoch 9/50\n",
            "667/667 [==============================] - 14s 21ms/step - loss: 1.2541 - accuracy: 0.9736 - val_loss: 1.2151 - val_accuracy: 0.9490\n",
            "Epoch 10/50\n",
            "667/667 [==============================] - 14s 21ms/step - loss: 0.9999 - accuracy: 0.9803 - val_loss: 0.9832 - val_accuracy: 0.9563\n",
            "Epoch 11/50\n",
            "667/667 [==============================] - 14s 21ms/step - loss: 0.8142 - accuracy: 0.9831 - val_loss: 0.8472 - val_accuracy: 0.9449\n",
            "Epoch 12/50\n",
            "667/667 [==============================] - 13s 20ms/step - loss: 0.6848 - accuracy: 0.9844 - val_loss: 0.7445 - val_accuracy: 0.9467\n",
            "Epoch 13/50\n",
            "667/667 [==============================] - 13s 20ms/step - loss: 0.5874 - accuracy: 0.9867 - val_loss: 0.6444 - val_accuracy: 0.9556\n",
            "Epoch 14/50\n",
            "667/667 [==============================] - 14s 21ms/step - loss: 0.5190 - accuracy: 0.9872 - val_loss: 0.5915 - val_accuracy: 0.9552\n",
            "Epoch 15/50\n",
            "667/667 [==============================] - 14s 21ms/step - loss: 0.4656 - accuracy: 0.9883 - val_loss: 0.5464 - val_accuracy: 0.9552\n",
            "Epoch 16/50\n",
            "667/667 [==============================] - 14s 21ms/step - loss: 0.4171 - accuracy: 0.9897 - val_loss: 0.5258 - val_accuracy: 0.9501\n",
            "Epoch 17/50\n",
            "667/667 [==============================] - 14s 21ms/step - loss: 0.3830 - accuracy: 0.9902 - val_loss: 0.5225 - val_accuracy: 0.9441\n",
            "Epoch 18/50\n",
            "667/667 [==============================] - 14s 21ms/step - loss: 0.3650 - accuracy: 0.9890 - val_loss: 0.4359 - val_accuracy: 0.9647\n",
            "Epoch 19/50\n",
            "667/667 [==============================] - 14s 21ms/step - loss: 0.3226 - accuracy: 0.9935 - val_loss: 0.4332 - val_accuracy: 0.9539\n",
            "Epoch 20/50\n",
            "667/667 [==============================] - 16s 24ms/step - loss: 0.3155 - accuracy: 0.9891 - val_loss: 0.4703 - val_accuracy: 0.9404\n",
            "Epoch 21/50\n",
            "667/667 [==============================] - 14s 20ms/step - loss: 0.3142 - accuracy: 0.9900 - val_loss: 0.4125 - val_accuracy: 0.9571\n",
            "Epoch 22/50\n",
            "667/667 [==============================] - 14s 20ms/step - loss: 0.2889 - accuracy: 0.9920 - val_loss: 0.4340 - val_accuracy: 0.9475\n",
            "Epoch 23/50\n",
            "667/667 [==============================] - 14s 20ms/step - loss: 0.2942 - accuracy: 0.9886 - val_loss: 0.4372 - val_accuracy: 0.9467\n",
            "Epoch 24/50\n",
            "667/667 [==============================] - 14s 21ms/step - loss: 0.2718 - accuracy: 0.9935 - val_loss: 0.3790 - val_accuracy: 0.9617\n",
            "Epoch 25/50\n",
            "667/667 [==============================] - 14s 21ms/step - loss: 0.2533 - accuracy: 0.9931 - val_loss: 0.3457 - val_accuracy: 0.9617\n",
            "Epoch 26/50\n",
            "667/667 [==============================] - 14s 20ms/step - loss: 0.2468 - accuracy: 0.9924 - val_loss: 0.4219 - val_accuracy: 0.9387\n",
            "Epoch 27/50\n",
            "667/667 [==============================] - 14s 21ms/step - loss: 0.2606 - accuracy: 0.9892 - val_loss: 0.3870 - val_accuracy: 0.9486\n",
            "Epoch 28/50\n",
            "667/667 [==============================] - 14s 20ms/step - loss: 0.2491 - accuracy: 0.9939 - val_loss: 0.3090 - val_accuracy: 0.9715\n",
            "Epoch 29/50\n",
            "667/667 [==============================] - 16s 24ms/step - loss: 0.2382 - accuracy: 0.9915 - val_loss: 0.4567 - val_accuracy: 0.9329\n",
            "Epoch 30/50\n",
            "667/667 [==============================] - 14s 21ms/step - loss: 0.2359 - accuracy: 0.9934 - val_loss: 0.3508 - val_accuracy: 0.9589\n",
            "Epoch 31/50\n",
            "667/667 [==============================] - 16s 25ms/step - loss: 0.2321 - accuracy: 0.9924 - val_loss: 0.3820 - val_accuracy: 0.9437\n",
            "Model training completed.\n"
          ]
        }
      ]
    },
    {
      "cell_type": "code",
      "source": [
        "plot_training_history(history_complex_model)"
      ],
      "metadata": {
        "colab": {
          "base_uri": "https://localhost:8080/",
          "height": 353
        },
        "id": "7LMYWjxCv3Ga",
        "outputId": "cf0b16a2-db86-4d0c-8d6a-dba085769d69"
      },
      "execution_count": null,
      "outputs": [
        {
          "output_type": "display_data",
          "data": {
            "text/plain": [
              "<Figure size 1200x600 with 2 Axes>"
            ],
            "image/png": "[encoded data removed]"
          },
          "metadata": {}
        }
      ]
    },
    {
      "cell_type": "code",
      "source": [
        "# Increasing rate\n",
        "train_rate_complex, val_rate_complex = calculate_accuracy_increase_rate(history_complex_model)\n",
        "print(\"Training Accuracy Increase Rate:\", train_rate_complex)\n",
        "print(\"Validation Accuracy Increase Rate:\", val_rate_complex)"
      ],
      "metadata": {
        "colab": {
          "base_uri": "https://localhost:8080/"
        },
        "id": "MHVWoQyrwTk6",
        "outputId": "2590bffc-0139-4294-f0da-435aac536d9d"
      },
      "execution_count": null,
      "outputs": [
        {
          "output_type": "stream",
          "name": "stdout",
          "text": [
            "Training Accuracy Increase Rate: 0.01952050526936849\n",
            "Validation Accuracy Increase Rate: 0.0073455870151519775\n"
          ]
        }
      ]
    },
    {
      "cell_type": "code",
      "source": [
        "# Test the model with the test data\n",
        "test_loss_complex, test_accuracy_complex = model_complex.evaluate(test_generator)\n",
        "\n",
        "print(f\"Test Loss: {test_loss_complex:.4f}\")\n",
        "print(f\"Test Accuracy: {test_accuracy_complex:.4f}\")"
      ],
      "metadata": {
        "colab": {
          "base_uri": "https://localhost:8080/"
        },
        "id": "u2UhqO-Wv3r4",
        "outputId": "ca2b79b9-6455-4d58-80c5-45a161b022f4"
      },
      "execution_count": null,
      "outputs": [
        {
          "output_type": "stream",
          "name": "stdout",
          "text": [
            "395/395 [==============================] - 11s 28ms/step - loss: 0.7780 - accuracy: 0.8582\n",
            "Test Loss: 0.7780\n",
            "Test Accuracy: 0.8582\n"
          ]
        }
      ]
    },
    {
      "cell_type": "code",
      "source": [
        "# Make predictions on the test data\n",
        "test_pred_complex = model_complex.predict(test_generator)\n",
        "\n",
        "# Convert one-hot encoded predictions back to class labels\n",
        "predicted_labels_complex = np.argmax(test_pred_complex, axis=1)\n",
        "\n",
        "# Calculate the precision score\n",
        "precision_complex = precision_score(true_labels, predicted_labels_complex, average='weighted')\n",
        "\n",
        "print(f\"Precision Score: {precision_complex:.4f}\")"
      ],
      "metadata": {
        "colab": {
          "base_uri": "https://localhost:8080/"
        },
        "id": "NGjoJfhUv31a",
        "outputId": "68bff41e-0f95-415b-cbb0-9843c146461c"
      },
      "execution_count": null,
      "outputs": [
        {
          "output_type": "stream",
          "name": "stdout",
          "text": [
            "395/395 [==============================] - 11s 27ms/step\n",
            "Precision Score: 0.8843\n"
          ]
        }
      ]
    },
    {
      "cell_type": "code",
      "source": [
        "# Generate a classification report\n",
        "class_rep_complex = classification_report(true_labels, predicted_labels_complex, target_names=class_names)\n",
        "\n",
        "print(\"Classification Report:\\n\", class_rep_complex)"
      ],
      "metadata": {
        "colab": {
          "base_uri": "https://localhost:8080/"
        },
        "id": "YtZr-SxJwJEQ",
        "outputId": "2c213adb-21bf-4577-956e-51313050f261"
      },
      "execution_count": null,
      "outputs": [
        {
          "output_type": "stream",
          "name": "stdout",
          "text": [
            "Classification Report:\n",
            "               precision    recall  f1-score   support\n",
            "\n",
            "           0       0.53      0.70      0.60        60\n",
            "           1       0.97      0.80      0.88       720\n",
            "           2       1.00      0.86      0.92       660\n",
            "           3       0.92      0.93      0.93       420\n",
            "           4       0.95      1.00      0.97       690\n",
            "           5       0.99      0.99      0.99       720\n",
            "           6       0.99      0.92      0.95       270\n",
            "           7       0.78      0.93      0.85       210\n",
            "           8       0.96      1.00      0.98       150\n",
            "           9       0.96      0.98      0.97       360\n",
            "          10       0.98      0.62      0.76       390\n",
            "          11       0.58      0.88      0.70        60\n",
            "          12       0.91      0.81      0.86       750\n",
            "          13       0.65      0.81      0.72        90\n",
            "          14       0.94      0.52      0.67        90\n",
            "          15       0.82      0.88      0.85       120\n",
            "          16       0.80      0.69      0.74       150\n",
            "          17       0.89      0.84      0.87        90\n",
            "          18       0.99      0.95      0.97       480\n",
            "          19       0.38      0.98      0.54       180\n",
            "          20       0.65      0.25      0.36        60\n",
            "          21       0.95      0.88      0.91       150\n",
            "          22       0.84      0.57      0.68        90\n",
            "          23       0.61      0.90      0.72       450\n",
            "          24       0.70      0.55      0.61       150\n",
            "          25       0.68      0.93      0.79       270\n",
            "          26       0.82      1.00      0.90        60\n",
            "          27       0.98      1.00      0.99       210\n",
            "          28       0.96      0.99      0.98       120\n",
            "          29       1.00      0.97      0.99       390\n",
            "          30       0.99      0.89      0.94       120\n",
            "          31       0.74      1.00      0.85        60\n",
            "          32       1.00      0.98      0.99       690\n",
            "          33       0.85      0.96      0.90        90\n",
            "          34       0.81      0.90      0.85       660\n",
            "          35       0.33      0.77      0.46        90\n",
            "          36       0.98      0.68      0.80        60\n",
            "          37       0.81      0.98      0.88        90\n",
            "          38       0.69      0.49      0.57       630\n",
            "          39       0.98      0.77      0.87       150\n",
            "          40       0.82      0.76      0.79       450\n",
            "          41       0.91      0.70      0.79       450\n",
            "          42       0.93      0.99      0.96       480\n",
            "\n",
            "    accuracy                           0.86     12630\n",
            "   macro avg       0.84      0.84      0.82     12630\n",
            "weighted avg       0.88      0.86      0.86     12630\n",
            "\n"
          ]
        }
      ]
    },
    {
      "cell_type": "markdown",
      "source": [
        "<h2> Model 3: Even more complex CNN with regularization and more layers</h2>"
      ],
      "metadata": {
        "id": "NxP02q59wPQ2"
      }
    },
    {
      "cell_type": "code",
      "source": [
        "# Define the CNN layers\n",
        "input_layer = Input(shape=(30, 30, 3))\n",
        "x = Conv2D(64, (3, 3), activation='relu', kernel_regularizer=regularizers.l2(0.01))(input_layer)\n",
        "x = BatchNormalization()(x)\n",
        "x = MaxPooling2D(2, 2)(x)\n",
        "\n",
        "x = Conv2D(128, (3, 3), activation='relu', kernel_regularizer=regularizers.l2(0.01))(x)\n",
        "x = BatchNormalization()(x)\n",
        "x = MaxPooling2D(2, 2)(x)\n",
        "\n",
        "x = Conv2D(256, (3, 3), activation='relu', kernel_regularizer=regularizers.l2(0.01))(x)\n",
        "x = BatchNormalization()(x)\n",
        "x = MaxPooling2D(2, 2)(x)\n",
        "\n",
        "x = Flatten()(x)\n",
        "x = Dense(512, activation='relu', kernel_regularizer=regularizers.l2(0.01))(x)\n",
        "x = Dropout(0.5)(x)\n",
        "output_layer = Dense(num_classes, activation='softmax')(x)\n",
        "# Create the model\n",
        "model_more_complex = Model(inputs=input_layer, outputs=output_layer)\n",
        "\n",
        "# Compile the model with a lower learning rate\n",
        "model_more_complex.compile(optimizer=RMSprop(learning_rate=0.0001), loss='categorical_crossentropy', metrics=['accuracy'])\n"
      ],
      "metadata": {
        "id": "v7yCUqraioFY"
      },
      "execution_count": null,
      "outputs": []
    },
    {
      "cell_type": "code",
      "source": [
        "model_more_complex.summary()"
      ],
      "metadata": {
        "colab": {
          "base_uri": "https://localhost:8080/"
        },
        "id": "RtwjmB0vkwK6",
        "outputId": "c9234fd2-88f2-44ef-fb48-3efdad035c04"
      },
      "execution_count": null,
      "outputs": [
        {
          "output_type": "stream",
          "name": "stdout",
          "text": [
            "Model: \"model_4\"\n",
            "_________________________________________________________________\n",
            " Layer (type)                Output Shape              Param #   \n",
            "=================================================================\n",
            " input_8 (InputLayer)        [(None, 30, 30, 3)]       0         \n",
            "                                                                 \n",
            " conv2d_27 (Conv2D)          (None, 28, 28, 64)        1792      \n",
            "                                                                 \n",
            " batch_normalization_22 (Bat  (None, 28, 28, 64)       256       \n",
            " chNormalization)                                                \n",
            "                                                                 \n",
            " max_pooling2d_25 (MaxPoolin  (None, 14, 14, 64)       0         \n",
            " g2D)                                                            \n",
            "                                                                 \n",
            " conv2d_28 (Conv2D)          (None, 12, 12, 128)       73856     \n",
            "                                                                 \n",
            " batch_normalization_23 (Bat  (None, 12, 12, 128)      512       \n",
            " chNormalization)                                                \n",
            "                                                                 \n",
            " max_pooling2d_26 (MaxPoolin  (None, 6, 6, 128)        0         \n",
            " g2D)                                                            \n",
            "                                                                 \n",
            " conv2d_29 (Conv2D)          (None, 4, 4, 256)         295168    \n",
            "                                                                 \n",
            " batch_normalization_24 (Bat  (None, 4, 4, 256)        1024      \n",
            " chNormalization)                                                \n",
            "                                                                 \n",
            " max_pooling2d_27 (MaxPoolin  (None, 2, 2, 256)        0         \n",
            " g2D)                                                            \n",
            "                                                                 \n",
            " flatten_4 (Flatten)         (None, 1024)              0         \n",
            "                                                                 \n",
            " dense_8 (Dense)             (None, 512)               524800    \n",
            "                                                                 \n",
            " dropout_7 (Dropout)         (None, 512)               0         \n",
            "                                                                 \n",
            " dense_9 (Dense)             (None, 43)                22059     \n",
            "                                                                 \n",
            "=================================================================\n",
            "Total params: 919,467\n",
            "Trainable params: 918,571\n",
            "Non-trainable params: 896\n",
            "_________________________________________________________________\n"
          ]
        }
      ]
    },
    {
      "cell_type": "code",
      "source": [
        "# Compile the model with a lower learning rate\n",
        "model_more_complex.compile(optimizer=RMSprop(learning_rate=0.0001), loss='categorical_crossentropy', metrics=['accuracy'])\n",
        "\n",
        "# Early stopping callback\n",
        "early_stopping = EarlyStopping(monitor='val_loss', patience=3, restore_best_weights=True)\n",
        "\n",
        "# Train the model\n",
        "num_epochs = 50\n",
        "history_more_complex_model = model_more_complex.fit(train_generator, epochs=num_epochs, validation_data=valid_generator, callbacks=[early_stopping])\n",
        "\n",
        "print(\"Model training completed.\")"
      ],
      "metadata": {
        "colab": {
          "base_uri": "https://localhost:8080/"
        },
        "id": "vjvOOI-fjmqk",
        "outputId": "a489a50a-77be-4b2d-9e7a-0cfc26e97af1"
      },
      "execution_count": null,
      "outputs": [
        {
          "output_type": "stream",
          "name": "stdout",
          "text": [
            "Epoch 1/50\n",
            "667/667 [==============================] - 18s 23ms/step - loss: 10.4645 - accuracy: 0.4272 - val_loss: 8.3528 - val_accuracy: 0.7140\n",
            "Epoch 2/50\n",
            "667/667 [==============================] - 15s 22ms/step - loss: 7.2973 - accuracy: 0.7176 - val_loss: 6.1316 - val_accuracy: 0.8380\n",
            "Epoch 3/50\n",
            "667/667 [==============================] - 13s 19ms/step - loss: 5.3985 - accuracy: 0.8265 - val_loss: 4.6169 - val_accuracy: 0.8742\n",
            "Epoch 4/50\n",
            "667/667 [==============================] - 13s 19ms/step - loss: 4.0231 - accuracy: 0.8776 - val_loss: 3.4398 - val_accuracy: 0.9104\n",
            "Epoch 5/50\n",
            "667/667 [==============================] - 13s 19ms/step - loss: 2.9605 - accuracy: 0.9182 - val_loss: 2.5850 - val_accuracy: 0.9261\n",
            "Epoch 6/50\n",
            "667/667 [==============================] - 12s 18ms/step - loss: 2.1902 - accuracy: 0.9434 - val_loss: 1.9633 - val_accuracy: 0.9269\n",
            "Epoch 7/50\n",
            "667/667 [==============================] - 12s 19ms/step - loss: 1.6407 - accuracy: 0.9560 - val_loss: 1.4911 - val_accuracy: 0.9405\n",
            "Epoch 8/50\n",
            "667/667 [==============================] - 12s 19ms/step - loss: 1.2542 - accuracy: 0.9672 - val_loss: 1.1995 - val_accuracy: 0.9409\n",
            "Epoch 9/50\n",
            "667/667 [==============================] - 12s 18ms/step - loss: 0.9793 - accuracy: 0.9752 - val_loss: 0.9769 - val_accuracy: 0.9390\n",
            "Epoch 10/50\n",
            "667/667 [==============================] - 12s 18ms/step - loss: 0.7748 - accuracy: 0.9819 - val_loss: 0.8128 - val_accuracy: 0.9464\n",
            "Epoch 11/50\n",
            "667/667 [==============================] - 13s 20ms/step - loss: 0.6276 - accuracy: 0.9845 - val_loss: 0.6548 - val_accuracy: 0.9578\n",
            "Epoch 12/50\n",
            "667/667 [==============================] - 12s 19ms/step - loss: 0.5267 - accuracy: 0.9857 - val_loss: 0.5876 - val_accuracy: 0.9571\n",
            "Epoch 13/50\n",
            "667/667 [==============================] - 12s 18ms/step - loss: 0.4479 - accuracy: 0.9879 - val_loss: 0.5219 - val_accuracy: 0.9535\n",
            "Epoch 14/50\n",
            "667/667 [==============================] - 12s 17ms/step - loss: 0.3897 - accuracy: 0.9895 - val_loss: 0.4668 - val_accuracy: 0.9552\n",
            "Epoch 15/50\n",
            "667/667 [==============================] - 13s 20ms/step - loss: 0.3451 - accuracy: 0.9901 - val_loss: 0.4021 - val_accuracy: 0.9653\n",
            "Epoch 16/50\n",
            "667/667 [==============================] - 12s 18ms/step - loss: 0.3049 - accuracy: 0.9919 - val_loss: 0.4428 - val_accuracy: 0.9471\n",
            "Epoch 17/50\n",
            "667/667 [==============================] - 12s 19ms/step - loss: 0.2791 - accuracy: 0.9910 - val_loss: 0.3844 - val_accuracy: 0.9595\n",
            "Epoch 18/50\n",
            "667/667 [==============================] - 12s 18ms/step - loss: 0.2513 - accuracy: 0.9929 - val_loss: 0.3522 - val_accuracy: 0.9597\n",
            "Epoch 19/50\n",
            "667/667 [==============================] - 12s 17ms/step - loss: 0.2358 - accuracy: 0.9923 - val_loss: 0.3146 - val_accuracy: 0.9653\n",
            "Epoch 20/50\n",
            "667/667 [==============================] - 12s 19ms/step - loss: 0.2197 - accuracy: 0.9927 - val_loss: 0.2876 - val_accuracy: 0.9683\n",
            "Epoch 21/50\n",
            "667/667 [==============================] - 12s 19ms/step - loss: 0.2082 - accuracy: 0.9917 - val_loss: 0.2968 - val_accuracy: 0.9619\n",
            "Epoch 22/50\n",
            "667/667 [==============================] - 12s 19ms/step - loss: 0.1987 - accuracy: 0.9925 - val_loss: 0.2980 - val_accuracy: 0.9606\n",
            "Epoch 23/50\n",
            "667/667 [==============================] - 12s 18ms/step - loss: 0.1894 - accuracy: 0.9926 - val_loss: 0.2808 - val_accuracy: 0.9647\n",
            "Epoch 24/50\n",
            "667/667 [==============================] - 12s 18ms/step - loss: 0.1837 - accuracy: 0.9919 - val_loss: 0.2522 - val_accuracy: 0.9687\n",
            "Epoch 25/50\n",
            "667/667 [==============================] - 12s 18ms/step - loss: 0.1748 - accuracy: 0.9932 - val_loss: 0.2723 - val_accuracy: 0.9619\n",
            "Epoch 26/50\n",
            "667/667 [==============================] - 12s 18ms/step - loss: 0.1669 - accuracy: 0.9936 - val_loss: 0.2338 - val_accuracy: 0.9704\n",
            "Epoch 27/50\n",
            "667/667 [==============================] - 12s 18ms/step - loss: 0.1598 - accuracy: 0.9941 - val_loss: 0.2580 - val_accuracy: 0.9636\n",
            "Epoch 28/50\n",
            "667/667 [==============================] - 13s 19ms/step - loss: 0.1578 - accuracy: 0.9933 - val_loss: 0.2766 - val_accuracy: 0.9595\n",
            "Epoch 29/50\n",
            "667/667 [==============================] - 12s 18ms/step - loss: 0.1526 - accuracy: 0.9940 - val_loss: 0.2299 - val_accuracy: 0.9692\n",
            "Epoch 30/50\n",
            "667/667 [==============================] - 12s 19ms/step - loss: 0.1509 - accuracy: 0.9925 - val_loss: 0.2298 - val_accuracy: 0.9668\n",
            "Epoch 31/50\n",
            "667/667 [==============================] - 12s 19ms/step - loss: 0.1450 - accuracy: 0.9942 - val_loss: 0.2537 - val_accuracy: 0.9610\n",
            "Epoch 32/50\n",
            "667/667 [==============================] - 12s 19ms/step - loss: 0.1446 - accuracy: 0.9932 - val_loss: 0.2563 - val_accuracy: 0.9601\n",
            "Epoch 33/50\n",
            "667/667 [==============================] - 13s 19ms/step - loss: 0.1414 - accuracy: 0.9940 - val_loss: 0.2142 - val_accuracy: 0.9694\n",
            "Epoch 34/50\n",
            "667/667 [==============================] - 12s 18ms/step - loss: 0.1406 - accuracy: 0.9935 - val_loss: 0.2254 - val_accuracy: 0.9676\n",
            "Epoch 35/50\n",
            "667/667 [==============================] - 12s 18ms/step - loss: 0.1357 - accuracy: 0.9941 - val_loss: 0.2111 - val_accuracy: 0.9698\n",
            "Epoch 36/50\n",
            "667/667 [==============================] - 13s 19ms/step - loss: 0.1325 - accuracy: 0.9941 - val_loss: 0.2188 - val_accuracy: 0.9666\n",
            "Epoch 37/50\n",
            "667/667 [==============================] - 14s 22ms/step - loss: 0.1318 - accuracy: 0.9947 - val_loss: 0.2064 - val_accuracy: 0.9722\n",
            "Epoch 38/50\n",
            "667/667 [==============================] - 13s 20ms/step - loss: 0.1313 - accuracy: 0.9936 - val_loss: 0.2311 - val_accuracy: 0.9634\n",
            "Epoch 39/50\n",
            "667/667 [==============================] - 12s 18ms/step - loss: 0.1262 - accuracy: 0.9948 - val_loss: 0.2107 - val_accuracy: 0.9657\n",
            "Epoch 40/50\n",
            "667/667 [==============================] - 12s 18ms/step - loss: 0.1252 - accuracy: 0.9940 - val_loss: 0.2387 - val_accuracy: 0.9617\n",
            "Model training completed.\n"
          ]
        }
      ]
    },
    {
      "cell_type": "code",
      "source": [
        "plot_training_history(history_more_complex_model)"
      ],
      "metadata": {
        "id": "1ZIG9-9wVd4C",
        "colab": {
          "base_uri": "https://localhost:8080/",
          "height": 353
        },
        "outputId": "bf5b9312-17d9-42c5-a9ce-e4449db8d8e3"
      },
      "execution_count": null,
      "outputs": [
        {
          "output_type": "display_data",
          "data": {
            "text/plain": [
              "<Figure size 1200x600 with 2 Axes>"
            ],
            "image/png": "[encoded data removed]"
          },
          "metadata": {}
        }
      ]
    },
    {
      "cell_type": "code",
      "source": [
        "# Increasing rate\n",
        "train_rate_mComplex, val_rate_mComplex = calculate_accuracy_increase_rate(history_more_complex_model)\n",
        "print(\"Training Accuracy Increase Rate:\", train_rate_mComplex)\n",
        "print(\"Validation Accuracy Increase Rate:\", val_rate_mComplex)"
      ],
      "metadata": {
        "id": "BlPptPKHjZOQ",
        "colab": {
          "base_uri": "https://localhost:8080/"
        },
        "outputId": "266dd4c4-e2b8-47b9-9d55-13e6b63e96d1"
      },
      "execution_count": null,
      "outputs": [
        {
          "output_type": "stream",
          "name": "stdout",
          "text": [
            "Training Accuracy Increase Rate: 0.014534883774243869\n",
            "Validation Accuracy Increase Rate: 0.006352549944168482\n"
          ]
        }
      ]
    },
    {
      "cell_type": "code",
      "source": [
        "# Test the model with the test data\n",
        "test_loss_mComplex, test_accuracy_mComplex = model_more_complex.evaluate(test_generator)\n",
        "\n",
        "print(f\"Test Loss: {test_loss_mComplex:.4f}\")\n",
        "print(f\"Test Accuracy: {test_accuracy_mComplex:.4f}\")"
      ],
      "metadata": {
        "id": "lOQJcz2duiua",
        "colab": {
          "base_uri": "https://localhost:8080/"
        },
        "outputId": "d1efcb07-1c58-44ad-8069-c2ce6b4f625c"
      },
      "execution_count": null,
      "outputs": [
        {
          "output_type": "stream",
          "name": "stdout",
          "text": [
            "395/395 [==============================] - 11s 27ms/step - loss: 0.7019 - accuracy: 0.8594\n",
            "Test Loss: 0.7019\n",
            "Test Accuracy: 0.8594\n"
          ]
        }
      ]
    },
    {
      "cell_type": "code",
      "source": [
        "# Make predictions on the test data\n",
        "test_pred_mComplex = model_more_complex.predict(test_generator)\n",
        "\n",
        "# Convert one-hot encoded predictions back to class labels\n",
        "predicted_labels_mComplex = np.argmax(test_pred_mComplex, axis=1)\n",
        "\n",
        "# Calculate the precision score\n",
        "precision_mComplex = precision_score(true_labels, predicted_labels_mComplex, average='weighted')\n",
        "\n",
        "print(f\"Precision Score: {precision_mComplex:.4f}\")"
      ],
      "metadata": {
        "id": "9r6PFojTuqq9",
        "colab": {
          "base_uri": "https://localhost:8080/"
        },
        "outputId": "92e61f32-5a59-4d04-d598-1250cd80b2fc"
      },
      "execution_count": null,
      "outputs": [
        {
          "output_type": "stream",
          "name": "stdout",
          "text": [
            "395/395 [==============================] - 9s 21ms/step\n",
            "Precision Score: 0.8786\n"
          ]
        }
      ]
    },
    {
      "cell_type": "code",
      "source": [
        "# Generate a classification report\n",
        "class_rep_mComplex = classification_report(true_labels, predicted_labels_mComplex, target_names=class_names)\n",
        "\n",
        "print(\"Classification Report:\\n\", class_rep_mComplex)"
      ],
      "metadata": {
        "colab": {
          "base_uri": "https://localhost:8080/"
        },
        "id": "omduGPdyO7Nz",
        "outputId": "6a0609ed-3132-4b85-a66d-e9a03509f67b"
      },
      "execution_count": null,
      "outputs": [
        {
          "output_type": "stream",
          "name": "stdout",
          "text": [
            "Classification Report:\n",
            "               precision    recall  f1-score   support\n",
            "\n",
            "           0       0.67      0.68      0.68        60\n",
            "           1       0.87      0.92      0.89       720\n",
            "           2       0.99      0.95      0.97       660\n",
            "           3       0.88      0.93      0.90       420\n",
            "           4       0.99      0.97      0.98       690\n",
            "           5       0.98      0.99      0.98       720\n",
            "           6       1.00      0.94      0.97       270\n",
            "           7       0.58      0.88      0.70       210\n",
            "           8       0.93      0.99      0.96       150\n",
            "           9       0.99      0.96      0.97       360\n",
            "          10       0.94      0.71      0.81       390\n",
            "          11       0.56      0.72      0.63        60\n",
            "          12       0.76      0.87      0.81       750\n",
            "          13       0.38      0.82      0.52        90\n",
            "          14       0.80      0.18      0.29        90\n",
            "          15       0.63      0.83      0.72       120\n",
            "          16       0.63      0.69      0.66       150\n",
            "          17       0.78      0.80      0.79        90\n",
            "          18       0.96      0.92      0.94       480\n",
            "          19       0.64      0.67      0.65       180\n",
            "          20       0.20      0.42      0.27        60\n",
            "          21       0.66      0.89      0.76       150\n",
            "          22       0.70      0.79      0.74        90\n",
            "          23       0.59      0.90      0.71       450\n",
            "          24       0.92      0.23      0.36       150\n",
            "          25       0.71      0.84      0.77       270\n",
            "          26       0.38      1.00      0.55        60\n",
            "          27       0.96      1.00      0.98       210\n",
            "          28       0.92      0.99      0.95       120\n",
            "          29       1.00      0.96      0.98       390\n",
            "          30       0.94      0.88      0.91       120\n",
            "          31       0.56      1.00      0.72        60\n",
            "          32       0.99      0.92      0.95       690\n",
            "          33       0.92      0.97      0.94        90\n",
            "          34       0.92      0.80      0.86       660\n",
            "          35       0.71      0.78      0.74        90\n",
            "          36       0.68      0.65      0.67        60\n",
            "          37       0.77      0.82      0.80        90\n",
            "          38       0.88      0.38      0.53       630\n",
            "          39       0.94      0.67      0.78       150\n",
            "          40       0.87      0.59      0.70       450\n",
            "          41       0.79      0.78      0.79       450\n",
            "          42       0.98      0.98      0.98       480\n",
            "\n",
            "    accuracy                           0.84     12630\n",
            "   macro avg       0.79      0.81      0.77     12630\n",
            "weighted avg       0.87      0.84      0.84     12630\n",
            "\n"
          ]
        }
      ]
    },
    {
      "cell_type": "markdown",
      "source": [
        "<h1> 2.3 Saving the model</h1>"
      ],
      "metadata": {
        "id": "hPIoN9AEBbSc"
      }
    },
    {
      "cell_type": "code",
      "source": [
        "model.save(\"final_CNN_model.h5\")"
      ],
      "metadata": {
        "id": "Xfuln5m4C3R7"
      },
      "execution_count": null,
      "outputs": []
    },
    {
      "cell_type": "code",
      "source": [
        "def save_training_history(history, filename):\n",
        "    # Create a DataFrame from the training history\n",
        "    history_df = pd.DataFrame(history.history)\n",
        "\n",
        "    # Save the DataFrame to a CSV file\n",
        "    history_df.to_csv(filename, index=False)\n",
        "\n",
        "    # Print the first few rows of the history DataFrame\n",
        "    print(history_df.head())"
      ],
      "metadata": {
        "id": "jD8a_DTcBd5C"
      },
      "execution_count": null,
      "outputs": []
    },
    {
      "cell_type": "code",
      "source": [
        "save_training_history(history_simpleCNN, 'training_history_simpleCNN.csv')"
      ],
      "metadata": {
        "id": "hIWdpGeiBwBV"
      },
      "execution_count": null,
      "outputs": []
    },
    {
      "cell_type": "code",
      "source": [
        "save_training_history(history_normCNN, 'training_history_normCNN.csv')"
      ],
      "metadata": {
        "id": "J6DAvrGfBpQB"
      },
      "execution_count": null,
      "outputs": []
    },
    {
      "cell_type": "code",
      "source": [
        "import shutil\n",
        "import os\n",
        "\n",
        "# Define the destination directory in Google Drive\n",
        "dest_dir = '/content/drive/MyDrive/final/training_models/CNN/'\n",
        "\n",
        "# Create the destination directory if it doesn't exist\n",
        "os.makedirs(dest_dir, exist_ok=True)\n",
        "\n",
        "# Define the source paths\n",
        "src_paths = [\n",
        "    'final_CNN_model.h5',\n",
        "    'training_history_simpleCNN.csv',\n",
        "    'training_history_normCNN.csv',\n",
        "]\n",
        "\n",
        "# Copy files to Google Drive\n",
        "for src_path in src_paths:\n",
        "    shutil.copy(src_path, dest_dir)\n",
        "\n",
        "print(\"Files copied to Google Drive successfully.\")"
      ],
      "metadata": {
        "id": "INCKfh3KDhys"
      },
      "execution_count": null,
      "outputs": []
    }
  ]
}